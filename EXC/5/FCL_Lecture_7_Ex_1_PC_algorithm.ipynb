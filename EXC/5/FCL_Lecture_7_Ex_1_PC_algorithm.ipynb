{
  "nbformat": 4,
  "nbformat_minor": 0,
  "metadata": {
    "colab": {
      "provenance": [],
      "collapsed_sections": [],
      "toc_visible": true
    },
    "kernelspec": {
      "display_name": "Python 3",
      "name": "python3"
    }
  },
  "cells": [
    {
      "cell_type": "markdown",
      "metadata": {
        "id": "NnMWpPBxELK2"
      },
      "source": [
        "Loading libraries"
      ]
    },
    {
      "cell_type": "code",
      "metadata": {
        "colab": {
          "base_uri": "https://localhost:8080/"
        },
        "id": "trm8jym3FJXI",
        "outputId": "1ec5b4a0-9626-4de9-b620-d2f89cca56e6"
      },
      "source": [
        "pip install causalgraphicalmodels"
      ],
      "execution_count": 2,
      "outputs": [
        {
          "output_type": "stream",
          "name": "stdout",
          "text": [
            "Looking in indexes: https://pypi.org/simple, https://us-python.pkg.dev/colab-wheels/public/simple/\n",
            "Collecting causalgraphicalmodels\n",
            "  Downloading causalgraphicalmodels-0.0.4-py3-none-any.whl (11 kB)\n",
            "Requirement already satisfied: pandas in /usr/local/lib/python3.7/dist-packages (from causalgraphicalmodels) (1.3.5)\n",
            "Requirement already satisfied: networkx in /usr/local/lib/python3.7/dist-packages (from causalgraphicalmodels) (2.6.3)\n",
            "Requirement already satisfied: numpy in /usr/local/lib/python3.7/dist-packages (from causalgraphicalmodels) (1.21.6)\n",
            "Requirement already satisfied: graphviz in /usr/local/lib/python3.7/dist-packages (from causalgraphicalmodels) (0.10.1)\n",
            "Requirement already satisfied: pytz>=2017.3 in /usr/local/lib/python3.7/dist-packages (from pandas->causalgraphicalmodels) (2022.4)\n",
            "Requirement already satisfied: python-dateutil>=2.7.3 in /usr/local/lib/python3.7/dist-packages (from pandas->causalgraphicalmodels) (2.8.2)\n",
            "Requirement already satisfied: six>=1.5 in /usr/local/lib/python3.7/dist-packages (from python-dateutil>=2.7.3->pandas->causalgraphicalmodels) (1.15.0)\n",
            "Installing collected packages: causalgraphicalmodels\n",
            "Successfully installed causalgraphicalmodels-0.0.4\n"
          ]
        }
      ]
    },
    {
      "cell_type": "code",
      "source": [
        "!pip install ipython-autotime"
      ],
      "metadata": {
        "colab": {
          "base_uri": "https://localhost:8080/"
        },
        "id": "8YwD_yQ4EnSD",
        "outputId": "d0cce4dd-c3c2-4c62-92da-c0169917facf"
      },
      "execution_count": 3,
      "outputs": [
        {
          "output_type": "stream",
          "name": "stdout",
          "text": [
            "Looking in indexes: https://pypi.org/simple, https://us-python.pkg.dev/colab-wheels/public/simple/\n",
            "Collecting ipython-autotime\n",
            "  Downloading ipython_autotime-0.3.1-py2.py3-none-any.whl (6.8 kB)\n",
            "Requirement already satisfied: ipython in /usr/local/lib/python3.7/dist-packages (from ipython-autotime) (7.9.0)\n",
            "Requirement already satisfied: pickleshare in /usr/local/lib/python3.7/dist-packages (from ipython->ipython-autotime) (0.7.5)\n",
            "Requirement already satisfied: setuptools>=18.5 in /usr/local/lib/python3.7/dist-packages (from ipython->ipython-autotime) (57.4.0)\n",
            "Requirement already satisfied: backcall in /usr/local/lib/python3.7/dist-packages (from ipython->ipython-autotime) (0.2.0)\n",
            "Requirement already satisfied: pexpect in /usr/local/lib/python3.7/dist-packages (from ipython->ipython-autotime) (4.8.0)\n",
            "Requirement already satisfied: traitlets>=4.2 in /usr/local/lib/python3.7/dist-packages (from ipython->ipython-autotime) (5.1.1)\n",
            "Requirement already satisfied: prompt-toolkit<2.1.0,>=2.0.0 in /usr/local/lib/python3.7/dist-packages (from ipython->ipython-autotime) (2.0.10)\n",
            "Requirement already satisfied: pygments in /usr/local/lib/python3.7/dist-packages (from ipython->ipython-autotime) (2.6.1)\n",
            "Requirement already satisfied: decorator in /usr/local/lib/python3.7/dist-packages (from ipython->ipython-autotime) (4.4.2)\n",
            "Collecting jedi>=0.10\n",
            "  Downloading jedi-0.18.1-py2.py3-none-any.whl (1.6 MB)\n",
            "\u001b[K     |████████████████████████████████| 1.6 MB 12.8 MB/s \n",
            "\u001b[?25hRequirement already satisfied: parso<0.9.0,>=0.8.0 in /usr/local/lib/python3.7/dist-packages (from jedi>=0.10->ipython->ipython-autotime) (0.8.3)\n",
            "Requirement already satisfied: wcwidth in /usr/local/lib/python3.7/dist-packages (from prompt-toolkit<2.1.0,>=2.0.0->ipython->ipython-autotime) (0.2.5)\n",
            "Requirement already satisfied: six>=1.9.0 in /usr/local/lib/python3.7/dist-packages (from prompt-toolkit<2.1.0,>=2.0.0->ipython->ipython-autotime) (1.15.0)\n",
            "Requirement already satisfied: ptyprocess>=0.5 in /usr/local/lib/python3.7/dist-packages (from pexpect->ipython->ipython-autotime) (0.7.0)\n",
            "Installing collected packages: jedi, ipython-autotime\n",
            "Successfully installed ipython-autotime-0.3.1 jedi-0.18.1\n"
          ]
        }
      ]
    },
    {
      "cell_type": "code",
      "metadata": {
        "id": "_gsreLGhEBlT"
      },
      "source": [
        "import numpy as np\n",
        "import matplotlib.pyplot as plt\n",
        "from matplotlib.pyplot import figure\n",
        "\n",
        "from causalgraphicalmodels import StructuralCausalModel\n",
        "from causalgraphicalmodels.csm import discrete_model, linear_model\n",
        "\n",
        "import networkx as nx\n",
        "import itertools"
      ],
      "execution_count": 4,
      "outputs": []
    },
    {
      "cell_type": "markdown",
      "metadata": {
        "id": "gjUtFFb-0QES"
      },
      "source": [
        "Functions for independence testing"
      ]
    },
    {
      "cell_type": "code",
      "metadata": {
        "id": "AtvvvlRa0Sp8"
      },
      "source": [
        "def is_indep(arr_1, arr_2, threshold=0.01, verbose=False):\n",
        "    diff = arr_1.mean() * arr_2.mean() - (arr_1 * arr_2).mean()\n",
        "    if verbose:\n",
        "        print(diff)\n",
        "    return abs(diff) < threshold\n",
        "\n",
        "def is_cond_independent(data_df, var_1, var_2, cond_set):\n",
        "    # create a copy with different combinations of values in cond_set\n",
        "    data_df_tmp = data_df.copy()\n",
        "    tmp_arr = data_df_tmp[cond_set[0]].astype(str).values\n",
        "    for el in cond_set[1:]:\n",
        "        tmp_arr += ' ' + data_df_tmp[el].astype(str)\n",
        "    data_df_tmp['cond'] = tmp_arr\n",
        "\n",
        "    # get unique combinations of values in cond_set\n",
        "    cond_vals = data_df_tmp['cond'].unique()\n",
        "\n",
        "    # for every possible combination check if we have independence\n",
        "    for cond_val in cond_vals:\n",
        "        tmp_df = data_df_tmp[data_df_tmp['cond'] == cond_vals[0]]\n",
        "        if not is_indep(tmp_df[var_1].values, tmp_df[var_2].values):\n",
        "            return False\n",
        "    return True"
      ],
      "execution_count": 5,
      "outputs": []
    },
    {
      "cell_type": "markdown",
      "metadata": {
        "id": "JB2TvIFCFRTS"
      },
      "source": [
        "# Generating data"
      ]
    },
    {
      "cell_type": "markdown",
      "metadata": {
        "id": "gg34PPguFfoH"
      },
      "source": [
        "For data generation we will be using python package [`causalgraphicalmodels`](https://github.com/ijmbarr/causalgraphicalmodels)"
      ]
    },
    {
      "cell_type": "code",
      "metadata": {
        "colab": {
          "base_uri": "https://localhost:8080/",
          "height": 272
        },
        "id": "QET6FW8OgCvv",
        "outputId": "bb9728a1-2117-48ce-fe94-c5cdb2f0486a"
      },
      "source": [
        "fd0 = StructuralCausalModel({\n",
        "    \"x\": lambda n_samples: np.random.binomial(n=1, p=0.5, size=n_samples),\n",
        "    \"y\": lambda n_samples: np.random.binomial(n=1, p=0.5, size=n_samples),\n",
        "    \"z\": discrete_model([\"x\", \"y\"], {\n",
        "        (0,0): (0.1,0.9,), \n",
        "        (0,1): (0.3,0.7,),\n",
        "        (1,0): (0.8,0.2,),\n",
        "        (1,1): (0.9,0.1,),\n",
        "        }),\n",
        "    \"w\": discrete_model([\"z\"],{\n",
        "        (0,): (0.8,0.2,),\n",
        "        (1,): (0.1,0.9,), \n",
        "    })\n",
        "})\n",
        "\n",
        "fd0.cgm.draw()"
      ],
      "execution_count": 6,
      "outputs": [
        {
          "output_type": "execute_result",
          "data": {
            "text/plain": [
              "<graphviz.dot.Digraph at 0x7f76feceb690>"
            ],
            "image/svg+xml": "<?xml version=\"1.0\" encoding=\"UTF-8\" standalone=\"no\"?>\n<!DOCTYPE svg PUBLIC \"-//W3C//DTD SVG 1.1//EN\"\n \"http://www.w3.org/Graphics/SVG/1.1/DTD/svg11.dtd\">\n<!-- Generated by graphviz version 2.40.1 (20161225.0304)\n -->\n<!-- Title: %3 Pages: 1 -->\n<svg width=\"134pt\" height=\"188pt\"\n viewBox=\"0.00 0.00 134.00 188.00\" xmlns=\"http://www.w3.org/2000/svg\" xmlns:xlink=\"http://www.w3.org/1999/xlink\">\n<g id=\"graph0\" class=\"graph\" transform=\"scale(1 1) rotate(0) translate(4 184)\">\n<title>%3</title>\n<polygon fill=\"#ffffff\" stroke=\"transparent\" points=\"-4,4 -4,-184 130,-184 130,4 -4,4\"/>\n<!-- w -->\n<g id=\"node1\" class=\"node\">\n<title>w</title>\n<ellipse fill=\"none\" stroke=\"#000000\" cx=\"63\" cy=\"-18\" rx=\"27\" ry=\"18\"/>\n<text text-anchor=\"middle\" x=\"63\" y=\"-14.3\" font-family=\"Times,serif\" font-size=\"14.00\" fill=\"#000000\">w</text>\n</g>\n<!-- y -->\n<g id=\"node2\" class=\"node\">\n<title>y</title>\n<ellipse fill=\"none\" stroke=\"#000000\" cx=\"27\" cy=\"-162\" rx=\"27\" ry=\"18\"/>\n<text text-anchor=\"middle\" x=\"27\" y=\"-158.3\" font-family=\"Times,serif\" font-size=\"14.00\" fill=\"#000000\">y</text>\n</g>\n<!-- z -->\n<g id=\"node4\" class=\"node\">\n<title>z</title>\n<ellipse fill=\"none\" stroke=\"#000000\" cx=\"63\" cy=\"-90\" rx=\"27\" ry=\"18\"/>\n<text text-anchor=\"middle\" x=\"63\" y=\"-86.3\" font-family=\"Times,serif\" font-size=\"14.00\" fill=\"#000000\">z</text>\n</g>\n<!-- y&#45;&gt;z -->\n<g id=\"edge2\" class=\"edge\">\n<title>y&#45;&gt;z</title>\n<path fill=\"none\" stroke=\"#000000\" d=\"M35.7146,-144.5708C39.9597,-136.0807 45.1536,-125.6929 49.8663,-116.2674\"/>\n<polygon fill=\"#000000\" stroke=\"#000000\" points=\"53.024,-117.7782 54.3657,-107.2687 46.763,-114.6477 53.024,-117.7782\"/>\n</g>\n<!-- x -->\n<g id=\"node3\" class=\"node\">\n<title>x</title>\n<ellipse fill=\"none\" stroke=\"#000000\" cx=\"99\" cy=\"-162\" rx=\"27\" ry=\"18\"/>\n<text text-anchor=\"middle\" x=\"99\" y=\"-158.3\" font-family=\"Times,serif\" font-size=\"14.00\" fill=\"#000000\">x</text>\n</g>\n<!-- x&#45;&gt;z -->\n<g id=\"edge1\" class=\"edge\">\n<title>x&#45;&gt;z</title>\n<path fill=\"none\" stroke=\"#000000\" d=\"M90.2854,-144.5708C86.0403,-136.0807 80.8464,-125.6929 76.1337,-116.2674\"/>\n<polygon fill=\"#000000\" stroke=\"#000000\" points=\"79.237,-114.6477 71.6343,-107.2687 72.976,-117.7782 79.237,-114.6477\"/>\n</g>\n<!-- z&#45;&gt;w -->\n<g id=\"edge3\" class=\"edge\">\n<title>z&#45;&gt;w</title>\n<path fill=\"none\" stroke=\"#000000\" d=\"M63,-71.8314C63,-64.131 63,-54.9743 63,-46.4166\"/>\n<polygon fill=\"#000000\" stroke=\"#000000\" points=\"66.5001,-46.4132 63,-36.4133 59.5001,-46.4133 66.5001,-46.4132\"/>\n</g>\n</g>\n</svg>\n"
          },
          "metadata": {},
          "execution_count": 6
        }
      ]
    },
    {
      "cell_type": "markdown",
      "metadata": {
        "id": "H32oyZm9FsWY"
      },
      "source": [
        "Now we can sample data from the generated model"
      ]
    },
    {
      "cell_type": "code",
      "metadata": {
        "id": "wqjiNFuGFD8s"
      },
      "source": [
        "n_samples=1000000\n",
        "# n_samples=1000\n",
        "data_df = fd0.sample(n_samples=n_samples)"
      ],
      "execution_count": 7,
      "outputs": []
    },
    {
      "cell_type": "markdown",
      "metadata": {
        "id": "DtfgM_AzMcv4"
      },
      "source": [
        "# Step 1. Fully connected graph"
      ]
    },
    {
      "cell_type": "code",
      "metadata": {
        "id": "eiIa4E4kPA1r"
      },
      "source": [
        "all_nodes = ['x', 'y', 'z', 'w']\n",
        "nodes_pos = {'x': (1, 5), 'y': (5, 5), 'z': (1, 1), 'w': (5, 1)}"
      ],
      "execution_count": 8,
      "outputs": []
    },
    {
      "cell_type": "code",
      "metadata": {
        "colab": {
          "base_uri": "https://localhost:8080/",
          "height": 247
        },
        "id": "Wjah20FgOFjX",
        "outputId": "c13df16a-52e1-4509-ffea-beb94aec8cd4"
      },
      "source": [
        "G = nx.Graph()\n",
        "G.add_nodes_from(all_nodes)\n",
        "#G.add_nodes_from(tuple(zip(all_nodes, nodes_pos)))\n",
        "\n",
        "for i in range(0, len(all_nodes)):\n",
        "    node_1 = all_nodes[i]\n",
        "    for j in range(i+1, len(all_nodes)):\n",
        "        node_2 = all_nodes[j]\n",
        "        G.add_edge(node_1, node_2)\n",
        "\n",
        "plt.figure(figsize=(5, 3))\n",
        "nx.draw(G, pos=nodes_pos, with_labels=True, font_weight='bold')"
      ],
      "execution_count": 9,
      "outputs": [
        {
          "output_type": "display_data",
          "data": {
            "text/plain": [
              "<Figure size 360x216 with 1 Axes>"
            ],
            "image/png": "[encoded data removed]"
          },
          "metadata": {}
        }
      ]
    },
    {
      "cell_type": "markdown",
      "metadata": {
        "id": "KQcBC_-0K47-"
      },
      "source": [
        "# Step 2. Test unconditional independence"
      ]
    },
    {
      "cell_type": "code",
      "metadata": {
        "colab": {
          "base_uri": "https://localhost:8080/"
        },
        "id": "h8EFiX8-JpXI",
        "outputId": "e223c49a-304d-4621-94b6-b93ca3f762ec"
      },
      "source": [
        "for i in range(0, len(all_nodes)):\n",
        "    var_1 = all_nodes[i]\n",
        "    for j in range(i + 1, len(all_nodes)):\n",
        "        var_2 = all_nodes[j]\n",
        "        # testStat, thresh = hsic_gam(data_df[var_1].values.reshape(-1, 1), data_df[var_2].values.reshape(-1, 1), alph=alph)\n",
        "        # print(testStat, thresh)\n",
        "        print(\"{} and {} are independent: {}\".format(var_1, var_2, \n",
        "                                                     is_indep(data_df[var_1].values, data_df[var_2].values)))"
      ],
      "execution_count": 10,
      "outputs": [
        {
          "output_type": "stream",
          "name": "stdout",
          "text": [
            "x and y are independent: True\n",
            "x and z are independent: False\n",
            "x and w are independent: False\n",
            "y and z are independent: False\n",
            "y and w are independent: False\n",
            "z and w are independent: False\n"
          ]
        }
      ]
    },
    {
      "cell_type": "markdown",
      "metadata": {
        "id": "z_FeQ0mSnD_T"
      },
      "source": [
        "Removing edge between $X$ and $Y$"
      ]
    },
    {
      "cell_type": "code",
      "metadata": {
        "colab": {
          "base_uri": "https://localhost:8080/",
          "height": 247
        },
        "id": "YtEfxxhmJpUC",
        "outputId": "d1375f7a-4f46-4bb6-8340-1d95bb807288"
      },
      "source": [
        "G.remove_edge('x', 'y')\n",
        "plt.figure(figsize=(5, 3))\n",
        "nx.draw(G, pos=nodes_pos, with_labels=True, font_weight='bold')"
      ],
      "execution_count": 11,
      "outputs": [
        {
          "output_type": "display_data",
          "data": {
            "text/plain": [
              "<Figure size 360x216 with 1 Axes>"
            ],
            "image/png": "[encoded data removed]"
          },
          "metadata": {}
        }
      ]
    },
    {
      "cell_type": "markdown",
      "metadata": {
        "id": "QvKg70whTNxV"
      },
      "source": [
        "# Step 3. Condition on 1 variable\n",
        "For each pair of variables ($A$, $B$) having an edge between them, and for each variable $C$ with an edge connected to either of them, eliminate the edge between $A$ and $B$ if $\\left(A ⊥⊥ B\\right) | C$ "
      ]
    },
    {
      "cell_type": "code",
      "metadata": {
        "id": "0e9T6U1eJpRb"
      },
      "source": [
        "combinations = [\n",
        "                ('x', 'z', 'w'), ('x', 'z', 'y'), \n",
        "                ('y', 'w', 'z'), ('y', 'w', 'x'),\n",
        "                ('z', 'w', 'x'), ('z', 'w', 'y'),\n",
        "                ('x', 'w', 'z'), ('x', 'w', 'y'),\n",
        "                ('y', 'z', 'x'), ('y', 'z', 'w'),\n",
        "                ]"
      ],
      "execution_count": 12,
      "outputs": []
    },
    {
      "cell_type": "code",
      "metadata": {
        "colab": {
          "base_uri": "https://localhost:8080/"
        },
        "id": "v2LFd-7UUv3A",
        "outputId": "a6a2e7e3-1271-49f5-9777-3c64eb9c90a7"
      },
      "source": [
        "for var_1, var_2, cond_var in combinations:\n",
        "    print('{} and {} are independent given {} = {}'.format(\n",
        "        var_1, var_2, cond_var, is_cond_independent(data_df, var_1, var_2, [cond_var])\n",
        "    ))"
      ],
      "execution_count": 13,
      "outputs": [
        {
          "output_type": "stream",
          "name": "stdout",
          "text": [
            "x and z are independent given w = False\n",
            "x and z are independent given y = False\n",
            "y and w are independent given z = True\n",
            "y and w are independent given x = False\n",
            "z and w are independent given x = False\n",
            "z and w are independent given y = False\n",
            "x and w are independent given z = True\n",
            "x and w are independent given y = False\n",
            "y and z are independent given x = False\n",
            "y and z are independent given w = False\n"
          ]
        }
      ]
    },
    {
      "cell_type": "markdown",
      "metadata": {
        "id": "NpVqPv3MqL7J"
      },
      "source": [
        "Removing edges between $Y$ and $W$ and between $X$ and $W$"
      ]
    },
    {
      "cell_type": "code",
      "metadata": {
        "colab": {
          "base_uri": "https://localhost:8080/",
          "height": 247
        },
        "id": "jOI-p4eZqhJ_",
        "outputId": "a0fc34c3-471b-498a-df71-ffbea4b87fe2"
      },
      "source": [
        "G.remove_edge('y', 'w')\n",
        "G.remove_edge('x', 'w')\n",
        "plt.figure(figsize=(5, 3))\n",
        "nx.draw(G, pos=nodes_pos, with_labels=True, font_weight='bold')"
      ],
      "execution_count": 14,
      "outputs": [
        {
          "output_type": "display_data",
          "data": {
            "text/plain": [
              "<Figure size 360x216 with 1 Axes>"
            ],
            "image/png": "[encoded data removed]"
          },
          "metadata": {}
        }
      ]
    },
    {
      "cell_type": "markdown",
      "metadata": {
        "id": "bFIBkPY8thgg"
      },
      "source": [
        "# Step 4. ..."
      ]
    },
    {
      "cell_type": "markdown",
      "metadata": {
        "id": "TcrQpv3rtldP"
      },
      "source": [
        "# Step 5. Search for v-structure"
      ]
    },
    {
      "cell_type": "markdown",
      "metadata": {
        "id": "wdVQbZ8Qt07O"
      },
      "source": [
        "Consider 3 cases:\n",
        "1. $W - Z - Y$\n",
        "2. $W - Z - X$\n",
        "3. $X - Z - Y$\n",
        "\n",
        "3-d case can be oriented as $X -> Z <- Y$"
      ]
    },
    {
      "cell_type": "code",
      "metadata": {
        "colab": {
          "base_uri": "https://localhost:8080/",
          "height": 264
        },
        "id": "9CHf5wRsqhAL",
        "outputId": "2c241f1c-c1e4-4109-9d6a-494223659d2d"
      },
      "source": [
        "plt.figure(figsize=(5, 3))\n",
        "nx.draw(G, pos=nodes_pos, with_labels=True, font_weight='bold')\n",
        "\n",
        "plt.arrow(1, 5, 0, -3.65, width=0.05)       # X - > Z\n",
        "plt.arrow(5, 5, -3.75, -3.75, width=0.05)   # Y - > Z"
      ],
      "execution_count": 15,
      "outputs": [
        {
          "output_type": "execute_result",
          "data": {
            "text/plain": [
              "<matplotlib.patches.FancyArrow at 0x7f76eb4d27d0>"
            ]
          },
          "metadata": {},
          "execution_count": 15
        },
        {
          "output_type": "display_data",
          "data": {
            "text/plain": [
              "<Figure size 360x216 with 1 Axes>"
            ],
            "image/png": "[encoded data removed]"
          },
          "metadata": {}
        }
      ]
    },
    {
      "cell_type": "markdown",
      "metadata": {
        "id": "bDfRxn0MzTwb"
      },
      "source": [
        "# Step 6. Orientation propagation"
      ]
    },
    {
      "cell_type": "code",
      "metadata": {
        "colab": {
          "base_uri": "https://localhost:8080/",
          "height": 264
        },
        "id": "qLyujnYPdfGX",
        "outputId": "9b99fa42-a7ae-43a5-b181-498b80ead3ae"
      },
      "source": [
        "plt.figure(figsize=(5, 3))\n",
        "nx.draw(G, pos=nodes_pos, with_labels=True, font_weight='bold')\n",
        "\n",
        "plt.arrow(1, 5, 0, -3.65, width=0.05)       # X - > Z\n",
        "plt.arrow(5, 5, -3.75, -3.75, width=0.05)   # Y - > Z\n",
        "plt.arrow(1, 1, 3.7, 0, width=0.05)   # Z - > W"
      ],
      "execution_count": 16,
      "outputs": [
        {
          "output_type": "execute_result",
          "data": {
            "text/plain": [
              "<matplotlib.patches.FancyArrow at 0x7f76ed381490>"
            ]
          },
          "metadata": {},
          "execution_count": 16
        },
        {
          "output_type": "display_data",
          "data": {
            "text/plain": [
              "<Figure size 360x216 with 1 Axes>"
            ],
            "image/png": "[encoded data removed]"
          },
          "metadata": {}
        }
      ]
    },
    {
      "cell_type": "markdown",
      "metadata": {
        "id": "1jfUWUokcaED"
      },
      "source": [
        "# Excercise 1:\n",
        "\n",
        "Simulate PC algorithm for the following graph (as in the example above)"
      ]
    },
    {
      "cell_type": "code",
      "metadata": {
        "id": "g-vYEkFJzhll",
        "colab": {
          "base_uri": "https://localhost:8080/",
          "height": 464
        },
        "outputId": "a6e458c8-d8c0-4e75-b2ca-84fd94e64833"
      },
      "source": [
        "fd0 = StructuralCausalModel({\n",
        "    \"A\": lambda n_samples: np.random.binomial(n=1, p=0.5, size=n_samples),\n",
        "    \"F\": lambda n_samples: np.random.binomial(n=1, p=0.4, size=n_samples),\n",
        "    \"E\": discrete_model([\"A\"],{\n",
        "        (0,): (0.6,0.4,),\n",
        "        (1,): (0.1,0.9,), \n",
        "    }),\n",
        "    \"G\": discrete_model([\"F\"],{\n",
        "        (0,): (0.1,0.9,),\n",
        "        (1,): (0.8,0.2,), \n",
        "    }),\n",
        "    \"B\": discrete_model([\"F\"],{\n",
        "        (0,): (0.3,0.7,),\n",
        "        (1,): (0.6,0.4,), \n",
        "    }),\n",
        "    \"C\": discrete_model([\"A\", \"B\"], {\n",
        "        (0,0): (0.1,0.9,), \n",
        "        (0,1): (0.3,0.7,),\n",
        "        (1,0): (0.8,0.2,),\n",
        "        (1,1): (0.4,0.6,),\n",
        "        }),\n",
        "    \"D\": discrete_model([\"C\"],{\n",
        "        (0,): (0.1,0.9,),\n",
        "        (1,): (0.9,0.1,), \n",
        "    }),\n",
        "    \"H\": discrete_model([\"D\"],{\n",
        "        (0,): (0.6,0.4,), \n",
        "        (1,): (0.9,0.1,),\n",
        "    })\n",
        "})\n",
        "\n",
        "fd0.cgm.draw()"
      ],
      "execution_count": 17,
      "outputs": [
        {
          "output_type": "execute_result",
          "data": {
            "text/plain": [
              "<graphviz.dot.Digraph at 0x7f76ed378590>"
            ],
            "image/svg+xml": "<?xml version=\"1.0\" encoding=\"UTF-8\" standalone=\"no\"?>\n<!DOCTYPE svg PUBLIC \"-//W3C//DTD SVG 1.1//EN\"\n \"http://www.w3.org/Graphics/SVG/1.1/DTD/svg11.dtd\">\n<!-- Generated by graphviz version 2.40.1 (20161225.0304)\n -->\n<!-- Title: %3 Pages: 1 -->\n<svg width=\"206pt\" height=\"332pt\"\n viewBox=\"0.00 0.00 206.00 332.00\" xmlns=\"http://www.w3.org/2000/svg\" xmlns:xlink=\"http://www.w3.org/1999/xlink\">\n<g id=\"graph0\" class=\"graph\" transform=\"scale(1 1) rotate(0) translate(4 328)\">\n<title>%3</title>\n<polygon fill=\"#ffffff\" stroke=\"transparent\" points=\"-4,4 -4,-328 202,-328 202,4 -4,4\"/>\n<!-- E -->\n<g id=\"node1\" class=\"node\">\n<title>E</title>\n<ellipse fill=\"none\" stroke=\"#000000\" cx=\"27\" cy=\"-162\" rx=\"27\" ry=\"18\"/>\n<text text-anchor=\"middle\" x=\"27\" y=\"-158.3\" font-family=\"Times,serif\" font-size=\"14.00\" fill=\"#000000\">E</text>\n</g>\n<!-- H -->\n<g id=\"node2\" class=\"node\">\n<title>H</title>\n<ellipse fill=\"none\" stroke=\"#000000\" cx=\"135\" cy=\"-18\" rx=\"27\" ry=\"18\"/>\n<text text-anchor=\"middle\" x=\"135\" y=\"-14.3\" font-family=\"Times,serif\" font-size=\"14.00\" fill=\"#000000\">H</text>\n</g>\n<!-- F -->\n<g id=\"node3\" class=\"node\">\n<title>F</title>\n<ellipse fill=\"none\" stroke=\"#000000\" cx=\"135\" cy=\"-306\" rx=\"27\" ry=\"18\"/>\n<text text-anchor=\"middle\" x=\"135\" y=\"-302.3\" font-family=\"Times,serif\" font-size=\"14.00\" fill=\"#000000\">F</text>\n</g>\n<!-- G -->\n<g id=\"node6\" class=\"node\">\n<title>G</title>\n<ellipse fill=\"none\" stroke=\"#000000\" cx=\"99\" cy=\"-234\" rx=\"27\" ry=\"18\"/>\n<text text-anchor=\"middle\" x=\"99\" y=\"-230.3\" font-family=\"Times,serif\" font-size=\"14.00\" fill=\"#000000\">G</text>\n</g>\n<!-- F&#45;&gt;G -->\n<g id=\"edge3\" class=\"edge\">\n<title>F&#45;&gt;G</title>\n<path fill=\"none\" stroke=\"#000000\" d=\"M126.2854,-288.5708C122.0403,-280.0807 116.8464,-269.6929 112.1337,-260.2674\"/>\n<polygon fill=\"#000000\" stroke=\"#000000\" points=\"115.237,-258.6477 107.6343,-251.2687 108.976,-261.7782 115.237,-258.6477\"/>\n</g>\n<!-- B -->\n<g id=\"node7\" class=\"node\">\n<title>B</title>\n<ellipse fill=\"none\" stroke=\"#000000\" cx=\"171\" cy=\"-234\" rx=\"27\" ry=\"18\"/>\n<text text-anchor=\"middle\" x=\"171\" y=\"-230.3\" font-family=\"Times,serif\" font-size=\"14.00\" fill=\"#000000\">B</text>\n</g>\n<!-- F&#45;&gt;B -->\n<g id=\"edge4\" class=\"edge\">\n<title>F&#45;&gt;B</title>\n<path fill=\"none\" stroke=\"#000000\" d=\"M143.7146,-288.5708C147.9597,-280.0807 153.1536,-269.6929 157.8663,-260.2674\"/>\n<polygon fill=\"#000000\" stroke=\"#000000\" points=\"161.024,-261.7782 162.3657,-251.2687 154.763,-258.6477 161.024,-261.7782\"/>\n</g>\n<!-- C -->\n<g id=\"node4\" class=\"node\">\n<title>C</title>\n<ellipse fill=\"none\" stroke=\"#000000\" cx=\"135\" cy=\"-162\" rx=\"27\" ry=\"18\"/>\n<text text-anchor=\"middle\" x=\"135\" y=\"-158.3\" font-family=\"Times,serif\" font-size=\"14.00\" fill=\"#000000\">C</text>\n</g>\n<!-- D -->\n<g id=\"node5\" class=\"node\">\n<title>D</title>\n<ellipse fill=\"none\" stroke=\"#000000\" cx=\"135\" cy=\"-90\" rx=\"27\" ry=\"18\"/>\n<text text-anchor=\"middle\" x=\"135\" y=\"-86.3\" font-family=\"Times,serif\" font-size=\"14.00\" fill=\"#000000\">D</text>\n</g>\n<!-- C&#45;&gt;D -->\n<g id=\"edge6\" class=\"edge\">\n<title>C&#45;&gt;D</title>\n<path fill=\"none\" stroke=\"#000000\" d=\"M135,-143.8314C135,-136.131 135,-126.9743 135,-118.4166\"/>\n<polygon fill=\"#000000\" stroke=\"#000000\" points=\"138.5001,-118.4132 135,-108.4133 131.5001,-118.4133 138.5001,-118.4132\"/>\n</g>\n<!-- D&#45;&gt;H -->\n<g id=\"edge7\" class=\"edge\">\n<title>D&#45;&gt;H</title>\n<path fill=\"none\" stroke=\"#000000\" d=\"M135,-71.8314C135,-64.131 135,-54.9743 135,-46.4166\"/>\n<polygon fill=\"#000000\" stroke=\"#000000\" points=\"138.5001,-46.4132 135,-36.4133 131.5001,-46.4133 138.5001,-46.4132\"/>\n</g>\n<!-- B&#45;&gt;C -->\n<g id=\"edge5\" class=\"edge\">\n<title>B&#45;&gt;C</title>\n<path fill=\"none\" stroke=\"#000000\" d=\"M162.2854,-216.5708C158.0403,-208.0807 152.8464,-197.6929 148.1337,-188.2674\"/>\n<polygon fill=\"#000000\" stroke=\"#000000\" points=\"151.237,-186.6477 143.6343,-179.2687 144.976,-189.7782 151.237,-186.6477\"/>\n</g>\n<!-- A -->\n<g id=\"node8\" class=\"node\">\n<title>A</title>\n<ellipse fill=\"none\" stroke=\"#000000\" cx=\"27\" cy=\"-234\" rx=\"27\" ry=\"18\"/>\n<text text-anchor=\"middle\" x=\"27\" y=\"-230.3\" font-family=\"Times,serif\" font-size=\"14.00\" fill=\"#000000\">A</text>\n</g>\n<!-- A&#45;&gt;E -->\n<g id=\"edge1\" class=\"edge\">\n<title>A&#45;&gt;E</title>\n<path fill=\"none\" stroke=\"#000000\" d=\"M27,-215.8314C27,-208.131 27,-198.9743 27,-190.4166\"/>\n<polygon fill=\"#000000\" stroke=\"#000000\" points=\"30.5001,-190.4132 27,-180.4133 23.5001,-190.4133 30.5001,-190.4132\"/>\n</g>\n<!-- A&#45;&gt;C -->\n<g id=\"edge2\" class=\"edge\">\n<title>A&#45;&gt;C</title>\n<path fill=\"none\" stroke=\"#000000\" d=\"M46.3082,-221.1278C63.3555,-209.763 88.4019,-193.0654 107.5344,-180.3104\"/>\n<polygon fill=\"#000000\" stroke=\"#000000\" points=\"109.4799,-183.2199 115.8589,-174.7607 105.5969,-177.3956 109.4799,-183.2199\"/>\n</g>\n</g>\n</svg>\n"
          },
          "metadata": {},
          "execution_count": 17
        }
      ]
    },
    {
      "cell_type": "code",
      "metadata": {
        "id": "8FgS4UIJdSFL"
      },
      "source": [
        "n_samples=1000000\n",
        "# n_samples=1000\n",
        "data_df = fd0.sample(n_samples=n_samples)"
      ],
      "execution_count": 18,
      "outputs": []
    },
    {
      "cell_type": "markdown",
      "metadata": {
        "id": "MdeIzmCset1w"
      },
      "source": [
        "## Step 1. Fully connected graph"
      ]
    },
    {
      "cell_type": "code",
      "source": [
        "all_nodes = ['A', 'B', 'C', 'D', 'E', 'F', 'G', 'H']\n",
        "nodes_pos = {'A': (2,4), 'B': (4.5,4), 'C': (3,3.5), 'D': (2.5,2), 'E': (1,3), \n",
        "             'F': (5,5), 'G': (6,4), 'H': (3,1)}"
      ],
      "metadata": {
        "id": "RNFITWU9MXHX"
      },
      "execution_count": 122,
      "outputs": []
    },
    {
      "cell_type": "code",
      "metadata": {
        "colab": {
          "base_uri": "https://localhost:8080/",
          "height": 391
        },
        "id": "xcVM5YBjdoaF",
        "outputId": "b8375461-d203-43eb-f31c-eb0b3bba2145"
      },
      "source": [
        "G = nx.Graph()\n",
        "G.add_nodes_from(all_nodes)\n",
        "#G.add_nodes_from(tuple(zip(all_nodes, nodes_pos)))\n",
        "\n",
        "for i in range(0, len(all_nodes)):\n",
        "    node_1 = all_nodes[i]\n",
        "    for j in range(i+1, len(all_nodes)):\n",
        "        node_2 = all_nodes[j]\n",
        "        G.add_edge(node_1, node_2)\n",
        "\n",
        "plt.figure(figsize=(5, 5))\n",
        "nx.draw(G, \n",
        "        pos=nodes_pos, \n",
        "        with_labels=True, font_weight='bold')"
      ],
      "execution_count": 123,
      "outputs": [
        {
          "output_type": "display_data",
          "data": {
            "text/plain": [
              "<Figure size 360x360 with 1 Axes>"
            ],
            "image/png": "[encoded data removed]"
          },
          "metadata": {}
        }
      ]
    },
    {
      "cell_type": "markdown",
      "source": [
        "## Step 2. Test unconditional independence"
      ],
      "metadata": {
        "id": "WkryoUhFzlQI"
      }
    },
    {
      "cell_type": "code",
      "source": [
        "for i in range(0, len(all_nodes)):\n",
        "    var_1 = all_nodes[i]\n",
        "    for j in range(i + 1, len(all_nodes)):\n",
        "        var_2 = all_nodes[j]\n",
        "        # testStat, thresh = hsic_gam(data_df[var_1].values.reshape(-1, 1), data_df[var_2].values.reshape(-1, 1), alph=alph)\n",
        "        # print(testStat, thresh)\n",
        "        print(\"{} and {} are independent: {}\".format(var_1, var_2, \n",
        "                                                     is_indep(data_df[var_1].values, data_df[var_2].values)))"
      ],
      "metadata": {
        "colab": {
          "base_uri": "https://localhost:8080/"
        },
        "id": "Yn5wEaJ1ztZU",
        "outputId": "2114a908-8840-494f-bcad-b5dc0f06ad5e"
      },
      "execution_count": 21,
      "outputs": [
        {
          "output_type": "stream",
          "name": "stdout",
          "text": [
            "A and B are independent: True\n",
            "A and C are independent: False\n",
            "A and D are independent: False\n",
            "A and E are independent: False\n",
            "A and F are independent: True\n",
            "A and G are independent: True\n",
            "A and H are independent: False\n",
            "B and C are independent: False\n",
            "B and D are independent: False\n",
            "B and E are independent: True\n",
            "B and F are independent: False\n",
            "B and G are independent: False\n",
            "B and H are independent: True\n",
            "C and D are independent: False\n",
            "C and E are independent: False\n",
            "C and F are independent: True\n",
            "C and G are independent: True\n",
            "C and H are independent: False\n",
            "D and E are independent: False\n",
            "D and F are independent: True\n",
            "D and G are independent: True\n",
            "D and H are independent: False\n",
            "E and F are independent: True\n",
            "E and G are independent: True\n",
            "E and H are independent: False\n",
            "F and G are independent: False\n",
            "F and H are independent: True\n",
            "G and H are independent: True\n"
          ]
        }
      ]
    },
    {
      "cell_type": "markdown",
      "source": [
        "Store independent variables"
      ],
      "metadata": {
        "id": "DWy0RHbVMbnB"
      }
    },
    {
      "cell_type": "code",
      "source": [
        "indep_vars = []\n",
        "for i in range(0, len(all_nodes)):\n",
        "    var_1 = all_nodes[i]\n",
        "    for j in range(i + 1, len(all_nodes)):\n",
        "        var_2 = all_nodes[j]\n",
        "        # testStat, thresh = hsic_gam(data_df[var_1].values.reshape(-1, 1), data_df[var_2].values.reshape(-1, 1), alph=alph)\n",
        "        # print(testStat, thresh)\n",
        "        if is_indep(data_df[var_1].values, data_df[var_2].values) == True:\n",
        "          indep_vars.append((var_1, var_2))"
      ],
      "metadata": {
        "id": "mDsxhaI2BRgZ"
      },
      "execution_count": 102,
      "outputs": []
    },
    {
      "cell_type": "code",
      "source": [
        "indep_vars = set(indep_vars)"
      ],
      "metadata": {
        "colab": {
          "base_uri": "https://localhost:8080/"
        },
        "id": "gXNg53pfA8hn",
        "outputId": "0f8db50e-4038-4157-9cae-8b6d56a19ea7"
      },
      "execution_count": 103,
      "outputs": [
        {
          "output_type": "execute_result",
          "data": {
            "text/plain": [
              "[('A', 'B'),\n",
              " ('A', 'F'),\n",
              " ('A', 'G'),\n",
              " ('B', 'E'),\n",
              " ('B', 'H'),\n",
              " ('C', 'F'),\n",
              " ('C', 'G'),\n",
              " ('D', 'F'),\n",
              " ('D', 'G'),\n",
              " ('E', 'F'),\n",
              " ('E', 'G'),\n",
              " ('F', 'H'),\n",
              " ('G', 'H')]"
            ]
          },
          "metadata": {},
          "execution_count": 103
        }
      ]
    },
    {
      "cell_type": "code",
      "source": [
        "indep_vars = [('A', 'B'),\n",
        " ('A', 'F'),\n",
        " ('A', 'G'),\n",
        " ('B', 'E'),\n",
        " ('B', 'H'),\n",
        " ('C', 'F'),\n",
        " ('C', 'G'),\n",
        " ('D', 'F'),\n",
        " ('D', 'G'),\n",
        " ('E', 'F'),\n",
        " ('E', 'G'),\n",
        " ('F', 'H'),\n",
        " ('G', 'H')]"
      ],
      "metadata": {
        "id": "0GMWvwxTpeox"
      },
      "execution_count": 124,
      "outputs": []
    },
    {
      "cell_type": "markdown",
      "source": [
        "Remove them from the graph"
      ],
      "metadata": {
        "id": "DsMh1hNyMeN7"
      }
    },
    {
      "cell_type": "code",
      "source": [
        "for pair in indep_vars:\n",
        "  G.remove_edge(pair[0], pair[1])\n",
        "plt.figure(figsize=(5, 3))\n",
        "nx.draw(G, pos=nodes_pos, with_labels=True, font_weight='bold')"
      ],
      "metadata": {
        "colab": {
          "base_uri": "https://localhost:8080/",
          "height": 247
        },
        "id": "f0aQmAq9zvyt",
        "outputId": "3bbe6fc6-7871-4a9a-e198-2f20f27dff33"
      },
      "execution_count": 125,
      "outputs": [
        {
          "output_type": "display_data",
          "data": {
            "text/plain": [
              "<Figure size 360x216 with 1 Axes>"
            ],
            "image/png": "[encoded data removed]"
          },
          "metadata": {}
        }
      ]
    },
    {
      "cell_type": "markdown",
      "source": [
        "## Step 3. Condition on 1 variable\n",
        "For each pair of variables ($A$, $B$) having an edge between them, and for each variable $C$ with an edge connected to either of them, eliminate the edge between $A$ and $B$ if $\\left(A ⊥⊥ B\\right) | C$ "
      ],
      "metadata": {
        "id": "xqcHPdk3z0EC"
      }
    },
    {
      "cell_type": "code",
      "source": [
        "all_nodes"
      ],
      "metadata": {
        "colab": {
          "base_uri": "https://localhost:8080/"
        },
        "id": "QUs_pFD9z2ZS",
        "outputId": "0ffae7be-f13e-4428-f036-c0b55d0be3ef"
      },
      "execution_count": 126,
      "outputs": [
        {
          "output_type": "execute_result",
          "data": {
            "text/plain": [
              "['A', 'B', 'C', 'D', 'E', 'F', 'G', 'H']"
            ]
          },
          "metadata": {},
          "execution_count": 126
        }
      ]
    },
    {
      "cell_type": "code",
      "source": [
        "# list all possible tuples with no repetition\n",
        "N = 3\n",
        "tuples = list(itertools.product(all_nodes, repeat = 3 ))\n",
        "tuples\n",
        "tuples_unique = []\n",
        "for tup in tuples:\n",
        "  if len(set(tup)) == 3:\n",
        "    tuples_unique.append(tup)"
      ],
      "metadata": {
        "id": "wtzpVeak733x"
      },
      "execution_count": 24,
      "outputs": []
    },
    {
      "cell_type": "code",
      "source": [
        "combinations = [\n",
        "                ('E', 'A', 'D'), ('E', 'A', 'H'), ('E', 'A', 'C'),  \n",
        "                ('E', 'D', 'A'), ('E', 'D', 'C'), ('E', 'D', 'H'), ('E', 'D', 'B'), \n",
        "                ('E', 'H', 'A'), ('E', 'H', 'C'), ('E', 'H', 'D'),\n",
        "                ('E', 'C', 'A'), ('E', 'C', 'D'), ('E', 'C', 'H'), ('E', 'C', 'B'),\n",
        "                ('A', 'C', 'E'), ('A', 'C', 'D'), ('A', 'C', 'H'), ('A', 'C', 'B'),\n",
        "                ('A', 'D', 'E'), ('A', 'D', 'H'), ('A', 'D', 'B'), ('A', 'D', 'C'),\n",
        "                ('A', 'H', 'E'), ('A', 'H', 'C'), ('A', 'H', 'D'), \n",
        "                ('H', 'D', 'E'), ('H', 'D', 'A'), ('H', 'D', 'B'), ('H', 'D', 'C'),\n",
        "                ('H', 'C', 'E'), ('H', 'C', 'D'), ('H', 'C', 'A'), ('H', 'C', 'B'),\n",
        "                ('D', 'C', 'E'), ('D', 'C', 'A'), ('D', 'C', 'B'), ('D', 'C', 'H'),\n",
        "                ('D', 'B', 'E'), ('D', 'B', 'A'), ('D', 'B', 'C'), ('D', 'B', 'H'), ('D', 'B', 'F'), ('D', 'B', 'G'),\n",
        "                ('B', 'C', 'E'), ('B', 'C', 'A'), ('B', 'C', 'D'), ('B', 'C', 'H'), ('B', 'C', 'F'), ('B', 'C', 'G'),\n",
        "                ('B', 'F', 'C'), ('B', 'F', 'D'), ('B', 'F', 'G'),\n",
        "                ('B', 'G', 'F'), ('B', 'G', 'C'), ('B', 'G', 'D'),\n",
        "                ('F', 'G', 'B') \n",
        "                ]"
      ],
      "metadata": {
        "id": "eAY4XJAM-LkO"
      },
      "execution_count": 25,
      "outputs": []
    },
    {
      "cell_type": "code",
      "source": [
        "for var_1, var_2, cond_var in combinations:\n",
        "    print('{} and {} are independent given {} = {}'.format(\n",
        "        var_1, var_2, cond_var, is_cond_independent(data_df, var_1, var_2, [cond_var])\n",
        "    ))"
      ],
      "metadata": {
        "colab": {
          "base_uri": "https://localhost:8080/"
        },
        "id": "XiPg_29xKF90",
        "outputId": "5b321aeb-4a1d-4b27-e414-7a043eacac07"
      },
      "execution_count": 26,
      "outputs": [
        {
          "output_type": "stream",
          "name": "stdout",
          "text": [
            "E and A are independent given D = False\n",
            "E and A are independent given H = False\n",
            "E and A are independent given C = False\n",
            "E and D are independent given A = True\n",
            "E and D are independent given C = True\n",
            "E and D are independent given H = False\n",
            "E and D are independent given B = True\n",
            "E and H are independent given A = True\n",
            "E and H are independent given C = True\n",
            "E and H are independent given D = True\n",
            "E and C are independent given A = True\n",
            "E and C are independent given D = False\n",
            "E and C are independent given H = False\n",
            "E and C are independent given B = False\n",
            "A and C are independent given E = False\n",
            "A and C are independent given D = False\n",
            "A and C are independent given H = False\n",
            "A and C are independent given B = False\n",
            "A and D are independent given E = False\n",
            "A and D are independent given H = False\n",
            "A and D are independent given B = False\n",
            "A and D are independent given C = True\n",
            "A and H are independent given E = False\n",
            "A and H are independent given C = True\n",
            "A and H are independent given D = True\n",
            "H and D are independent given E = False\n",
            "H and D are independent given A = False\n",
            "H and D are independent given B = False\n",
            "H and D are independent given C = False\n",
            "H and C are independent given E = False\n",
            "H and C are independent given D = True\n",
            "H and C are independent given A = False\n",
            "H and C are independent given B = False\n",
            "D and C are independent given E = False\n",
            "D and C are independent given A = False\n",
            "D and C are independent given B = False\n",
            "D and C are independent given H = False\n",
            "D and B are independent given E = False\n",
            "D and B are independent given A = False\n",
            "D and B are independent given C = True\n",
            "D and B are independent given H = False\n",
            "D and B are independent given F = False\n",
            "D and B are independent given G = False\n",
            "B and C are independent given E = False\n",
            "B and C are independent given A = False\n",
            "B and C are independent given D = True\n",
            "B and C are independent given H = False\n",
            "B and C are independent given F = False\n",
            "B and C are independent given G = False\n",
            "B and F are independent given C = False\n",
            "B and F are independent given D = False\n",
            "B and F are independent given G = False\n",
            "B and G are independent given F = True\n",
            "B and G are independent given C = False\n",
            "B and G are independent given D = False\n",
            "F and G are independent given B = False\n"
          ]
        }
      ]
    },
    {
      "cell_type": "code",
      "source": [
        "indep_vars_cond_1 = []\n",
        "for var_1, var_2, cond_var in combinations:\n",
        "    if is_cond_independent(data_df, var_1, var_2, [cond_var]) == True:\n",
        "      indep_vars_cond_1.append((var_1, var_2))"
      ],
      "metadata": {
        "id": "b7IpyG3jM7mN"
      },
      "execution_count": 27,
      "outputs": []
    },
    {
      "cell_type": "code",
      "source": [
        "indep_vars_cond_1 = list(set(indep_vars_cond_1))"
      ],
      "metadata": {
        "id": "XzsQ_T7-NnCg"
      },
      "execution_count": 28,
      "outputs": []
    },
    {
      "cell_type": "code",
      "source": [
        "indep_vars_cond_1 = list(set(indep_vars_cond_1) - set(indep_vars))"
      ],
      "metadata": {
        "id": "jbFyhYQHeFQh"
      },
      "execution_count": 29,
      "outputs": []
    },
    {
      "cell_type": "code",
      "source": [
        "indep_vars_cond_1"
      ],
      "metadata": {
        "colab": {
          "base_uri": "https://localhost:8080/"
        },
        "id": "v4NLjhW7pqYs",
        "outputId": "ba3f7a6c-9c77-4399-c8c7-1104b27e45a2"
      },
      "execution_count": 129,
      "outputs": [
        {
          "output_type": "execute_result",
          "data": {
            "text/plain": [
              "[('E', 'H'),\n",
              " ('D', 'B'),\n",
              " ('B', 'G'),\n",
              " ('E', 'D'),\n",
              " ('A', 'D'),\n",
              " ('B', 'C'),\n",
              " ('H', 'C'),\n",
              " ('A', 'H'),\n",
              " ('E', 'C')]"
            ]
          },
          "metadata": {},
          "execution_count": 129
        }
      ]
    },
    {
      "cell_type": "code",
      "source": [
        "indep_vars_cond_1 = [('E', 'H'),\n",
        " ('D', 'B'),\n",
        " ('B', 'G'),\n",
        " ('E', 'D'),\n",
        " ('A', 'D'),\n",
        " ('B', 'C'),\n",
        " ('H', 'C'),\n",
        " ('A', 'H'),\n",
        " ('E', 'C')]"
      ],
      "metadata": {
        "id": "TKU4pZlFp_L-"
      },
      "execution_count": 128,
      "outputs": []
    },
    {
      "cell_type": "code",
      "source": [
        "for pair in indep_vars_cond_1:\n",
        "  G.remove_edge(pair[0], pair[1])\n",
        "plt.figure(figsize=(5, 3))\n",
        "nx.draw(G, pos=nodes_pos, with_labels=True, font_weight='bold')"
      ],
      "metadata": {
        "colab": {
          "base_uri": "https://localhost:8080/",
          "height": 247
        },
        "id": "R4I4IVlnM3Mt",
        "outputId": "728f4341-c9d3-4125-f14d-9d1c4c2b942c"
      },
      "execution_count": 130,
      "outputs": [
        {
          "output_type": "display_data",
          "data": {
            "text/plain": [
              "<Figure size 360x216 with 1 Axes>"
            ],
            "image/png": "[encoded data removed]"
          },
          "metadata": {}
        }
      ]
    },
    {
      "cell_type": "markdown",
      "source": [
        "## Step 4. Condition on 2 variables or more"
      ],
      "metadata": {
        "id": "BP7nnU12xuZJ"
      }
    },
    {
      "cell_type": "markdown",
      "source": [
        "The following function creates all possible sublists (with lengths more or equal to two) for a given list"
      ],
      "metadata": {
        "id": "0ojvwWhZx09D"
      }
    },
    {
      "cell_type": "code",
      "source": [
        "def sub_lists(my_list):\n",
        "  subs = []\n",
        "  for i in range(0, len(my_list)+3):\n",
        "    temp = [list(x) for x in itertools.combinations(my_list, i) if len(x) > 1]\n",
        "    if len(temp) > 1:\n",
        "      subs.extend(temp)\n",
        "  subs.extend([list(my_list)])   \n",
        "  return subs"
      ],
      "metadata": {
        "id": "rK6r27wXOEQH"
      },
      "execution_count": 32,
      "outputs": []
    },
    {
      "cell_type": "code",
      "source": [
        "L = ['A', 'B', 'C']"
      ],
      "metadata": {
        "id": "V3v5HX0KPrZf"
      },
      "execution_count": 114,
      "outputs": []
    },
    {
      "cell_type": "code",
      "source": [
        "sub_lists(['A','B','C'])"
      ],
      "metadata": {
        "colab": {
          "base_uri": "https://localhost:8080/"
        },
        "id": "NgHgsNKZP_MK",
        "outputId": "3f2d1bc0-aa7a-4872-b3eb-2cfd3df6a6ea"
      },
      "execution_count": 115,
      "outputs": [
        {
          "output_type": "execute_result",
          "data": {
            "text/plain": [
              "[['A', 'B'], ['A', 'C'], ['B', 'C'], ['A', 'B', 'C']]"
            ]
          },
          "metadata": {},
          "execution_count": 115
        }
      ]
    },
    {
      "cell_type": "code",
      "source": [
        "list(itertools.combinations(L, 3))"
      ],
      "metadata": {
        "colab": {
          "base_uri": "https://localhost:8080/"
        },
        "id": "_FCpftiVPvZs",
        "outputId": "69557913-ae39-4d75-879f-e9f9033b76b1"
      },
      "execution_count": 116,
      "outputs": [
        {
          "output_type": "execute_result",
          "data": {
            "text/plain": [
              "[('A', 'B', 'C')]"
            ]
          },
          "metadata": {},
          "execution_count": 116
        }
      ]
    },
    {
      "cell_type": "code",
      "source": [
        "sub_lists(['A','B','C'])"
      ],
      "metadata": {
        "colab": {
          "base_uri": "https://localhost:8080/"
        },
        "id": "EMjZbV0gvh-g",
        "outputId": "ded5dacf-966e-469a-b1f4-c5a40f2b5b74"
      },
      "execution_count": 117,
      "outputs": [
        {
          "output_type": "execute_result",
          "data": {
            "text/plain": [
              "[['A', 'B'], ['A', 'C'], ['B', 'C'], ['A', 'B', 'C']]"
            ]
          },
          "metadata": {},
          "execution_count": 117
        }
      ]
    },
    {
      "cell_type": "markdown",
      "source": [
        "I create a dictionary with keys as the two edges that are connected and values as a list of edges connecting to either of them."
      ],
      "metadata": {
        "id": "gcmJP149x_kI"
      }
    },
    {
      "cell_type": "code",
      "source": [
        "conds = dict()\n",
        "for tup in combinations:\n",
        "  for tup2 in combinations:\n",
        "    if (tup[0] == tup2[0]) & (tup[1] == tup2[1]):\n",
        "      conds[(tup[0], tup[1])] = []\n",
        "for tup in combinations:\n",
        "  for tup2 in combinations:\n",
        "    if (tup[0] == tup2[0]) & (tup[1] == tup2[1]):\n",
        "      conds[(tup[0], tup[1])].append(tup[2])\n",
        "      conds[(tup[0], tup[1])].append(tup2[2])      "
      ],
      "metadata": {
        "id": "EIAuflifaJBq"
      },
      "execution_count": 118,
      "outputs": []
    },
    {
      "cell_type": "code",
      "source": [
        "for pair in conds:\n",
        "  conds[pair] = set(conds[pair])\n"
      ],
      "metadata": {
        "id": "oGRw-W73boNB"
      },
      "execution_count": 119,
      "outputs": []
    },
    {
      "cell_type": "markdown",
      "source": [
        "Now I create another dictionary which has the same keys as before but with values as all possible 2 or more sets of variables as condition set."
      ],
      "metadata": {
        "id": "VNaNroIxyUID"
      }
    },
    {
      "cell_type": "code",
      "source": [
        "conds_dict = conds.copy()\n",
        "for pair in conds_dict:\n",
        "  conds_dict[pair] = sub_lists(conds_dict[pair])\n"
      ],
      "metadata": {
        "id": "QpBYHndzblD5"
      },
      "execution_count": 120,
      "outputs": []
    },
    {
      "cell_type": "code",
      "source": [
        "conds[('B', 'G')]"
      ],
      "metadata": {
        "colab": {
          "base_uri": "https://localhost:8080/"
        },
        "id": "LkgJDbybO7Me",
        "outputId": "198c8655-a514-41b7-df76-d6cd8d70a042"
      },
      "execution_count": 121,
      "outputs": [
        {
          "output_type": "execute_result",
          "data": {
            "text/plain": [
              "{'C', 'D', 'F'}"
            ]
          },
          "metadata": {},
          "execution_count": 121
        }
      ]
    },
    {
      "cell_type": "code",
      "source": [
        "sub_lists(conds[('B', 'G')])"
      ],
      "metadata": {
        "colab": {
          "base_uri": "https://localhost:8080/"
        },
        "id": "qBWlOAgpPKyM",
        "outputId": "7150c4bb-85aa-440e-9b59-7aed001060f0"
      },
      "execution_count": 122,
      "outputs": [
        {
          "output_type": "execute_result",
          "data": {
            "text/plain": [
              "[['F', 'D'], ['F', 'C'], ['D', 'C'], ['F', 'D', 'C']]"
            ]
          },
          "metadata": {},
          "execution_count": 122
        }
      ]
    },
    {
      "cell_type": "code",
      "source": [
        " conds"
      ],
      "metadata": {
        "colab": {
          "base_uri": "https://localhost:8080/"
        },
        "id": "cOA7olOIaXXt",
        "outputId": "1f16b69a-789e-4d3f-fa05-90d72bbbccd6"
      },
      "execution_count": 123,
      "outputs": [
        {
          "output_type": "execute_result",
          "data": {
            "text/plain": [
              "{('E', 'A'): {'C', 'D', 'H'},\n",
              " ('E', 'D'): {'A', 'B', 'C', 'H'},\n",
              " ('E', 'H'): {'A', 'C', 'D'},\n",
              " ('E', 'C'): {'A', 'B', 'D', 'H'},\n",
              " ('A', 'C'): {'B', 'D', 'E', 'H'},\n",
              " ('A', 'D'): {'B', 'C', 'E', 'H'},\n",
              " ('A', 'H'): {'C', 'D', 'E'},\n",
              " ('H', 'D'): {'A', 'B', 'C', 'E'},\n",
              " ('H', 'C'): {'A', 'B', 'D', 'E'},\n",
              " ('D', 'C'): {'A', 'B', 'E', 'H'},\n",
              " ('D', 'B'): {'A', 'C', 'E', 'F', 'G', 'H'},\n",
              " ('B', 'C'): {'A', 'D', 'E', 'F', 'G', 'H'},\n",
              " ('B', 'F'): {'C', 'D', 'G'},\n",
              " ('B', 'G'): {'C', 'D', 'F'},\n",
              " ('F', 'G'): {'B'}}"
            ]
          },
          "metadata": {},
          "execution_count": 123
        }
      ]
    },
    {
      "cell_type": "markdown",
      "source": [],
      "metadata": {
        "id": "8FniQrBNyS7M"
      }
    },
    {
      "cell_type": "code",
      "source": [
        "conds_dict"
      ],
      "metadata": {
        "colab": {
          "base_uri": "https://localhost:8080/"
        },
        "id": "HLKXQd0eZvru",
        "outputId": "dc8d5942-470e-457d-d5e3-9d17e708a871"
      },
      "execution_count": 124,
      "outputs": [
        {
          "output_type": "execute_result",
          "data": {
            "text/plain": [
              "{('E', 'A'): [['H', 'D'], ['H', 'C'], ['D', 'C'], ['H', 'D', 'C']],\n",
              " ('E', 'D'): [['H', 'A'],\n",
              "  ['H', 'B'],\n",
              "  ['H', 'C'],\n",
              "  ['A', 'B'],\n",
              "  ['A', 'C'],\n",
              "  ['B', 'C'],\n",
              "  ['H', 'A', 'B'],\n",
              "  ['H', 'A', 'C'],\n",
              "  ['H', 'B', 'C'],\n",
              "  ['A', 'B', 'C'],\n",
              "  ['H', 'A', 'B', 'C']],\n",
              " ('E', 'H'): [['A', 'D'], ['A', 'C'], ['D', 'C'], ['A', 'D', 'C']],\n",
              " ('E', 'C'): [['H', 'B'],\n",
              "  ['H', 'A'],\n",
              "  ['H', 'D'],\n",
              "  ['B', 'A'],\n",
              "  ['B', 'D'],\n",
              "  ['A', 'D'],\n",
              "  ['H', 'B', 'A'],\n",
              "  ['H', 'B', 'D'],\n",
              "  ['H', 'A', 'D'],\n",
              "  ['B', 'A', 'D'],\n",
              "  ['H', 'B', 'A', 'D']],\n",
              " ('A', 'C'): [['H', 'B'],\n",
              "  ['H', 'E'],\n",
              "  ['H', 'D'],\n",
              "  ['B', 'E'],\n",
              "  ['B', 'D'],\n",
              "  ['E', 'D'],\n",
              "  ['H', 'B', 'E'],\n",
              "  ['H', 'B', 'D'],\n",
              "  ['H', 'E', 'D'],\n",
              "  ['B', 'E', 'D'],\n",
              "  ['H', 'B', 'E', 'D']],\n",
              " ('A', 'D'): [['H', 'B'],\n",
              "  ['H', 'E'],\n",
              "  ['H', 'C'],\n",
              "  ['B', 'E'],\n",
              "  ['B', 'C'],\n",
              "  ['E', 'C'],\n",
              "  ['H', 'B', 'E'],\n",
              "  ['H', 'B', 'C'],\n",
              "  ['H', 'E', 'C'],\n",
              "  ['B', 'E', 'C'],\n",
              "  ['H', 'B', 'E', 'C']],\n",
              " ('A', 'H'): [['D', 'E'], ['D', 'C'], ['E', 'C'], ['D', 'E', 'C']],\n",
              " ('H', 'D'): [['B', 'A'],\n",
              "  ['B', 'E'],\n",
              "  ['B', 'C'],\n",
              "  ['A', 'E'],\n",
              "  ['A', 'C'],\n",
              "  ['E', 'C'],\n",
              "  ['B', 'A', 'E'],\n",
              "  ['B', 'A', 'C'],\n",
              "  ['B', 'E', 'C'],\n",
              "  ['A', 'E', 'C'],\n",
              "  ['B', 'A', 'E', 'C']],\n",
              " ('H', 'C'): [['B', 'A'],\n",
              "  ['B', 'E'],\n",
              "  ['B', 'D'],\n",
              "  ['A', 'E'],\n",
              "  ['A', 'D'],\n",
              "  ['E', 'D'],\n",
              "  ['B', 'A', 'E'],\n",
              "  ['B', 'A', 'D'],\n",
              "  ['B', 'E', 'D'],\n",
              "  ['A', 'E', 'D'],\n",
              "  ['B', 'A', 'E', 'D']],\n",
              " ('D', 'C'): [['B', 'H'],\n",
              "  ['B', 'A'],\n",
              "  ['B', 'E'],\n",
              "  ['H', 'A'],\n",
              "  ['H', 'E'],\n",
              "  ['A', 'E'],\n",
              "  ['B', 'H', 'A'],\n",
              "  ['B', 'H', 'E'],\n",
              "  ['B', 'A', 'E'],\n",
              "  ['H', 'A', 'E'],\n",
              "  ['B', 'H', 'A', 'E']],\n",
              " ('D', 'B'): [['H', 'G'],\n",
              "  ['H', 'A'],\n",
              "  ['H', 'F'],\n",
              "  ['H', 'E'],\n",
              "  ['H', 'C'],\n",
              "  ['G', 'A'],\n",
              "  ['G', 'F'],\n",
              "  ['G', 'E'],\n",
              "  ['G', 'C'],\n",
              "  ['A', 'F'],\n",
              "  ['A', 'E'],\n",
              "  ['A', 'C'],\n",
              "  ['F', 'E'],\n",
              "  ['F', 'C'],\n",
              "  ['E', 'C'],\n",
              "  ['H', 'G', 'A'],\n",
              "  ['H', 'G', 'F'],\n",
              "  ['H', 'G', 'E'],\n",
              "  ['H', 'G', 'C'],\n",
              "  ['H', 'A', 'F'],\n",
              "  ['H', 'A', 'E'],\n",
              "  ['H', 'A', 'C'],\n",
              "  ['H', 'F', 'E'],\n",
              "  ['H', 'F', 'C'],\n",
              "  ['H', 'E', 'C'],\n",
              "  ['G', 'A', 'F'],\n",
              "  ['G', 'A', 'E'],\n",
              "  ['G', 'A', 'C'],\n",
              "  ['G', 'F', 'E'],\n",
              "  ['G', 'F', 'C'],\n",
              "  ['G', 'E', 'C'],\n",
              "  ['A', 'F', 'E'],\n",
              "  ['A', 'F', 'C'],\n",
              "  ['A', 'E', 'C'],\n",
              "  ['F', 'E', 'C'],\n",
              "  ['H', 'G', 'A', 'F'],\n",
              "  ['H', 'G', 'A', 'E'],\n",
              "  ['H', 'G', 'A', 'C'],\n",
              "  ['H', 'G', 'F', 'E'],\n",
              "  ['H', 'G', 'F', 'C'],\n",
              "  ['H', 'G', 'E', 'C'],\n",
              "  ['H', 'A', 'F', 'E'],\n",
              "  ['H', 'A', 'F', 'C'],\n",
              "  ['H', 'A', 'E', 'C'],\n",
              "  ['H', 'F', 'E', 'C'],\n",
              "  ['G', 'A', 'F', 'E'],\n",
              "  ['G', 'A', 'F', 'C'],\n",
              "  ['G', 'A', 'E', 'C'],\n",
              "  ['G', 'F', 'E', 'C'],\n",
              "  ['A', 'F', 'E', 'C'],\n",
              "  ['H', 'G', 'A', 'F', 'E'],\n",
              "  ['H', 'G', 'A', 'F', 'C'],\n",
              "  ['H', 'G', 'A', 'E', 'C'],\n",
              "  ['H', 'G', 'F', 'E', 'C'],\n",
              "  ['H', 'A', 'F', 'E', 'C'],\n",
              "  ['G', 'A', 'F', 'E', 'C'],\n",
              "  ['H', 'G', 'A', 'F', 'E', 'C']],\n",
              " ('B', 'C'): [['H', 'G'],\n",
              "  ['H', 'A'],\n",
              "  ['H', 'F'],\n",
              "  ['H', 'D'],\n",
              "  ['H', 'E'],\n",
              "  ['G', 'A'],\n",
              "  ['G', 'F'],\n",
              "  ['G', 'D'],\n",
              "  ['G', 'E'],\n",
              "  ['A', 'F'],\n",
              "  ['A', 'D'],\n",
              "  ['A', 'E'],\n",
              "  ['F', 'D'],\n",
              "  ['F', 'E'],\n",
              "  ['D', 'E'],\n",
              "  ['H', 'G', 'A'],\n",
              "  ['H', 'G', 'F'],\n",
              "  ['H', 'G', 'D'],\n",
              "  ['H', 'G', 'E'],\n",
              "  ['H', 'A', 'F'],\n",
              "  ['H', 'A', 'D'],\n",
              "  ['H', 'A', 'E'],\n",
              "  ['H', 'F', 'D'],\n",
              "  ['H', 'F', 'E'],\n",
              "  ['H', 'D', 'E'],\n",
              "  ['G', 'A', 'F'],\n",
              "  ['G', 'A', 'D'],\n",
              "  ['G', 'A', 'E'],\n",
              "  ['G', 'F', 'D'],\n",
              "  ['G', 'F', 'E'],\n",
              "  ['G', 'D', 'E'],\n",
              "  ['A', 'F', 'D'],\n",
              "  ['A', 'F', 'E'],\n",
              "  ['A', 'D', 'E'],\n",
              "  ['F', 'D', 'E'],\n",
              "  ['H', 'G', 'A', 'F'],\n",
              "  ['H', 'G', 'A', 'D'],\n",
              "  ['H', 'G', 'A', 'E'],\n",
              "  ['H', 'G', 'F', 'D'],\n",
              "  ['H', 'G', 'F', 'E'],\n",
              "  ['H', 'G', 'D', 'E'],\n",
              "  ['H', 'A', 'F', 'D'],\n",
              "  ['H', 'A', 'F', 'E'],\n",
              "  ['H', 'A', 'D', 'E'],\n",
              "  ['H', 'F', 'D', 'E'],\n",
              "  ['G', 'A', 'F', 'D'],\n",
              "  ['G', 'A', 'F', 'E'],\n",
              "  ['G', 'A', 'D', 'E'],\n",
              "  ['G', 'F', 'D', 'E'],\n",
              "  ['A', 'F', 'D', 'E'],\n",
              "  ['H', 'G', 'A', 'F', 'D'],\n",
              "  ['H', 'G', 'A', 'F', 'E'],\n",
              "  ['H', 'G', 'A', 'D', 'E'],\n",
              "  ['H', 'G', 'F', 'D', 'E'],\n",
              "  ['H', 'A', 'F', 'D', 'E'],\n",
              "  ['G', 'A', 'F', 'D', 'E'],\n",
              "  ['H', 'G', 'A', 'F', 'D', 'E']],\n",
              " ('B', 'F'): [['G', 'D'], ['G', 'C'], ['D', 'C'], ['G', 'D', 'C']],\n",
              " ('B', 'G'): [['F', 'D'], ['F', 'C'], ['D', 'C'], ['F', 'D', 'C']],\n",
              " ('F', 'G'): [['B']]}"
            ]
          },
          "metadata": {},
          "execution_count": 124
        }
      ]
    },
    {
      "cell_type": "markdown",
      "source": [
        "In the code below, all connected edges' dependency are reported when conditioned on a condition set. \n",
        "The code took 40 minutes. So it wouldn't be useful on large graphs."
      ],
      "metadata": {
        "id": "C2-SPU55f3wV"
      }
    },
    {
      "cell_type": "code",
      "source": [
        "%load_ext autotime"
      ],
      "metadata": {
        "colab": {
          "base_uri": "https://localhost:8080/"
        },
        "id": "T0g4uDQ2Esb7",
        "outputId": "87ad0e44-341d-416b-94f0-5fd974e44748"
      },
      "execution_count": 125,
      "outputs": [
        {
          "output_type": "stream",
          "name": "stdout",
          "text": [
            "time: 546 µs (started: 2022-10-23 11:18:29 +00:00)\n"
          ]
        }
      ]
    },
    {
      "cell_type": "code",
      "source": [
        "for var_1, var_2, cond_var in combinations:\n",
        "  for cond in conds_dict[var_1, var_2]:\n",
        "    print('{} and {} are independent given {} = {}'.format(\n",
        "        var_1, var_2, cond, is_cond_independent(data_df, var_1, var_2, cond)\n",
        "    ))"
      ],
      "metadata": {
        "colab": {
          "base_uri": "https://localhost:8080/"
        },
        "id": "Z0stgN3qwPG-",
        "outputId": "2d49642d-6b85-455b-d22b-1145479b057e"
      },
      "execution_count": 126,
      "outputs": [
        {
          "output_type": "stream",
          "name": "stdout",
          "text": [
            "E and A are independent given ['H', 'D'] = False\n",
            "E and A are independent given ['H', 'C'] = False\n",
            "E and A are independent given ['D', 'C'] = False\n",
            "E and A are independent given ['H', 'D', 'C'] = False\n",
            "E and A are independent given ['H', 'D'] = False\n",
            "E and A are independent given ['H', 'C'] = False\n",
            "E and A are independent given ['D', 'C'] = False\n",
            "E and A are independent given ['H', 'D', 'C'] = False\n",
            "E and A are independent given ['H', 'D'] = False\n",
            "E and A are independent given ['H', 'C'] = False\n",
            "E and A are independent given ['D', 'C'] = False\n",
            "E and A are independent given ['H', 'D', 'C'] = False\n",
            "E and D are independent given ['H', 'A'] = True\n",
            "E and D are independent given ['H', 'B'] = False\n",
            "E and D are independent given ['H', 'C'] = True\n",
            "E and D are independent given ['A', 'B'] = True\n",
            "E and D are independent given ['A', 'C'] = True\n",
            "E and D are independent given ['B', 'C'] = True\n",
            "E and D are independent given ['H', 'A', 'B'] = True\n",
            "E and D are independent given ['H', 'A', 'C'] = True\n",
            "E and D are independent given ['H', 'B', 'C'] = True\n",
            "E and D are independent given ['A', 'B', 'C'] = True\n",
            "E and D are independent given ['H', 'A', 'B', 'C'] = True\n",
            "E and D are independent given ['H', 'A'] = True\n",
            "E and D are independent given ['H', 'B'] = False\n",
            "E and D are independent given ['H', 'C'] = True\n",
            "E and D are independent given ['A', 'B'] = True\n",
            "E and D are independent given ['A', 'C'] = True\n",
            "E and D are independent given ['B', 'C'] = True\n",
            "E and D are independent given ['H', 'A', 'B'] = True\n",
            "E and D are independent given ['H', 'A', 'C'] = True\n",
            "E and D are independent given ['H', 'B', 'C'] = True\n",
            "E and D are independent given ['A', 'B', 'C'] = True\n",
            "E and D are independent given ['H', 'A', 'B', 'C'] = True\n",
            "E and D are independent given ['H', 'A'] = True\n",
            "E and D are independent given ['H', 'B'] = False\n",
            "E and D are independent given ['H', 'C'] = True\n",
            "E and D are independent given ['A', 'B'] = True\n",
            "E and D are independent given ['A', 'C'] = True\n",
            "E and D are independent given ['B', 'C'] = True\n",
            "E and D are independent given ['H', 'A', 'B'] = True\n",
            "E and D are independent given ['H', 'A', 'C'] = True\n",
            "E and D are independent given ['H', 'B', 'C'] = True\n",
            "E and D are independent given ['A', 'B', 'C'] = True\n",
            "E and D are independent given ['H', 'A', 'B', 'C'] = True\n",
            "E and D are independent given ['H', 'A'] = True\n",
            "E and D are independent given ['H', 'B'] = False\n",
            "E and D are independent given ['H', 'C'] = True\n",
            "E and D are independent given ['A', 'B'] = True\n",
            "E and D are independent given ['A', 'C'] = True\n",
            "E and D are independent given ['B', 'C'] = True\n",
            "E and D are independent given ['H', 'A', 'B'] = True\n",
            "E and D are independent given ['H', 'A', 'C'] = True\n",
            "E and D are independent given ['H', 'B', 'C'] = True\n",
            "E and D are independent given ['A', 'B', 'C'] = True\n",
            "E and D are independent given ['H', 'A', 'B', 'C'] = True\n",
            "E and H are independent given ['A', 'D'] = True\n",
            "E and H are independent given ['A', 'C'] = True\n",
            "E and H are independent given ['D', 'C'] = True\n",
            "E and H are independent given ['A', 'D', 'C'] = True\n",
            "E and H are independent given ['A', 'D'] = True\n",
            "E and H are independent given ['A', 'C'] = True\n",
            "E and H are independent given ['D', 'C'] = True\n",
            "E and H are independent given ['A', 'D', 'C'] = True\n",
            "E and H are independent given ['A', 'D'] = True\n",
            "E and H are independent given ['A', 'C'] = True\n",
            "E and H are independent given ['D', 'C'] = True\n",
            "E and H are independent given ['A', 'D', 'C'] = True\n",
            "E and C are independent given ['H', 'B'] = False\n",
            "E and C are independent given ['H', 'A'] = True\n",
            "E and C are independent given ['H', 'D'] = False\n",
            "E and C are independent given ['B', 'A'] = True\n",
            "E and C are independent given ['B', 'D'] = False\n",
            "E and C are independent given ['A', 'D'] = True\n",
            "E and C are independent given ['H', 'B', 'A'] = True\n",
            "E and C are independent given ['H', 'B', 'D'] = False\n",
            "E and C are independent given ['H', 'A', 'D'] = True\n",
            "E and C are independent given ['B', 'A', 'D'] = True\n",
            "E and C are independent given ['H', 'B', 'A', 'D'] = True\n",
            "E and C are independent given ['H', 'B'] = False\n",
            "E and C are independent given ['H', 'A'] = True\n",
            "E and C are independent given ['H', 'D'] = False\n",
            "E and C are independent given ['B', 'A'] = True\n",
            "E and C are independent given ['B', 'D'] = False\n",
            "E and C are independent given ['A', 'D'] = True\n",
            "E and C are independent given ['H', 'B', 'A'] = True\n",
            "E and C are independent given ['H', 'B', 'D'] = False\n",
            "E and C are independent given ['H', 'A', 'D'] = True\n",
            "E and C are independent given ['B', 'A', 'D'] = True\n",
            "E and C are independent given ['H', 'B', 'A', 'D'] = True\n",
            "E and C are independent given ['H', 'B'] = False\n",
            "E and C are independent given ['H', 'A'] = True\n",
            "E and C are independent given ['H', 'D'] = False\n",
            "E and C are independent given ['B', 'A'] = True\n",
            "E and C are independent given ['B', 'D'] = False\n",
            "E and C are independent given ['A', 'D'] = True\n",
            "E and C are independent given ['H', 'B', 'A'] = True\n",
            "E and C are independent given ['H', 'B', 'D'] = False\n",
            "E and C are independent given ['H', 'A', 'D'] = True\n",
            "E and C are independent given ['B', 'A', 'D'] = True\n",
            "E and C are independent given ['H', 'B', 'A', 'D'] = True\n",
            "E and C are independent given ['H', 'B'] = False\n",
            "E and C are independent given ['H', 'A'] = True\n",
            "E and C are independent given ['H', 'D'] = False\n",
            "E and C are independent given ['B', 'A'] = True\n",
            "E and C are independent given ['B', 'D'] = False\n",
            "E and C are independent given ['A', 'D'] = True\n",
            "E and C are independent given ['H', 'B', 'A'] = True\n",
            "E and C are independent given ['H', 'B', 'D'] = False\n",
            "E and C are independent given ['H', 'A', 'D'] = True\n",
            "E and C are independent given ['B', 'A', 'D'] = True\n",
            "E and C are independent given ['H', 'B', 'A', 'D'] = True\n",
            "A and C are independent given ['H', 'B'] = False\n",
            "A and C are independent given ['H', 'E'] = False\n",
            "A and C are independent given ['H', 'D'] = False\n",
            "A and C are independent given ['B', 'E'] = False\n",
            "A and C are independent given ['B', 'D'] = False\n",
            "A and C are independent given ['E', 'D'] = False\n",
            "A and C are independent given ['H', 'B', 'E'] = False\n",
            "A and C are independent given ['H', 'B', 'D'] = False\n",
            "A and C are independent given ['H', 'E', 'D'] = False\n",
            "A and C are independent given ['B', 'E', 'D'] = False\n",
            "A and C are independent given ['H', 'B', 'E', 'D'] = False\n",
            "A and C are independent given ['H', 'B'] = False\n",
            "A and C are independent given ['H', 'E'] = False\n",
            "A and C are independent given ['H', 'D'] = False\n",
            "A and C are independent given ['B', 'E'] = False\n",
            "A and C are independent given ['B', 'D'] = False\n",
            "A and C are independent given ['E', 'D'] = False\n",
            "A and C are independent given ['H', 'B', 'E'] = False\n",
            "A and C are independent given ['H', 'B', 'D'] = False\n",
            "A and C are independent given ['H', 'E', 'D'] = False\n",
            "A and C are independent given ['B', 'E', 'D'] = False\n",
            "A and C are independent given ['H', 'B', 'E', 'D'] = False\n",
            "A and C are independent given ['H', 'B'] = False\n",
            "A and C are independent given ['H', 'E'] = False\n",
            "A and C are independent given ['H', 'D'] = False\n",
            "A and C are independent given ['B', 'E'] = False\n",
            "A and C are independent given ['B', 'D'] = False\n",
            "A and C are independent given ['E', 'D'] = False\n",
            "A and C are independent given ['H', 'B', 'E'] = False\n",
            "A and C are independent given ['H', 'B', 'D'] = False\n",
            "A and C are independent given ['H', 'E', 'D'] = False\n",
            "A and C are independent given ['B', 'E', 'D'] = False\n",
            "A and C are independent given ['H', 'B', 'E', 'D'] = False\n",
            "A and C are independent given ['H', 'B'] = False\n",
            "A and C are independent given ['H', 'E'] = False\n",
            "A and C are independent given ['H', 'D'] = False\n",
            "A and C are independent given ['B', 'E'] = False\n",
            "A and C are independent given ['B', 'D'] = False\n",
            "A and C are independent given ['E', 'D'] = False\n",
            "A and C are independent given ['H', 'B', 'E'] = False\n",
            "A and C are independent given ['H', 'B', 'D'] = False\n",
            "A and C are independent given ['H', 'E', 'D'] = False\n",
            "A and C are independent given ['B', 'E', 'D'] = False\n",
            "A and C are independent given ['H', 'B', 'E', 'D'] = False\n",
            "A and D are independent given ['H', 'B'] = False\n",
            "A and D are independent given ['H', 'E'] = False\n",
            "A and D are independent given ['H', 'C'] = True\n",
            "A and D are independent given ['B', 'E'] = False\n",
            "A and D are independent given ['B', 'C'] = True\n",
            "A and D are independent given ['E', 'C'] = True\n",
            "A and D are independent given ['H', 'B', 'E'] = False\n",
            "A and D are independent given ['H', 'B', 'C'] = True\n",
            "A and D are independent given ['H', 'E', 'C'] = True\n",
            "A and D are independent given ['B', 'E', 'C'] = True\n",
            "A and D are independent given ['H', 'B', 'E', 'C'] = True\n",
            "A and D are independent given ['H', 'B'] = False\n",
            "A and D are independent given ['H', 'E'] = False\n",
            "A and D are independent given ['H', 'C'] = True\n",
            "A and D are independent given ['B', 'E'] = False\n",
            "A and D are independent given ['B', 'C'] = True\n",
            "A and D are independent given ['E', 'C'] = True\n",
            "A and D are independent given ['H', 'B', 'E'] = False\n",
            "A and D are independent given ['H', 'B', 'C'] = True\n",
            "A and D are independent given ['H', 'E', 'C'] = True\n",
            "A and D are independent given ['B', 'E', 'C'] = True\n",
            "A and D are independent given ['H', 'B', 'E', 'C'] = True\n",
            "A and D are independent given ['H', 'B'] = False\n",
            "A and D are independent given ['H', 'E'] = False\n",
            "A and D are independent given ['H', 'C'] = True\n",
            "A and D are independent given ['B', 'E'] = False\n",
            "A and D are independent given ['B', 'C'] = True\n",
            "A and D are independent given ['E', 'C'] = True\n",
            "A and D are independent given ['H', 'B', 'E'] = False\n",
            "A and D are independent given ['H', 'B', 'C'] = True\n",
            "A and D are independent given ['H', 'E', 'C'] = True\n",
            "A and D are independent given ['B', 'E', 'C'] = True\n",
            "A and D are independent given ['H', 'B', 'E', 'C'] = True\n",
            "A and D are independent given ['H', 'B'] = False\n",
            "A and D are independent given ['H', 'E'] = False\n",
            "A and D are independent given ['H', 'C'] = True\n",
            "A and D are independent given ['B', 'E'] = False\n",
            "A and D are independent given ['B', 'C'] = True\n",
            "A and D are independent given ['E', 'C'] = True\n",
            "A and D are independent given ['H', 'B', 'E'] = False\n",
            "A and D are independent given ['H', 'B', 'C'] = True\n",
            "A and D are independent given ['H', 'E', 'C'] = True\n",
            "A and D are independent given ['B', 'E', 'C'] = True\n",
            "A and D are independent given ['H', 'B', 'E', 'C'] = True\n",
            "A and H are independent given ['D', 'E'] = True\n",
            "A and H are independent given ['D', 'C'] = True\n",
            "A and H are independent given ['E', 'C'] = True\n",
            "A and H are independent given ['D', 'E', 'C'] = True\n",
            "A and H are independent given ['D', 'E'] = True\n",
            "A and H are independent given ['D', 'C'] = True\n",
            "A and H are independent given ['E', 'C'] = True\n",
            "A and H are independent given ['D', 'E', 'C'] = True\n",
            "A and H are independent given ['D', 'E'] = True\n",
            "A and H are independent given ['D', 'C'] = True\n",
            "A and H are independent given ['E', 'C'] = True\n",
            "A and H are independent given ['D', 'E', 'C'] = True\n",
            "H and D are independent given ['B', 'A'] = False\n",
            "H and D are independent given ['B', 'E'] = False\n",
            "H and D are independent given ['B', 'C'] = False\n",
            "H and D are independent given ['A', 'E'] = False\n",
            "H and D are independent given ['A', 'C'] = False\n",
            "H and D are independent given ['E', 'C'] = False\n",
            "H and D are independent given ['B', 'A', 'E'] = False\n",
            "H and D are independent given ['B', 'A', 'C'] = False\n",
            "H and D are independent given ['B', 'E', 'C'] = False\n",
            "H and D are independent given ['A', 'E', 'C'] = False\n",
            "H and D are independent given ['B', 'A', 'E', 'C'] = False\n",
            "H and D are independent given ['B', 'A'] = False\n",
            "H and D are independent given ['B', 'E'] = False\n",
            "H and D are independent given ['B', 'C'] = False\n",
            "H and D are independent given ['A', 'E'] = False\n",
            "H and D are independent given ['A', 'C'] = False\n",
            "H and D are independent given ['E', 'C'] = False\n",
            "H and D are independent given ['B', 'A', 'E'] = False\n",
            "H and D are independent given ['B', 'A', 'C'] = False\n",
            "H and D are independent given ['B', 'E', 'C'] = False\n",
            "H and D are independent given ['A', 'E', 'C'] = False\n",
            "H and D are independent given ['B', 'A', 'E', 'C'] = False\n",
            "H and D are independent given ['B', 'A'] = False\n",
            "H and D are independent given ['B', 'E'] = False\n",
            "H and D are independent given ['B', 'C'] = False\n",
            "H and D are independent given ['A', 'E'] = False\n",
            "H and D are independent given ['A', 'C'] = False\n",
            "H and D are independent given ['E', 'C'] = False\n",
            "H and D are independent given ['B', 'A', 'E'] = False\n",
            "H and D are independent given ['B', 'A', 'C'] = False\n",
            "H and D are independent given ['B', 'E', 'C'] = False\n",
            "H and D are independent given ['A', 'E', 'C'] = False\n",
            "H and D are independent given ['B', 'A', 'E', 'C'] = False\n",
            "H and D are independent given ['B', 'A'] = False\n",
            "H and D are independent given ['B', 'E'] = False\n",
            "H and D are independent given ['B', 'C'] = False\n",
            "H and D are independent given ['A', 'E'] = False\n",
            "H and D are independent given ['A', 'C'] = False\n",
            "H and D are independent given ['E', 'C'] = False\n",
            "H and D are independent given ['B', 'A', 'E'] = False\n",
            "H and D are independent given ['B', 'A', 'C'] = False\n",
            "H and D are independent given ['B', 'E', 'C'] = False\n",
            "H and D are independent given ['A', 'E', 'C'] = False\n",
            "H and D are independent given ['B', 'A', 'E', 'C'] = False\n",
            "H and C are independent given ['B', 'A'] = False\n",
            "H and C are independent given ['B', 'E'] = False\n",
            "H and C are independent given ['B', 'D'] = True\n",
            "H and C are independent given ['A', 'E'] = False\n",
            "H and C are independent given ['A', 'D'] = True\n",
            "H and C are independent given ['E', 'D'] = True\n",
            "H and C are independent given ['B', 'A', 'E'] = False\n",
            "H and C are independent given ['B', 'A', 'D'] = True\n",
            "H and C are independent given ['B', 'E', 'D'] = True\n",
            "H and C are independent given ['A', 'E', 'D'] = True\n",
            "H and C are independent given ['B', 'A', 'E', 'D'] = True\n",
            "H and C are independent given ['B', 'A'] = False\n",
            "H and C are independent given ['B', 'E'] = False\n",
            "H and C are independent given ['B', 'D'] = True\n",
            "H and C are independent given ['A', 'E'] = False\n",
            "H and C are independent given ['A', 'D'] = True\n",
            "H and C are independent given ['E', 'D'] = True\n",
            "H and C are independent given ['B', 'A', 'E'] = False\n",
            "H and C are independent given ['B', 'A', 'D'] = True\n",
            "H and C are independent given ['B', 'E', 'D'] = True\n",
            "H and C are independent given ['A', 'E', 'D'] = True\n",
            "H and C are independent given ['B', 'A', 'E', 'D'] = True\n",
            "H and C are independent given ['B', 'A'] = False\n",
            "H and C are independent given ['B', 'E'] = False\n",
            "H and C are independent given ['B', 'D'] = True\n",
            "H and C are independent given ['A', 'E'] = False\n",
            "H and C are independent given ['A', 'D'] = True\n",
            "H and C are independent given ['E', 'D'] = True\n",
            "H and C are independent given ['B', 'A', 'E'] = False\n",
            "H and C are independent given ['B', 'A', 'D'] = True\n",
            "H and C are independent given ['B', 'E', 'D'] = True\n",
            "H and C are independent given ['A', 'E', 'D'] = True\n",
            "H and C are independent given ['B', 'A', 'E', 'D'] = True\n",
            "H and C are independent given ['B', 'A'] = False\n",
            "H and C are independent given ['B', 'E'] = False\n",
            "H and C are independent given ['B', 'D'] = True\n",
            "H and C are independent given ['A', 'E'] = False\n",
            "H and C are independent given ['A', 'D'] = True\n",
            "H and C are independent given ['E', 'D'] = True\n",
            "H and C are independent given ['B', 'A', 'E'] = False\n",
            "H and C are independent given ['B', 'A', 'D'] = True\n",
            "H and C are independent given ['B', 'E', 'D'] = True\n",
            "H and C are independent given ['A', 'E', 'D'] = True\n",
            "H and C are independent given ['B', 'A', 'E', 'D'] = True\n",
            "D and C are independent given ['B', 'H'] = False\n",
            "D and C are independent given ['B', 'A'] = False\n",
            "D and C are independent given ['B', 'E'] = False\n",
            "D and C are independent given ['H', 'A'] = False\n",
            "D and C are independent given ['H', 'E'] = False\n",
            "D and C are independent given ['A', 'E'] = False\n",
            "D and C are independent given ['B', 'H', 'A'] = False\n",
            "D and C are independent given ['B', 'H', 'E'] = False\n",
            "D and C are independent given ['B', 'A', 'E'] = False\n",
            "D and C are independent given ['H', 'A', 'E'] = False\n",
            "D and C are independent given ['B', 'H', 'A', 'E'] = False\n",
            "D and C are independent given ['B', 'H'] = False\n",
            "D and C are independent given ['B', 'A'] = False\n",
            "D and C are independent given ['B', 'E'] = False\n",
            "D and C are independent given ['H', 'A'] = False\n",
            "D and C are independent given ['H', 'E'] = False\n",
            "D and C are independent given ['A', 'E'] = False\n",
            "D and C are independent given ['B', 'H', 'A'] = False\n",
            "D and C are independent given ['B', 'H', 'E'] = False\n",
            "D and C are independent given ['B', 'A', 'E'] = False\n",
            "D and C are independent given ['H', 'A', 'E'] = False\n",
            "D and C are independent given ['B', 'H', 'A', 'E'] = False\n",
            "D and C are independent given ['B', 'H'] = False\n",
            "D and C are independent given ['B', 'A'] = False\n",
            "D and C are independent given ['B', 'E'] = False\n",
            "D and C are independent given ['H', 'A'] = False\n",
            "D and C are independent given ['H', 'E'] = False\n",
            "D and C are independent given ['A', 'E'] = False\n",
            "D and C are independent given ['B', 'H', 'A'] = False\n",
            "D and C are independent given ['B', 'H', 'E'] = False\n",
            "D and C are independent given ['B', 'A', 'E'] = False\n",
            "D and C are independent given ['H', 'A', 'E'] = False\n",
            "D and C are independent given ['B', 'H', 'A', 'E'] = False\n",
            "D and C are independent given ['B', 'H'] = False\n",
            "D and C are independent given ['B', 'A'] = False\n",
            "D and C are independent given ['B', 'E'] = False\n",
            "D and C are independent given ['H', 'A'] = False\n",
            "D and C are independent given ['H', 'E'] = False\n",
            "D and C are independent given ['A', 'E'] = False\n",
            "D and C are independent given ['B', 'H', 'A'] = False\n",
            "D and C are independent given ['B', 'H', 'E'] = False\n",
            "D and C are independent given ['B', 'A', 'E'] = False\n",
            "D and C are independent given ['H', 'A', 'E'] = False\n",
            "D and C are independent given ['B', 'H', 'A', 'E'] = False\n",
            "D and B are independent given ['H', 'G'] = False\n",
            "D and B are independent given ['H', 'A'] = False\n",
            "D and B are independent given ['H', 'F'] = False\n",
            "D and B are independent given ['H', 'E'] = False\n",
            "D and B are independent given ['H', 'C'] = True\n",
            "D and B are independent given ['G', 'A'] = False\n",
            "D and B are independent given ['G', 'F'] = False\n",
            "D and B are independent given ['G', 'E'] = False\n",
            "D and B are independent given ['G', 'C'] = True\n",
            "D and B are independent given ['A', 'F'] = False\n",
            "D and B are independent given ['A', 'E'] = False\n",
            "D and B are independent given ['A', 'C'] = True\n",
            "D and B are independent given ['F', 'E'] = False\n",
            "D and B are independent given ['F', 'C'] = True\n",
            "D and B are independent given ['E', 'C'] = True\n",
            "D and B are independent given ['H', 'G', 'A'] = False\n",
            "D and B are independent given ['H', 'G', 'F'] = False\n",
            "D and B are independent given ['H', 'G', 'E'] = False\n",
            "D and B are independent given ['H', 'G', 'C'] = True\n",
            "D and B are independent given ['H', 'A', 'F'] = False\n",
            "D and B are independent given ['H', 'A', 'E'] = False\n",
            "D and B are independent given ['H', 'A', 'C'] = True\n",
            "D and B are independent given ['H', 'F', 'E'] = False\n",
            "D and B are independent given ['H', 'F', 'C'] = True\n",
            "D and B are independent given ['H', 'E', 'C'] = True\n",
            "D and B are independent given ['G', 'A', 'F'] = False\n",
            "D and B are independent given ['G', 'A', 'E'] = False\n",
            "D and B are independent given ['G', 'A', 'C'] = True\n",
            "D and B are independent given ['G', 'F', 'E'] = False\n",
            "D and B are independent given ['G', 'F', 'C'] = True\n",
            "D and B are independent given ['G', 'E', 'C'] = True\n",
            "D and B are independent given ['A', 'F', 'E'] = False\n",
            "D and B are independent given ['A', 'F', 'C'] = True\n",
            "D and B are independent given ['A', 'E', 'C'] = True\n",
            "D and B are independent given ['F', 'E', 'C'] = True\n",
            "D and B are independent given ['H', 'G', 'A', 'F'] = False\n",
            "D and B are independent given ['H', 'G', 'A', 'E'] = False\n",
            "D and B are independent given ['H', 'G', 'A', 'C'] = True\n",
            "D and B are independent given ['H', 'G', 'F', 'E'] = False\n",
            "D and B are independent given ['H', 'G', 'F', 'C'] = True\n",
            "D and B are independent given ['H', 'G', 'E', 'C'] = True\n",
            "D and B are independent given ['H', 'A', 'F', 'E'] = False\n",
            "D and B are independent given ['H', 'A', 'F', 'C'] = True\n",
            "D and B are independent given ['H', 'A', 'E', 'C'] = True\n",
            "D and B are independent given ['H', 'F', 'E', 'C'] = True\n",
            "D and B are independent given ['G', 'A', 'F', 'E'] = False\n",
            "D and B are independent given ['G', 'A', 'F', 'C'] = True\n",
            "D and B are independent given ['G', 'A', 'E', 'C'] = True\n",
            "D and B are independent given ['G', 'F', 'E', 'C'] = True\n",
            "D and B are independent given ['A', 'F', 'E', 'C'] = True\n",
            "D and B are independent given ['H', 'G', 'A', 'F', 'E'] = False\n",
            "D and B are independent given ['H', 'G', 'A', 'F', 'C'] = True\n",
            "D and B are independent given ['H', 'G', 'A', 'E', 'C'] = True\n",
            "D and B are independent given ['H', 'G', 'F', 'E', 'C'] = True\n",
            "D and B are independent given ['H', 'A', 'F', 'E', 'C'] = True\n",
            "D and B are independent given ['G', 'A', 'F', 'E', 'C'] = True\n",
            "D and B are independent given ['H', 'G', 'A', 'F', 'E', 'C'] = True\n",
            "D and B are independent given ['H', 'G'] = False\n",
            "D and B are independent given ['H', 'A'] = False\n",
            "D and B are independent given ['H', 'F'] = False\n",
            "D and B are independent given ['H', 'E'] = False\n",
            "D and B are independent given ['H', 'C'] = True\n",
            "D and B are independent given ['G', 'A'] = False\n",
            "D and B are independent given ['G', 'F'] = False\n",
            "D and B are independent given ['G', 'E'] = False\n",
            "D and B are independent given ['G', 'C'] = True\n",
            "D and B are independent given ['A', 'F'] = False\n",
            "D and B are independent given ['A', 'E'] = False\n",
            "D and B are independent given ['A', 'C'] = True\n",
            "D and B are independent given ['F', 'E'] = False\n",
            "D and B are independent given ['F', 'C'] = True\n",
            "D and B are independent given ['E', 'C'] = True\n",
            "D and B are independent given ['H', 'G', 'A'] = False\n",
            "D and B are independent given ['H', 'G', 'F'] = False\n",
            "D and B are independent given ['H', 'G', 'E'] = False\n",
            "D and B are independent given ['H', 'G', 'C'] = True\n",
            "D and B are independent given ['H', 'A', 'F'] = False\n",
            "D and B are independent given ['H', 'A', 'E'] = False\n",
            "D and B are independent given ['H', 'A', 'C'] = True\n",
            "D and B are independent given ['H', 'F', 'E'] = False\n",
            "D and B are independent given ['H', 'F', 'C'] = True\n",
            "D and B are independent given ['H', 'E', 'C'] = True\n",
            "D and B are independent given ['G', 'A', 'F'] = False\n",
            "D and B are independent given ['G', 'A', 'E'] = False\n",
            "D and B are independent given ['G', 'A', 'C'] = True\n",
            "D and B are independent given ['G', 'F', 'E'] = False\n",
            "D and B are independent given ['G', 'F', 'C'] = True\n",
            "D and B are independent given ['G', 'E', 'C'] = True\n",
            "D and B are independent given ['A', 'F', 'E'] = False\n",
            "D and B are independent given ['A', 'F', 'C'] = True\n",
            "D and B are independent given ['A', 'E', 'C'] = True\n",
            "D and B are independent given ['F', 'E', 'C'] = True\n",
            "D and B are independent given ['H', 'G', 'A', 'F'] = False\n",
            "D and B are independent given ['H', 'G', 'A', 'E'] = False\n",
            "D and B are independent given ['H', 'G', 'A', 'C'] = True\n",
            "D and B are independent given ['H', 'G', 'F', 'E'] = False\n",
            "D and B are independent given ['H', 'G', 'F', 'C'] = True\n",
            "D and B are independent given ['H', 'G', 'E', 'C'] = True\n",
            "D and B are independent given ['H', 'A', 'F', 'E'] = False\n",
            "D and B are independent given ['H', 'A', 'F', 'C'] = True\n",
            "D and B are independent given ['H', 'A', 'E', 'C'] = True\n",
            "D and B are independent given ['H', 'F', 'E', 'C'] = True\n",
            "D and B are independent given ['G', 'A', 'F', 'E'] = False\n",
            "D and B are independent given ['G', 'A', 'F', 'C'] = True\n",
            "D and B are independent given ['G', 'A', 'E', 'C'] = True\n",
            "D and B are independent given ['G', 'F', 'E', 'C'] = True\n",
            "D and B are independent given ['A', 'F', 'E', 'C'] = True\n",
            "D and B are independent given ['H', 'G', 'A', 'F', 'E'] = False\n",
            "D and B are independent given ['H', 'G', 'A', 'F', 'C'] = True\n",
            "D and B are independent given ['H', 'G', 'A', 'E', 'C'] = True\n",
            "D and B are independent given ['H', 'G', 'F', 'E', 'C'] = True\n",
            "D and B are independent given ['H', 'A', 'F', 'E', 'C'] = True\n",
            "D and B are independent given ['G', 'A', 'F', 'E', 'C'] = True\n",
            "D and B are independent given ['H', 'G', 'A', 'F', 'E', 'C'] = True\n",
            "D and B are independent given ['H', 'G'] = False\n",
            "D and B are independent given ['H', 'A'] = False\n",
            "D and B are independent given ['H', 'F'] = False\n",
            "D and B are independent given ['H', 'E'] = False\n",
            "D and B are independent given ['H', 'C'] = True\n",
            "D and B are independent given ['G', 'A'] = False\n",
            "D and B are independent given ['G', 'F'] = False\n",
            "D and B are independent given ['G', 'E'] = False\n",
            "D and B are independent given ['G', 'C'] = True\n",
            "D and B are independent given ['A', 'F'] = False\n",
            "D and B are independent given ['A', 'E'] = False\n",
            "D and B are independent given ['A', 'C'] = True\n",
            "D and B are independent given ['F', 'E'] = False\n",
            "D and B are independent given ['F', 'C'] = True\n",
            "D and B are independent given ['E', 'C'] = True\n",
            "D and B are independent given ['H', 'G', 'A'] = False\n",
            "D and B are independent given ['H', 'G', 'F'] = False\n",
            "D and B are independent given ['H', 'G', 'E'] = False\n",
            "D and B are independent given ['H', 'G', 'C'] = True\n",
            "D and B are independent given ['H', 'A', 'F'] = False\n",
            "D and B are independent given ['H', 'A', 'E'] = False\n",
            "D and B are independent given ['H', 'A', 'C'] = True\n",
            "D and B are independent given ['H', 'F', 'E'] = False\n",
            "D and B are independent given ['H', 'F', 'C'] = True\n",
            "D and B are independent given ['H', 'E', 'C'] = True\n",
            "D and B are independent given ['G', 'A', 'F'] = False\n",
            "D and B are independent given ['G', 'A', 'E'] = False\n",
            "D and B are independent given ['G', 'A', 'C'] = True\n",
            "D and B are independent given ['G', 'F', 'E'] = False\n",
            "D and B are independent given ['G', 'F', 'C'] = True\n",
            "D and B are independent given ['G', 'E', 'C'] = True\n",
            "D and B are independent given ['A', 'F', 'E'] = False\n",
            "D and B are independent given ['A', 'F', 'C'] = True\n",
            "D and B are independent given ['A', 'E', 'C'] = True\n",
            "D and B are independent given ['F', 'E', 'C'] = True\n",
            "D and B are independent given ['H', 'G', 'A', 'F'] = False\n",
            "D and B are independent given ['H', 'G', 'A', 'E'] = False\n",
            "D and B are independent given ['H', 'G', 'A', 'C'] = True\n",
            "D and B are independent given ['H', 'G', 'F', 'E'] = False\n",
            "D and B are independent given ['H', 'G', 'F', 'C'] = True\n",
            "D and B are independent given ['H', 'G', 'E', 'C'] = True\n",
            "D and B are independent given ['H', 'A', 'F', 'E'] = False\n",
            "D and B are independent given ['H', 'A', 'F', 'C'] = True\n",
            "D and B are independent given ['H', 'A', 'E', 'C'] = True\n",
            "D and B are independent given ['H', 'F', 'E', 'C'] = True\n",
            "D and B are independent given ['G', 'A', 'F', 'E'] = False\n",
            "D and B are independent given ['G', 'A', 'F', 'C'] = True\n",
            "D and B are independent given ['G', 'A', 'E', 'C'] = True\n",
            "D and B are independent given ['G', 'F', 'E', 'C'] = True\n",
            "D and B are independent given ['A', 'F', 'E', 'C'] = True\n",
            "D and B are independent given ['H', 'G', 'A', 'F', 'E'] = False\n",
            "D and B are independent given ['H', 'G', 'A', 'F', 'C'] = True\n",
            "D and B are independent given ['H', 'G', 'A', 'E', 'C'] = True\n",
            "D and B are independent given ['H', 'G', 'F', 'E', 'C'] = True\n",
            "D and B are independent given ['H', 'A', 'F', 'E', 'C'] = True\n",
            "D and B are independent given ['G', 'A', 'F', 'E', 'C'] = True\n",
            "D and B are independent given ['H', 'G', 'A', 'F', 'E', 'C'] = True\n",
            "D and B are independent given ['H', 'G'] = False\n",
            "D and B are independent given ['H', 'A'] = False\n",
            "D and B are independent given ['H', 'F'] = False\n",
            "D and B are independent given ['H', 'E'] = False\n",
            "D and B are independent given ['H', 'C'] = True\n",
            "D and B are independent given ['G', 'A'] = False\n",
            "D and B are independent given ['G', 'F'] = False\n",
            "D and B are independent given ['G', 'E'] = False\n",
            "D and B are independent given ['G', 'C'] = True\n",
            "D and B are independent given ['A', 'F'] = False\n",
            "D and B are independent given ['A', 'E'] = False\n",
            "D and B are independent given ['A', 'C'] = True\n",
            "D and B are independent given ['F', 'E'] = False\n",
            "D and B are independent given ['F', 'C'] = True\n",
            "D and B are independent given ['E', 'C'] = True\n",
            "D and B are independent given ['H', 'G', 'A'] = False\n",
            "D and B are independent given ['H', 'G', 'F'] = False\n",
            "D and B are independent given ['H', 'G', 'E'] = False\n",
            "D and B are independent given ['H', 'G', 'C'] = True\n",
            "D and B are independent given ['H', 'A', 'F'] = False\n",
            "D and B are independent given ['H', 'A', 'E'] = False\n",
            "D and B are independent given ['H', 'A', 'C'] = True\n",
            "D and B are independent given ['H', 'F', 'E'] = False\n",
            "D and B are independent given ['H', 'F', 'C'] = True\n",
            "D and B are independent given ['H', 'E', 'C'] = True\n",
            "D and B are independent given ['G', 'A', 'F'] = False\n",
            "D and B are independent given ['G', 'A', 'E'] = False\n",
            "D and B are independent given ['G', 'A', 'C'] = True\n",
            "D and B are independent given ['G', 'F', 'E'] = False\n",
            "D and B are independent given ['G', 'F', 'C'] = True\n",
            "D and B are independent given ['G', 'E', 'C'] = True\n",
            "D and B are independent given ['A', 'F', 'E'] = False\n",
            "D and B are independent given ['A', 'F', 'C'] = True\n",
            "D and B are independent given ['A', 'E', 'C'] = True\n",
            "D and B are independent given ['F', 'E', 'C'] = True\n",
            "D and B are independent given ['H', 'G', 'A', 'F'] = False\n",
            "D and B are independent given ['H', 'G', 'A', 'E'] = False\n",
            "D and B are independent given ['H', 'G', 'A', 'C'] = True\n",
            "D and B are independent given ['H', 'G', 'F', 'E'] = False\n",
            "D and B are independent given ['H', 'G', 'F', 'C'] = True\n",
            "D and B are independent given ['H', 'G', 'E', 'C'] = True\n",
            "D and B are independent given ['H', 'A', 'F', 'E'] = False\n",
            "D and B are independent given ['H', 'A', 'F', 'C'] = True\n",
            "D and B are independent given ['H', 'A', 'E', 'C'] = True\n",
            "D and B are independent given ['H', 'F', 'E', 'C'] = True\n",
            "D and B are independent given ['G', 'A', 'F', 'E'] = False\n",
            "D and B are independent given ['G', 'A', 'F', 'C'] = True\n",
            "D and B are independent given ['G', 'A', 'E', 'C'] = True\n",
            "D and B are independent given ['G', 'F', 'E', 'C'] = True\n",
            "D and B are independent given ['A', 'F', 'E', 'C'] = True\n",
            "D and B are independent given ['H', 'G', 'A', 'F', 'E'] = False\n",
            "D and B are independent given ['H', 'G', 'A', 'F', 'C'] = True\n",
            "D and B are independent given ['H', 'G', 'A', 'E', 'C'] = True\n",
            "D and B are independent given ['H', 'G', 'F', 'E', 'C'] = True\n",
            "D and B are independent given ['H', 'A', 'F', 'E', 'C'] = True\n",
            "D and B are independent given ['G', 'A', 'F', 'E', 'C'] = True\n",
            "D and B are independent given ['H', 'G', 'A', 'F', 'E', 'C'] = True\n",
            "D and B are independent given ['H', 'G'] = False\n",
            "D and B are independent given ['H', 'A'] = False\n",
            "D and B are independent given ['H', 'F'] = False\n",
            "D and B are independent given ['H', 'E'] = False\n",
            "D and B are independent given ['H', 'C'] = True\n",
            "D and B are independent given ['G', 'A'] = False\n",
            "D and B are independent given ['G', 'F'] = False\n",
            "D and B are independent given ['G', 'E'] = False\n",
            "D and B are independent given ['G', 'C'] = True\n",
            "D and B are independent given ['A', 'F'] = False\n",
            "D and B are independent given ['A', 'E'] = False\n",
            "D and B are independent given ['A', 'C'] = True\n",
            "D and B are independent given ['F', 'E'] = False\n",
            "D and B are independent given ['F', 'C'] = True\n",
            "D and B are independent given ['E', 'C'] = True\n",
            "D and B are independent given ['H', 'G', 'A'] = False\n",
            "D and B are independent given ['H', 'G', 'F'] = False\n",
            "D and B are independent given ['H', 'G', 'E'] = False\n",
            "D and B are independent given ['H', 'G', 'C'] = True\n",
            "D and B are independent given ['H', 'A', 'F'] = False\n",
            "D and B are independent given ['H', 'A', 'E'] = False\n",
            "D and B are independent given ['H', 'A', 'C'] = True\n",
            "D and B are independent given ['H', 'F', 'E'] = False\n",
            "D and B are independent given ['H', 'F', 'C'] = True\n",
            "D and B are independent given ['H', 'E', 'C'] = True\n",
            "D and B are independent given ['G', 'A', 'F'] = False\n",
            "D and B are independent given ['G', 'A', 'E'] = False\n",
            "D and B are independent given ['G', 'A', 'C'] = True\n",
            "D and B are independent given ['G', 'F', 'E'] = False\n",
            "D and B are independent given ['G', 'F', 'C'] = True\n",
            "D and B are independent given ['G', 'E', 'C'] = True\n",
            "D and B are independent given ['A', 'F', 'E'] = False\n",
            "D and B are independent given ['A', 'F', 'C'] = True\n",
            "D and B are independent given ['A', 'E', 'C'] = True\n",
            "D and B are independent given ['F', 'E', 'C'] = True\n",
            "D and B are independent given ['H', 'G', 'A', 'F'] = False\n",
            "D and B are independent given ['H', 'G', 'A', 'E'] = False\n",
            "D and B are independent given ['H', 'G', 'A', 'C'] = True\n",
            "D and B are independent given ['H', 'G', 'F', 'E'] = False\n",
            "D and B are independent given ['H', 'G', 'F', 'C'] = True\n",
            "D and B are independent given ['H', 'G', 'E', 'C'] = True\n",
            "D and B are independent given ['H', 'A', 'F', 'E'] = False\n",
            "D and B are independent given ['H', 'A', 'F', 'C'] = True\n",
            "D and B are independent given ['H', 'A', 'E', 'C'] = True\n",
            "D and B are independent given ['H', 'F', 'E', 'C'] = True\n",
            "D and B are independent given ['G', 'A', 'F', 'E'] = False\n",
            "D and B are independent given ['G', 'A', 'F', 'C'] = True\n",
            "D and B are independent given ['G', 'A', 'E', 'C'] = True\n",
            "D and B are independent given ['G', 'F', 'E', 'C'] = True\n",
            "D and B are independent given ['A', 'F', 'E', 'C'] = True\n",
            "D and B are independent given ['H', 'G', 'A', 'F', 'E'] = False\n",
            "D and B are independent given ['H', 'G', 'A', 'F', 'C'] = True\n",
            "D and B are independent given ['H', 'G', 'A', 'E', 'C'] = True\n",
            "D and B are independent given ['H', 'G', 'F', 'E', 'C'] = True\n",
            "D and B are independent given ['H', 'A', 'F', 'E', 'C'] = True\n",
            "D and B are independent given ['G', 'A', 'F', 'E', 'C'] = True\n",
            "D and B are independent given ['H', 'G', 'A', 'F', 'E', 'C'] = True\n",
            "D and B are independent given ['H', 'G'] = False\n",
            "D and B are independent given ['H', 'A'] = False\n",
            "D and B are independent given ['H', 'F'] = False\n",
            "D and B are independent given ['H', 'E'] = False\n",
            "D and B are independent given ['H', 'C'] = True\n",
            "D and B are independent given ['G', 'A'] = False\n",
            "D and B are independent given ['G', 'F'] = False\n",
            "D and B are independent given ['G', 'E'] = False\n",
            "D and B are independent given ['G', 'C'] = True\n",
            "D and B are independent given ['A', 'F'] = False\n",
            "D and B are independent given ['A', 'E'] = False\n",
            "D and B are independent given ['A', 'C'] = True\n",
            "D and B are independent given ['F', 'E'] = False\n",
            "D and B are independent given ['F', 'C'] = True\n",
            "D and B are independent given ['E', 'C'] = True\n",
            "D and B are independent given ['H', 'G', 'A'] = False\n",
            "D and B are independent given ['H', 'G', 'F'] = False\n",
            "D and B are independent given ['H', 'G', 'E'] = False\n",
            "D and B are independent given ['H', 'G', 'C'] = True\n",
            "D and B are independent given ['H', 'A', 'F'] = False\n",
            "D and B are independent given ['H', 'A', 'E'] = False\n",
            "D and B are independent given ['H', 'A', 'C'] = True\n",
            "D and B are independent given ['H', 'F', 'E'] = False\n",
            "D and B are independent given ['H', 'F', 'C'] = True\n",
            "D and B are independent given ['H', 'E', 'C'] = True\n",
            "D and B are independent given ['G', 'A', 'F'] = False\n",
            "D and B are independent given ['G', 'A', 'E'] = False\n",
            "D and B are independent given ['G', 'A', 'C'] = True\n",
            "D and B are independent given ['G', 'F', 'E'] = False\n",
            "D and B are independent given ['G', 'F', 'C'] = True\n",
            "D and B are independent given ['G', 'E', 'C'] = True\n",
            "D and B are independent given ['A', 'F', 'E'] = False\n",
            "D and B are independent given ['A', 'F', 'C'] = True\n",
            "D and B are independent given ['A', 'E', 'C'] = True\n",
            "D and B are independent given ['F', 'E', 'C'] = True\n",
            "D and B are independent given ['H', 'G', 'A', 'F'] = False\n",
            "D and B are independent given ['H', 'G', 'A', 'E'] = False\n",
            "D and B are independent given ['H', 'G', 'A', 'C'] = True\n",
            "D and B are independent given ['H', 'G', 'F', 'E'] = False\n",
            "D and B are independent given ['H', 'G', 'F', 'C'] = True\n",
            "D and B are independent given ['H', 'G', 'E', 'C'] = True\n",
            "D and B are independent given ['H', 'A', 'F', 'E'] = False\n",
            "D and B are independent given ['H', 'A', 'F', 'C'] = True\n",
            "D and B are independent given ['H', 'A', 'E', 'C'] = True\n",
            "D and B are independent given ['H', 'F', 'E', 'C'] = True\n",
            "D and B are independent given ['G', 'A', 'F', 'E'] = False\n",
            "D and B are independent given ['G', 'A', 'F', 'C'] = True\n",
            "D and B are independent given ['G', 'A', 'E', 'C'] = True\n",
            "D and B are independent given ['G', 'F', 'E', 'C'] = True\n",
            "D and B are independent given ['A', 'F', 'E', 'C'] = True\n",
            "D and B are independent given ['H', 'G', 'A', 'F', 'E'] = False\n",
            "D and B are independent given ['H', 'G', 'A', 'F', 'C'] = True\n",
            "D and B are independent given ['H', 'G', 'A', 'E', 'C'] = True\n",
            "D and B are independent given ['H', 'G', 'F', 'E', 'C'] = True\n",
            "D and B are independent given ['H', 'A', 'F', 'E', 'C'] = True\n",
            "D and B are independent given ['G', 'A', 'F', 'E', 'C'] = True\n",
            "D and B are independent given ['H', 'G', 'A', 'F', 'E', 'C'] = True\n",
            "B and C are independent given ['H', 'G'] = False\n",
            "B and C are independent given ['H', 'A'] = False\n",
            "B and C are independent given ['H', 'F'] = False\n",
            "B and C are independent given ['H', 'D'] = False\n",
            "B and C are independent given ['H', 'E'] = False\n",
            "B and C are independent given ['G', 'A'] = False\n",
            "B and C are independent given ['G', 'F'] = False\n",
            "B and C are independent given ['G', 'D'] = False\n",
            "B and C are independent given ['G', 'E'] = False\n",
            "B and C are independent given ['A', 'F'] = False\n",
            "B and C are independent given ['A', 'D'] = False\n",
            "B and C are independent given ['A', 'E'] = False\n",
            "B and C are independent given ['F', 'D'] = False\n",
            "B and C are independent given ['F', 'E'] = False\n",
            "B and C are independent given ['D', 'E'] = False\n",
            "B and C are independent given ['H', 'G', 'A'] = False\n",
            "B and C are independent given ['H', 'G', 'F'] = False\n",
            "B and C are independent given ['H', 'G', 'D'] = False\n",
            "B and C are independent given ['H', 'G', 'E'] = False\n",
            "B and C are independent given ['H', 'A', 'F'] = False\n",
            "B and C are independent given ['H', 'A', 'D'] = False\n",
            "B and C are independent given ['H', 'A', 'E'] = False\n",
            "B and C are independent given ['H', 'F', 'D'] = False\n",
            "B and C are independent given ['H', 'F', 'E'] = False\n",
            "B and C are independent given ['H', 'D', 'E'] = False\n",
            "B and C are independent given ['G', 'A', 'F'] = False\n",
            "B and C are independent given ['G', 'A', 'D'] = False\n",
            "B and C are independent given ['G', 'A', 'E'] = False\n",
            "B and C are independent given ['G', 'F', 'D'] = False\n",
            "B and C are independent given ['G', 'F', 'E'] = False\n",
            "B and C are independent given ['G', 'D', 'E'] = False\n",
            "B and C are independent given ['A', 'F', 'D'] = False\n",
            "B and C are independent given ['A', 'F', 'E'] = False\n",
            "B and C are independent given ['A', 'D', 'E'] = False\n",
            "B and C are independent given ['F', 'D', 'E'] = False\n",
            "B and C are independent given ['H', 'G', 'A', 'F'] = False\n",
            "B and C are independent given ['H', 'G', 'A', 'D'] = False\n",
            "B and C are independent given ['H', 'G', 'A', 'E'] = False\n",
            "B and C are independent given ['H', 'G', 'F', 'D'] = False\n",
            "B and C are independent given ['H', 'G', 'F', 'E'] = False\n",
            "B and C are independent given ['H', 'G', 'D', 'E'] = False\n",
            "B and C are independent given ['H', 'A', 'F', 'D'] = False\n",
            "B and C are independent given ['H', 'A', 'F', 'E'] = False\n",
            "B and C are independent given ['H', 'A', 'D', 'E'] = False\n",
            "B and C are independent given ['H', 'F', 'D', 'E'] = False\n",
            "B and C are independent given ['G', 'A', 'F', 'D'] = False\n",
            "B and C are independent given ['G', 'A', 'F', 'E'] = False\n",
            "B and C are independent given ['G', 'A', 'D', 'E'] = False\n",
            "B and C are independent given ['G', 'F', 'D', 'E'] = False\n",
            "B and C are independent given ['A', 'F', 'D', 'E'] = False\n",
            "B and C are independent given ['H', 'G', 'A', 'F', 'D'] = False\n",
            "B and C are independent given ['H', 'G', 'A', 'F', 'E'] = False\n",
            "B and C are independent given ['H', 'G', 'A', 'D', 'E'] = False\n",
            "B and C are independent given ['H', 'G', 'F', 'D', 'E'] = False\n",
            "B and C are independent given ['H', 'A', 'F', 'D', 'E'] = False\n",
            "B and C are independent given ['G', 'A', 'F', 'D', 'E'] = False\n",
            "B and C are independent given ['H', 'G', 'A', 'F', 'D', 'E'] = False\n",
            "B and C are independent given ['H', 'G'] = False\n",
            "B and C are independent given ['H', 'A'] = False\n",
            "B and C are independent given ['H', 'F'] = False\n",
            "B and C are independent given ['H', 'D'] = False\n",
            "B and C are independent given ['H', 'E'] = False\n",
            "B and C are independent given ['G', 'A'] = False\n",
            "B and C are independent given ['G', 'F'] = False\n",
            "B and C are independent given ['G', 'D'] = False\n",
            "B and C are independent given ['G', 'E'] = False\n",
            "B and C are independent given ['A', 'F'] = False\n",
            "B and C are independent given ['A', 'D'] = False\n",
            "B and C are independent given ['A', 'E'] = False\n",
            "B and C are independent given ['F', 'D'] = False\n",
            "B and C are independent given ['F', 'E'] = False\n",
            "B and C are independent given ['D', 'E'] = False\n",
            "B and C are independent given ['H', 'G', 'A'] = False\n",
            "B and C are independent given ['H', 'G', 'F'] = False\n",
            "B and C are independent given ['H', 'G', 'D'] = False\n",
            "B and C are independent given ['H', 'G', 'E'] = False\n",
            "B and C are independent given ['H', 'A', 'F'] = False\n",
            "B and C are independent given ['H', 'A', 'D'] = False\n",
            "B and C are independent given ['H', 'A', 'E'] = False\n",
            "B and C are independent given ['H', 'F', 'D'] = False\n",
            "B and C are independent given ['H', 'F', 'E'] = False\n",
            "B and C are independent given ['H', 'D', 'E'] = False\n",
            "B and C are independent given ['G', 'A', 'F'] = False\n",
            "B and C are independent given ['G', 'A', 'D'] = False\n",
            "B and C are independent given ['G', 'A', 'E'] = False\n",
            "B and C are independent given ['G', 'F', 'D'] = False\n",
            "B and C are independent given ['G', 'F', 'E'] = False\n",
            "B and C are independent given ['G', 'D', 'E'] = False\n",
            "B and C are independent given ['A', 'F', 'D'] = False\n",
            "B and C are independent given ['A', 'F', 'E'] = False\n",
            "B and C are independent given ['A', 'D', 'E'] = False\n",
            "B and C are independent given ['F', 'D', 'E'] = False\n",
            "B and C are independent given ['H', 'G', 'A', 'F'] = False\n",
            "B and C are independent given ['H', 'G', 'A', 'D'] = False\n",
            "B and C are independent given ['H', 'G', 'A', 'E'] = False\n",
            "B and C are independent given ['H', 'G', 'F', 'D'] = False\n",
            "B and C are independent given ['H', 'G', 'F', 'E'] = False\n",
            "B and C are independent given ['H', 'G', 'D', 'E'] = False\n",
            "B and C are independent given ['H', 'A', 'F', 'D'] = False\n",
            "B and C are independent given ['H', 'A', 'F', 'E'] = False\n",
            "B and C are independent given ['H', 'A', 'D', 'E'] = False\n",
            "B and C are independent given ['H', 'F', 'D', 'E'] = False\n",
            "B and C are independent given ['G', 'A', 'F', 'D'] = False\n",
            "B and C are independent given ['G', 'A', 'F', 'E'] = False\n",
            "B and C are independent given ['G', 'A', 'D', 'E'] = False\n",
            "B and C are independent given ['G', 'F', 'D', 'E'] = False\n",
            "B and C are independent given ['A', 'F', 'D', 'E'] = False\n",
            "B and C are independent given ['H', 'G', 'A', 'F', 'D'] = False\n",
            "B and C are independent given ['H', 'G', 'A', 'F', 'E'] = False\n",
            "B and C are independent given ['H', 'G', 'A', 'D', 'E'] = False\n",
            "B and C are independent given ['H', 'G', 'F', 'D', 'E'] = False\n",
            "B and C are independent given ['H', 'A', 'F', 'D', 'E'] = False\n",
            "B and C are independent given ['G', 'A', 'F', 'D', 'E'] = False\n",
            "B and C are independent given ['H', 'G', 'A', 'F', 'D', 'E'] = False\n",
            "B and C are independent given ['H', 'G'] = False\n",
            "B and C are independent given ['H', 'A'] = False\n",
            "B and C are independent given ['H', 'F'] = False\n",
            "B and C are independent given ['H', 'D'] = False\n",
            "B and C are independent given ['H', 'E'] = False\n",
            "B and C are independent given ['G', 'A'] = False\n",
            "B and C are independent given ['G', 'F'] = False\n",
            "B and C are independent given ['G', 'D'] = False\n",
            "B and C are independent given ['G', 'E'] = False\n",
            "B and C are independent given ['A', 'F'] = False\n",
            "B and C are independent given ['A', 'D'] = False\n",
            "B and C are independent given ['A', 'E'] = False\n",
            "B and C are independent given ['F', 'D'] = False\n",
            "B and C are independent given ['F', 'E'] = False\n",
            "B and C are independent given ['D', 'E'] = False\n",
            "B and C are independent given ['H', 'G', 'A'] = False\n",
            "B and C are independent given ['H', 'G', 'F'] = False\n",
            "B and C are independent given ['H', 'G', 'D'] = False\n",
            "B and C are independent given ['H', 'G', 'E'] = False\n",
            "B and C are independent given ['H', 'A', 'F'] = False\n",
            "B and C are independent given ['H', 'A', 'D'] = False\n",
            "B and C are independent given ['H', 'A', 'E'] = False\n",
            "B and C are independent given ['H', 'F', 'D'] = False\n",
            "B and C are independent given ['H', 'F', 'E'] = False\n",
            "B and C are independent given ['H', 'D', 'E'] = False\n",
            "B and C are independent given ['G', 'A', 'F'] = False\n",
            "B and C are independent given ['G', 'A', 'D'] = False\n",
            "B and C are independent given ['G', 'A', 'E'] = False\n",
            "B and C are independent given ['G', 'F', 'D'] = False\n",
            "B and C are independent given ['G', 'F', 'E'] = False\n",
            "B and C are independent given ['G', 'D', 'E'] = False\n",
            "B and C are independent given ['A', 'F', 'D'] = False\n",
            "B and C are independent given ['A', 'F', 'E'] = False\n",
            "B and C are independent given ['A', 'D', 'E'] = False\n",
            "B and C are independent given ['F', 'D', 'E'] = False\n",
            "B and C are independent given ['H', 'G', 'A', 'F'] = False\n",
            "B and C are independent given ['H', 'G', 'A', 'D'] = False\n",
            "B and C are independent given ['H', 'G', 'A', 'E'] = False\n",
            "B and C are independent given ['H', 'G', 'F', 'D'] = False\n",
            "B and C are independent given ['H', 'G', 'F', 'E'] = False\n",
            "B and C are independent given ['H', 'G', 'D', 'E'] = False\n",
            "B and C are independent given ['H', 'A', 'F', 'D'] = False\n",
            "B and C are independent given ['H', 'A', 'F', 'E'] = False\n",
            "B and C are independent given ['H', 'A', 'D', 'E'] = False\n",
            "B and C are independent given ['H', 'F', 'D', 'E'] = False\n",
            "B and C are independent given ['G', 'A', 'F', 'D'] = False\n",
            "B and C are independent given ['G', 'A', 'F', 'E'] = False\n",
            "B and C are independent given ['G', 'A', 'D', 'E'] = False\n",
            "B and C are independent given ['G', 'F', 'D', 'E'] = False\n",
            "B and C are independent given ['A', 'F', 'D', 'E'] = False\n",
            "B and C are independent given ['H', 'G', 'A', 'F', 'D'] = False\n",
            "B and C are independent given ['H', 'G', 'A', 'F', 'E'] = False\n",
            "B and C are independent given ['H', 'G', 'A', 'D', 'E'] = False\n",
            "B and C are independent given ['H', 'G', 'F', 'D', 'E'] = False\n",
            "B and C are independent given ['H', 'A', 'F', 'D', 'E'] = False\n",
            "B and C are independent given ['G', 'A', 'F', 'D', 'E'] = False\n",
            "B and C are independent given ['H', 'G', 'A', 'F', 'D', 'E'] = False\n",
            "B and C are independent given ['H', 'G'] = False\n",
            "B and C are independent given ['H', 'A'] = False\n",
            "B and C are independent given ['H', 'F'] = False\n",
            "B and C are independent given ['H', 'D'] = False\n",
            "B and C are independent given ['H', 'E'] = False\n",
            "B and C are independent given ['G', 'A'] = False\n",
            "B and C are independent given ['G', 'F'] = False\n",
            "B and C are independent given ['G', 'D'] = False\n",
            "B and C are independent given ['G', 'E'] = False\n",
            "B and C are independent given ['A', 'F'] = False\n",
            "B and C are independent given ['A', 'D'] = False\n",
            "B and C are independent given ['A', 'E'] = False\n",
            "B and C are independent given ['F', 'D'] = False\n",
            "B and C are independent given ['F', 'E'] = False\n",
            "B and C are independent given ['D', 'E'] = False\n",
            "B and C are independent given ['H', 'G', 'A'] = False\n",
            "B and C are independent given ['H', 'G', 'F'] = False\n",
            "B and C are independent given ['H', 'G', 'D'] = False\n",
            "B and C are independent given ['H', 'G', 'E'] = False\n",
            "B and C are independent given ['H', 'A', 'F'] = False\n",
            "B and C are independent given ['H', 'A', 'D'] = False\n",
            "B and C are independent given ['H', 'A', 'E'] = False\n",
            "B and C are independent given ['H', 'F', 'D'] = False\n",
            "B and C are independent given ['H', 'F', 'E'] = False\n",
            "B and C are independent given ['H', 'D', 'E'] = False\n",
            "B and C are independent given ['G', 'A', 'F'] = False\n",
            "B and C are independent given ['G', 'A', 'D'] = False\n",
            "B and C are independent given ['G', 'A', 'E'] = False\n",
            "B and C are independent given ['G', 'F', 'D'] = False\n",
            "B and C are independent given ['G', 'F', 'E'] = False\n",
            "B and C are independent given ['G', 'D', 'E'] = False\n",
            "B and C are independent given ['A', 'F', 'D'] = False\n",
            "B and C are independent given ['A', 'F', 'E'] = False\n",
            "B and C are independent given ['A', 'D', 'E'] = False\n",
            "B and C are independent given ['F', 'D', 'E'] = False\n",
            "B and C are independent given ['H', 'G', 'A', 'F'] = False\n",
            "B and C are independent given ['H', 'G', 'A', 'D'] = False\n",
            "B and C are independent given ['H', 'G', 'A', 'E'] = False\n",
            "B and C are independent given ['H', 'G', 'F', 'D'] = False\n",
            "B and C are independent given ['H', 'G', 'F', 'E'] = False\n",
            "B and C are independent given ['H', 'G', 'D', 'E'] = False\n",
            "B and C are independent given ['H', 'A', 'F', 'D'] = False\n",
            "B and C are independent given ['H', 'A', 'F', 'E'] = False\n",
            "B and C are independent given ['H', 'A', 'D', 'E'] = False\n",
            "B and C are independent given ['H', 'F', 'D', 'E'] = False\n",
            "B and C are independent given ['G', 'A', 'F', 'D'] = False\n",
            "B and C are independent given ['G', 'A', 'F', 'E'] = False\n",
            "B and C are independent given ['G', 'A', 'D', 'E'] = False\n",
            "B and C are independent given ['G', 'F', 'D', 'E'] = False\n",
            "B and C are independent given ['A', 'F', 'D', 'E'] = False\n",
            "B and C are independent given ['H', 'G', 'A', 'F', 'D'] = False\n",
            "B and C are independent given ['H', 'G', 'A', 'F', 'E'] = False\n",
            "B and C are independent given ['H', 'G', 'A', 'D', 'E'] = False\n",
            "B and C are independent given ['H', 'G', 'F', 'D', 'E'] = False\n",
            "B and C are independent given ['H', 'A', 'F', 'D', 'E'] = False\n",
            "B and C are independent given ['G', 'A', 'F', 'D', 'E'] = False\n",
            "B and C are independent given ['H', 'G', 'A', 'F', 'D', 'E'] = False\n",
            "B and C are independent given ['H', 'G'] = False\n",
            "B and C are independent given ['H', 'A'] = False\n",
            "B and C are independent given ['H', 'F'] = False\n",
            "B and C are independent given ['H', 'D'] = False\n",
            "B and C are independent given ['H', 'E'] = False\n",
            "B and C are independent given ['G', 'A'] = False\n",
            "B and C are independent given ['G', 'F'] = False\n",
            "B and C are independent given ['G', 'D'] = False\n",
            "B and C are independent given ['G', 'E'] = False\n",
            "B and C are independent given ['A', 'F'] = False\n",
            "B and C are independent given ['A', 'D'] = False\n",
            "B and C are independent given ['A', 'E'] = False\n",
            "B and C are independent given ['F', 'D'] = False\n",
            "B and C are independent given ['F', 'E'] = False\n",
            "B and C are independent given ['D', 'E'] = False\n",
            "B and C are independent given ['H', 'G', 'A'] = False\n",
            "B and C are independent given ['H', 'G', 'F'] = False\n",
            "B and C are independent given ['H', 'G', 'D'] = False\n",
            "B and C are independent given ['H', 'G', 'E'] = False\n",
            "B and C are independent given ['H', 'A', 'F'] = False\n",
            "B and C are independent given ['H', 'A', 'D'] = False\n",
            "B and C are independent given ['H', 'A', 'E'] = False\n",
            "B and C are independent given ['H', 'F', 'D'] = False\n",
            "B and C are independent given ['H', 'F', 'E'] = False\n",
            "B and C are independent given ['H', 'D', 'E'] = False\n",
            "B and C are independent given ['G', 'A', 'F'] = False\n",
            "B and C are independent given ['G', 'A', 'D'] = False\n",
            "B and C are independent given ['G', 'A', 'E'] = False\n",
            "B and C are independent given ['G', 'F', 'D'] = False\n",
            "B and C are independent given ['G', 'F', 'E'] = False\n",
            "B and C are independent given ['G', 'D', 'E'] = False\n",
            "B and C are independent given ['A', 'F', 'D'] = False\n",
            "B and C are independent given ['A', 'F', 'E'] = False\n",
            "B and C are independent given ['A', 'D', 'E'] = False\n",
            "B and C are independent given ['F', 'D', 'E'] = False\n",
            "B and C are independent given ['H', 'G', 'A', 'F'] = False\n",
            "B and C are independent given ['H', 'G', 'A', 'D'] = False\n",
            "B and C are independent given ['H', 'G', 'A', 'E'] = False\n",
            "B and C are independent given ['H', 'G', 'F', 'D'] = False\n",
            "B and C are independent given ['H', 'G', 'F', 'E'] = False\n",
            "B and C are independent given ['H', 'G', 'D', 'E'] = False\n",
            "B and C are independent given ['H', 'A', 'F', 'D'] = False\n",
            "B and C are independent given ['H', 'A', 'F', 'E'] = False\n",
            "B and C are independent given ['H', 'A', 'D', 'E'] = False\n",
            "B and C are independent given ['H', 'F', 'D', 'E'] = False\n",
            "B and C are independent given ['G', 'A', 'F', 'D'] = False\n",
            "B and C are independent given ['G', 'A', 'F', 'E'] = False\n",
            "B and C are independent given ['G', 'A', 'D', 'E'] = False\n",
            "B and C are independent given ['G', 'F', 'D', 'E'] = False\n",
            "B and C are independent given ['A', 'F', 'D', 'E'] = False\n",
            "B and C are independent given ['H', 'G', 'A', 'F', 'D'] = False\n",
            "B and C are independent given ['H', 'G', 'A', 'F', 'E'] = False\n",
            "B and C are independent given ['H', 'G', 'A', 'D', 'E'] = False\n",
            "B and C are independent given ['H', 'G', 'F', 'D', 'E'] = False\n",
            "B and C are independent given ['H', 'A', 'F', 'D', 'E'] = False\n",
            "B and C are independent given ['G', 'A', 'F', 'D', 'E'] = False\n",
            "B and C are independent given ['H', 'G', 'A', 'F', 'D', 'E'] = False\n",
            "B and C are independent given ['H', 'G'] = False\n",
            "B and C are independent given ['H', 'A'] = False\n",
            "B and C are independent given ['H', 'F'] = False\n",
            "B and C are independent given ['H', 'D'] = False\n",
            "B and C are independent given ['H', 'E'] = False\n",
            "B and C are independent given ['G', 'A'] = False\n",
            "B and C are independent given ['G', 'F'] = False\n",
            "B and C are independent given ['G', 'D'] = False\n",
            "B and C are independent given ['G', 'E'] = False\n",
            "B and C are independent given ['A', 'F'] = False\n",
            "B and C are independent given ['A', 'D'] = False\n",
            "B and C are independent given ['A', 'E'] = False\n",
            "B and C are independent given ['F', 'D'] = False\n",
            "B and C are independent given ['F', 'E'] = False\n",
            "B and C are independent given ['D', 'E'] = False\n",
            "B and C are independent given ['H', 'G', 'A'] = False\n",
            "B and C are independent given ['H', 'G', 'F'] = False\n",
            "B and C are independent given ['H', 'G', 'D'] = False\n",
            "B and C are independent given ['H', 'G', 'E'] = False\n",
            "B and C are independent given ['H', 'A', 'F'] = False\n",
            "B and C are independent given ['H', 'A', 'D'] = False\n",
            "B and C are independent given ['H', 'A', 'E'] = False\n",
            "B and C are independent given ['H', 'F', 'D'] = False\n",
            "B and C are independent given ['H', 'F', 'E'] = False\n",
            "B and C are independent given ['H', 'D', 'E'] = False\n",
            "B and C are independent given ['G', 'A', 'F'] = False\n",
            "B and C are independent given ['G', 'A', 'D'] = False\n",
            "B and C are independent given ['G', 'A', 'E'] = False\n",
            "B and C are independent given ['G', 'F', 'D'] = False\n",
            "B and C are independent given ['G', 'F', 'E'] = False\n",
            "B and C are independent given ['G', 'D', 'E'] = False\n",
            "B and C are independent given ['A', 'F', 'D'] = False\n",
            "B and C are independent given ['A', 'F', 'E'] = False\n",
            "B and C are independent given ['A', 'D', 'E'] = False\n",
            "B and C are independent given ['F', 'D', 'E'] = False\n",
            "B and C are independent given ['H', 'G', 'A', 'F'] = False\n",
            "B and C are independent given ['H', 'G', 'A', 'D'] = False\n",
            "B and C are independent given ['H', 'G', 'A', 'E'] = False\n",
            "B and C are independent given ['H', 'G', 'F', 'D'] = False\n",
            "B and C are independent given ['H', 'G', 'F', 'E'] = False\n",
            "B and C are independent given ['H', 'G', 'D', 'E'] = False\n",
            "B and C are independent given ['H', 'A', 'F', 'D'] = False\n",
            "B and C are independent given ['H', 'A', 'F', 'E'] = False\n",
            "B and C are independent given ['H', 'A', 'D', 'E'] = False\n",
            "B and C are independent given ['H', 'F', 'D', 'E'] = False\n",
            "B and C are independent given ['G', 'A', 'F', 'D'] = False\n",
            "B and C are independent given ['G', 'A', 'F', 'E'] = False\n",
            "B and C are independent given ['G', 'A', 'D', 'E'] = False\n",
            "B and C are independent given ['G', 'F', 'D', 'E'] = False\n",
            "B and C are independent given ['A', 'F', 'D', 'E'] = False\n",
            "B and C are independent given ['H', 'G', 'A', 'F', 'D'] = False\n",
            "B and C are independent given ['H', 'G', 'A', 'F', 'E'] = False\n",
            "B and C are independent given ['H', 'G', 'A', 'D', 'E'] = False\n",
            "B and C are independent given ['H', 'G', 'F', 'D', 'E'] = False\n",
            "B and C are independent given ['H', 'A', 'F', 'D', 'E'] = False\n",
            "B and C are independent given ['G', 'A', 'F', 'D', 'E'] = False\n",
            "B and C are independent given ['H', 'G', 'A', 'F', 'D', 'E'] = False\n",
            "B and F are independent given ['G', 'D'] = False\n",
            "B and F are independent given ['G', 'C'] = False\n",
            "B and F are independent given ['D', 'C'] = False\n",
            "B and F are independent given ['G', 'D', 'C'] = False\n",
            "B and F are independent given ['G', 'D'] = False\n",
            "B and F are independent given ['G', 'C'] = False\n",
            "B and F are independent given ['D', 'C'] = False\n",
            "B and F are independent given ['G', 'D', 'C'] = False\n",
            "B and F are independent given ['G', 'D'] = False\n",
            "B and F are independent given ['G', 'C'] = False\n",
            "B and F are independent given ['D', 'C'] = False\n",
            "B and F are independent given ['G', 'D', 'C'] = False\n",
            "B and G are independent given ['F', 'D'] = True\n",
            "B and G are independent given ['F', 'C'] = True\n",
            "B and G are independent given ['D', 'C'] = False\n",
            "B and G are independent given ['F', 'D', 'C'] = True\n",
            "B and G are independent given ['F', 'D'] = True\n",
            "B and G are independent given ['F', 'C'] = True\n",
            "B and G are independent given ['D', 'C'] = False\n",
            "B and G are independent given ['F', 'D', 'C'] = True\n",
            "B and G are independent given ['F', 'D'] = True\n",
            "B and G are independent given ['F', 'C'] = True\n",
            "B and G are independent given ['D', 'C'] = False\n",
            "B and G are independent given ['F', 'D', 'C'] = True\n",
            "F and G are independent given ['B'] = False\n",
            "time: 40min 8s (started: 2022-10-23 11:18:30 +00:00)\n"
          ]
        }
      ]
    },
    {
      "cell_type": "markdown",
      "source": [
        "Now I store independent connected edges in order to remove them from graph.\n",
        "So... another 40 minutes... :)"
      ],
      "metadata": {
        "id": "BrzLmaZ8gK10"
      }
    },
    {
      "cell_type": "code",
      "source": [
        "indep_vars_cond = []\n",
        "for var_1, var_2, cond_var in combinations:\n",
        "  for cond in conds_dict[var_1, var_2]:\n",
        "    if is_cond_independent(data_df, var_1, var_2, cond) == True:\n",
        "      indep_vars_cond.append((var_1, var_2))"
      ],
      "metadata": {
        "colab": {
          "base_uri": "https://localhost:8080/"
        },
        "id": "auFO6U8GxQag",
        "outputId": "dc81f9be-c912-47a3-8420-3eba2a63a5bf"
      },
      "execution_count": 127,
      "outputs": [
        {
          "output_type": "stream",
          "name": "stdout",
          "text": [
            "time: 40min 27s (started: 2022-10-23 11:58:38 +00:00)\n"
          ]
        }
      ]
    },
    {
      "cell_type": "code",
      "source": [
        "%unload_ext autotime"
      ],
      "metadata": {
        "id": "EJTNShhUEv6p"
      },
      "execution_count": 128,
      "outputs": []
    },
    {
      "cell_type": "code",
      "source": [
        "indep_vars_cond = list(set(indep_vars_cond))"
      ],
      "metadata": {
        "id": "_j2pG1QFJ7qw"
      },
      "execution_count": 130,
      "outputs": []
    },
    {
      "cell_type": "code",
      "source": [
        "indep_vars_cond"
      ],
      "metadata": {
        "colab": {
          "base_uri": "https://localhost:8080/"
        },
        "id": "Lhjk_D9ziMq4",
        "outputId": "387be036-765c-4ad0-9dd9-bb1b1a796859"
      },
      "execution_count": 131,
      "outputs": [
        {
          "output_type": "execute_result",
          "data": {
            "text/plain": [
              "[('E', 'C'),\n",
              " ('E', 'D'),\n",
              " ('E', 'H'),\n",
              " ('D', 'B'),\n",
              " ('A', 'H'),\n",
              " ('B', 'G'),\n",
              " ('H', 'C'),\n",
              " ('A', 'D')]"
            ]
          },
          "metadata": {},
          "execution_count": 131
        }
      ]
    },
    {
      "cell_type": "code",
      "source": [
        "indep_vars_cond = [('E', 'C'),\n",
        " ('E', 'D'),\n",
        " ('E', 'H'),\n",
        " ('D', 'B'),\n",
        " ('A', 'H'),\n",
        " ('B', 'G'),\n",
        " ('H', 'C'),\n",
        " ('A', 'D')]"
      ],
      "metadata": {
        "id": "WUzwRVv-p4_L"
      },
      "execution_count": 131,
      "outputs": []
    },
    {
      "cell_type": "code",
      "source": [
        "set(indep_vars_cond) == set(indep_vars_cond_1)"
      ],
      "metadata": {
        "colab": {
          "base_uri": "https://localhost:8080/"
        },
        "id": "H4Ed0vycbHrd",
        "outputId": "c4a458d2-639b-4d29-a1d7-7e6cc90d26ba"
      },
      "execution_count": 132,
      "outputs": [
        {
          "output_type": "execute_result",
          "data": {
            "text/plain": [
              "False"
            ]
          },
          "metadata": {},
          "execution_count": 132
        }
      ]
    },
    {
      "cell_type": "code",
      "source": [
        "list(set(indep_vars_cond) - set(indep_vars_cond_1) - set(indep_vars))"
      ],
      "metadata": {
        "colab": {
          "base_uri": "https://localhost:8080/"
        },
        "id": "IWUqQJqFfA0S",
        "outputId": "2a7d5ad9-8c2b-408b-aa7f-4ec5d931b80c"
      },
      "execution_count": 133,
      "outputs": [
        {
          "output_type": "execute_result",
          "data": {
            "text/plain": [
              "[]"
            ]
          },
          "metadata": {},
          "execution_count": 133
        }
      ]
    },
    {
      "cell_type": "markdown",
      "source": [
        "I conclude that conditioning on one variable sufficed for our example, as conditioning on more variables didn't yield anymore pair of independent edges."
      ],
      "metadata": {
        "id": "Uqzu7puGqmgB"
      }
    },
    {
      "cell_type": "markdown",
      "source": [
        "## Step 5. Search for v-structure"
      ],
      "metadata": {
        "id": "QMX4LdmRztdj"
      }
    },
    {
      "cell_type": "code",
      "source": [
        "plt.figure(figsize=(5, 3))\n",
        "nx.draw(G, pos=nodes_pos, with_labels=True, font_weight='bold')"
      ],
      "metadata": {
        "colab": {
          "base_uri": "https://localhost:8080/",
          "height": 247
        },
        "id": "MNGXJi3JzwqF",
        "outputId": "7f27df9e-5f0c-4eb2-e147-e6edc8f44c69"
      },
      "execution_count": 134,
      "outputs": [
        {
          "output_type": "display_data",
          "data": {
            "text/plain": [
              "<Figure size 360x216 with 1 Axes>"
            ],
            "image/png": "[encoded data removed]"
          },
          "metadata": {}
        }
      ]
    },
    {
      "cell_type": "markdown",
      "source": [
        "We consider the following cases:\n",
        "1. $E - A - C$:\n",
        "\n",
        "$A$ was conditioned on in eliminating the\n",
        "$E-C$ edge, therefore we shouldn't have a inverted fork.\n",
        "\n",
        "2. $C - D - H$\n",
        "\n",
        "$D$ was conditioned on in eliminating the\n",
        "$H-C$ edge, therefore we shouldn't have a inverted fork.\n",
        "\n",
        "\n",
        "3. $A - C - D$\n",
        "\n",
        "$C$ was conditioned on in eliminating the\n",
        "$E-C$ edge, therefore we shouldn't have a inverted fork.\n",
        "\n",
        "\n",
        "4. $B - F - G$\n",
        "\n",
        "$C$ was conditioned on in eliminating the\n",
        "$E-C$ edge, therefore we shouldn't have a inverted fork.\n"
      ],
      "metadata": {
        "id": "9Na3o_Brq4rE"
      }
    },
    {
      "cell_type": "code",
      "source": [
        "G.edges"
      ],
      "metadata": {
        "colab": {
          "base_uri": "https://localhost:8080/"
        },
        "id": "R1XU2WGY2YWq",
        "outputId": "ddd95164-f795-4cf5-aafb-98aac2b5838f"
      },
      "execution_count": 82,
      "outputs": [
        {
          "output_type": "execute_result",
          "data": {
            "text/plain": [
              "EdgeView([('A', 'C'), ('A', 'E'), ('B', 'F'), ('C', 'D'), ('D', 'H'), ('F', 'G')])"
            ]
          },
          "metadata": {},
          "execution_count": 82
        }
      ]
    },
    {
      "cell_type": "code",
      "source": [
        "list(G.adjacency())"
      ],
      "metadata": {
        "colab": {
          "base_uri": "https://localhost:8080/"
        },
        "id": "RtKdYSSA2yhP",
        "outputId": "9af9fa21-65a9-42f2-f541-8dab8d2cdb7b"
      },
      "execution_count": 86,
      "outputs": [
        {
          "output_type": "execute_result",
          "data": {
            "text/plain": [
              "[('A', {'C': {}, 'E': {}}),\n",
              " ('B', {'F': {}}),\n",
              " ('C', {'A': {}, 'D': {}}),\n",
              " ('D', {'C': {}, 'H': {}}),\n",
              " ('E', {'A': {}}),\n",
              " ('F', {'B': {}, 'G': {}}),\n",
              " ('G', {'F': {}}),\n",
              " ('H', {'D': {}})]"
            ]
          },
          "metadata": {},
          "execution_count": 86
        }
      ]
    },
    {
      "cell_type": "markdown",
      "source": [
        "No V-structure was found in the graph. \n",
        "And algorithm doesn't tell more about how to orient the edges."
      ],
      "metadata": {
        "id": "pQBjlkQqD34V"
      }
    },
    {
      "cell_type": "markdown",
      "source": [
        "Anyway, I depict some examples of variants of how we can orient the graph while satisfying no V-structure condition I set:"
      ],
      "metadata": {
        "id": "tkG24pI0EBTb"
      }
    },
    {
      "cell_type": "code",
      "source": [
        "DG = nx.DiGraph()\n",
        "DG.add_nodes_from(G.nodes)\n",
        "DG.add_edges_from(G.edges)\n",
        "\n",
        "plt.figure(figsize=(5, 3))\n",
        "nx.draw(DG, pos=nodes_pos, with_labels=True, font_weight='bold')"
      ],
      "metadata": {
        "colab": {
          "base_uri": "https://localhost:8080/",
          "height": 247
        },
        "id": "NRfribJf3lME",
        "outputId": "ec28f4ce-3434-4719-85ba-68ddbb4e4b77"
      },
      "execution_count": 140,
      "outputs": [
        {
          "output_type": "display_data",
          "data": {
            "text/plain": [
              "<Figure size 360x216 with 1 Axes>"
            ],
            "image/png": "[encoded data removed]"
          },
          "metadata": {}
        }
      ]
    },
    {
      "cell_type": "markdown",
      "source": [
        "In this case we have a fork $E-A-C$ and a chain $A - C -D - H$.\n",
        "\n",
        "Also we have the chain $B - F - G$."
      ],
      "metadata": {
        "id": "Ica98FezDSNi"
      }
    },
    {
      "cell_type": "code",
      "source": [
        "DG.edges"
      ],
      "metadata": {
        "colab": {
          "base_uri": "https://localhost:8080/"
        },
        "id": "aHlQ3hJY6FPO",
        "outputId": "3a329ef4-dd47-478f-fdcc-d00d4eb55157"
      },
      "execution_count": 137,
      "outputs": [
        {
          "output_type": "execute_result",
          "data": {
            "text/plain": [
              "OutEdgeView([('A', 'C'), ('A', 'E'), ('B', 'F'), ('C', 'D'), ('D', 'H'), ('F', 'G')])"
            ]
          },
          "metadata": {},
          "execution_count": 137
        }
      ]
    },
    {
      "cell_type": "markdown",
      "source": [
        "Another example:\n"
      ],
      "metadata": {
        "id": "ultOYTzECrk4"
      }
    },
    {
      "cell_type": "code",
      "source": [
        "DG.remove_edge('A', 'E')\n",
        "DG.add_edge('E', 'A')\n",
        "\n",
        "DG.remove_edge('B', 'F')\n",
        "DG.add_edge('F', 'B')\n",
        "\n",
        "DG.remove_edge('F', 'G')\n",
        "DG.add_edge('G', 'F')\n"
      ],
      "metadata": {
        "id": "D0XpWXk04mpw"
      },
      "execution_count": 141,
      "outputs": []
    },
    {
      "cell_type": "code",
      "source": [
        "\n",
        "plt.figure(figsize=(5, 3))\n",
        "nx.draw(DG, pos=nodes_pos, with_labels=True, font_weight='bold')"
      ],
      "metadata": {
        "colab": {
          "base_uri": "https://localhost:8080/",
          "height": 247
        },
        "id": "_MHs3qb34yA9",
        "outputId": "d1bd3513-fd92-4bb9-be0c-8412496c414a"
      },
      "execution_count": 142,
      "outputs": [
        {
          "output_type": "display_data",
          "data": {
            "text/plain": [
              "<Figure size 360x216 with 1 Axes>"
            ],
            "image/png": "[encoded data removed]"
          },
          "metadata": {}
        }
      ]
    },
    {
      "cell_type": "markdown",
      "source": [
        "In this case we have a chain $E - A - C - D -H$.\n",
        "And also a chain $G - F -B$"
      ],
      "metadata": {
        "id": "jz7PjQ-Q6mqT"
      }
    }
  ]
}