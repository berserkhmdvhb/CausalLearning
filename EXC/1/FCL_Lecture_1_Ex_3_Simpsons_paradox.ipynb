{
  "nbformat": 4,
  "nbformat_minor": 0,
  "metadata": {
    "colab": {
      "provenance": [],
      "collapsed_sections": []
    },
    "kernelspec": {
      "name": "python3",
      "display_name": "Python 3"
    },
    "language_info": {
      "name": "python"
    }
  },
  "cells": [
    {
      "cell_type": "markdown",
      "metadata": {
        "id": "tkXY9c6XhKNE"
      },
      "source": [
        "# Check the calculation results in the provided example of Simpson's paradox. Do you get the same numbers?\n",
        "\n",
        "Just confirm that all percentage values are correctly calculated.\n",
        "\n",
        "\n",
        "| Stone size      |      Treatment A      |      Treatment B       |\n",
        "|----------------:|:---------------------:|:----------------------:|\n",
        "| Small stones    | Group 1 93% (81/87)   | Group 2 87% (234/270)  |\n",
        "| Large stones    | Group 3 73% (192/263) | Group 4 69% (55/80)    |\n",
        "| Both            | 78% (273/350)         | 83% (289/350)          |"
      ]
    },
    {
      "cell_type": "markdown",
      "metadata": {
        "id": "GbtLh8CLiW_H"
      },
      "source": [
        "Your solution"
      ]
    },
    {
      "cell_type": "markdown",
      "source": [
        "**[HMD-Solution]**"
      ],
      "metadata": {
        "id": "-abRIiMCEUHL"
      }
    },
    {
      "cell_type": "markdown",
      "source": [
        "Calculate `Both` for treatment A"
      ],
      "metadata": {
        "id": "ar-Qm5skEYhf"
      }
    },
    {
      "cell_type": "code",
      "metadata": {
        "id": "YetDewEbg7br",
        "colab": {
          "base_uri": "https://localhost:8080/"
        },
        "outputId": "b1d08a08-c4c0-471c-bf4d-c275688d1701"
      },
      "source": [
        "(81 + 192) / (87 + 263)"
      ],
      "execution_count": 1,
      "outputs": [
        {
          "output_type": "execute_result",
          "data": {
            "text/plain": [
              "0.78"
            ]
          },
          "metadata": {},
          "execution_count": 1
        }
      ]
    },
    {
      "cell_type": "markdown",
      "source": [
        "Calculate `Both` for treatment B"
      ],
      "metadata": {
        "id": "kiXBRNxtETa9"
      }
    },
    {
      "cell_type": "code",
      "source": [
        "(234 + 55) / (270 + 80)"
      ],
      "metadata": {
        "id": "J7-h8uMoEFxX",
        "colab": {
          "base_uri": "https://localhost:8080/"
        },
        "outputId": "4148eed5-5229-46c7-972d-8226c4ebb88d"
      },
      "execution_count": 2,
      "outputs": [
        {
          "output_type": "execute_result",
          "data": {
            "text/plain": [
              "0.8257142857142857"
            ]
          },
          "metadata": {},
          "execution_count": 2
        }
      ]
    },
    {
      "cell_type": "markdown",
      "source": [
        "As discussed in the class, when we compare Treatment A and Treatment B over all stones, we observe that Treatment B has more effect than Treatment A (83 > 78).\n",
        "However, when we stratify the variable stone size by the variable size of the stone (large or small stones), we see that the size of the stone serves as a confounding factor. Consequently, we observe that Treatment A is more effective than Treatment B on stones of each group (small stone and large stone"
      ],
      "metadata": {
        "id": "O2LFlZWME5Ul"
      }
    },
    {
      "cell_type": "markdown",
      "source": [
        "**[HMD-T]**"
      ],
      "metadata": {
        "id": "RJE9A-kDF2zc"
      }
    }
  ]
}