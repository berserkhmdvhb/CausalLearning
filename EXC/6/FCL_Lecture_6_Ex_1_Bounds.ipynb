{
  "nbformat": 4,
  "nbformat_minor": 0,
  "metadata": {
    "colab": {
      "provenance": [],
      "toc_visible": true
    },
    "kernelspec": {
      "name": "python3",
      "display_name": "Python 3"
    },
    "language_info": {
      "name": "python"
    }
  },
  "cells": [
    {
      "cell_type": "code",
      "metadata": {
        "colab": {
          "base_uri": "https://localhost:8080/"
        },
        "id": "2oAYCAiTpAKE",
        "outputId": "5c33f8fb-310e-49bb-ef62-cca78ae66481"
      },
      "source": [
        "pip install causalgraphicalmodels"
      ],
      "execution_count": 39,
      "outputs": [
        {
          "output_type": "stream",
          "name": "stdout",
          "text": [
            "Looking in indexes: https://pypi.org/simple, https://us-python.pkg.dev/colab-wheels/public/simple/\n",
            "Requirement already satisfied: causalgraphicalmodels in /usr/local/lib/python3.7/dist-packages (0.0.4)\n",
            "Requirement already satisfied: numpy in /usr/local/lib/python3.7/dist-packages (from causalgraphicalmodels) (1.21.6)\n",
            "Requirement already satisfied: networkx in /usr/local/lib/python3.7/dist-packages (from causalgraphicalmodels) (2.6.3)\n",
            "Requirement already satisfied: graphviz in /usr/local/lib/python3.7/dist-packages (from causalgraphicalmodels) (0.10.1)\n",
            "Requirement already satisfied: pandas in /usr/local/lib/python3.7/dist-packages (from causalgraphicalmodels) (1.3.5)\n",
            "Requirement already satisfied: pytz>=2017.3 in /usr/local/lib/python3.7/dist-packages (from pandas->causalgraphicalmodels) (2022.6)\n",
            "Requirement already satisfied: python-dateutil>=2.7.3 in /usr/local/lib/python3.7/dist-packages (from pandas->causalgraphicalmodels) (2.8.2)\n",
            "Requirement already satisfied: six>=1.5 in /usr/local/lib/python3.7/dist-packages (from python-dateutil>=2.7.3->pandas->causalgraphicalmodels) (1.15.0)\n"
          ]
        }
      ]
    },
    {
      "cell_type": "code",
      "metadata": {
        "id": "K9lDYMYUpJgf"
      },
      "source": [
        "import numpy as np\n",
        "import matplotlib.pyplot as plt\n",
        "from matplotlib.pyplot import figure\n",
        "\n",
        "from causalgraphicalmodels import StructuralCausalModel\n",
        "from causalgraphicalmodels.csm import discrete_model, linear_model\n",
        "\n",
        "from sklearn.linear_model import LinearRegression\n",
        "import math"
      ],
      "execution_count": 40,
      "outputs": []
    },
    {
      "cell_type": "markdown",
      "metadata": {
        "id": "9YuaZuUYZwSj"
      },
      "source": [
        "# Exercise 1:\n",
        "\n",
        "Implement the following bounds:\n",
        "1. No assumption bound\n",
        "2. Monotone treatment response (MTR)\n",
        "    1. nonnegative: $Y(1) \\geq Y(0)$\n",
        "    2. nonpositive: $Y(1) \\leq Y(0)$\n",
        "3. Monotone treatment selection (MTS): \n",
        "$E[Y(1) | T=1] \\geq E[Y(1) | T=0]$ and \n",
        "$E[Y(0) | T=1] \\geq E[Y(0) | T=0]$\n",
        "4. Optimal treatment selection (OTS): \n",
        "$T_i=1 \\rightarrow Y_i(1) \\geq Y_i(0)$ and\n",
        "$T_i=0 \\rightarrow Y_i(1) < Y_i(0)$\n",
        "    1. variant 1\n",
        "    2. variant 2\n",
        "\n",
        "as functions of the following parameters:\n",
        "1. $a = min(Y)$\n",
        "2. $b = max(Y)$\n",
        "3. $\\pi = P(T = 1)$\n",
        "4. $E[Y | T = 1]$, $E[Y | T = 0]$\n",
        "\n",
        "Check if you get the expected results for the following values of the input parameters:\n",
        "$a=0$, $b=1$, $\\pi=.3$, $E[Y | T = 1] = .9$, $E[Y | T = 0] = .2$."
      ]
    },
    {
      "cell_type": "markdown",
      "metadata": {
        "id": "JnjccL5JcyEm"
      },
      "source": [
        "Your solution:"
      ]
    },
    {
      "cell_type": "markdown",
      "source": [
        "### No asumptions bound:"
      ],
      "metadata": {
        "id": "JNbJz-prtHgu"
      }
    },
    {
      "cell_type": "markdown",
      "source": [
        "Upper Bound:\n",
        "\n",
        "$\\mathbb{E} [Y(1) - Y(0)] \\leq \\pi \\mathbb{E} [Y | T=1] + (1-\\pi) b - \\pi a - (1-\\pi) \\mathbb{E}[Y | T=0]$\n",
        "\n",
        "Lower Bound:\n",
        "\n",
        "$\\mathbb{E} [Y(1) - Y(0)] \\geq \\pi \\mathbb{E} [Y | T=1] + (1-\\pi) a - \\pi b - (1-\\pi) \\mathbb{E}[Y | T=0]$"
      ],
      "metadata": {
        "id": "4bsjNrBFEAVZ"
      }
    },
    {
      "cell_type": "code",
      "source": [],
      "metadata": {
        "id": "3MNI5iXTU4Vv"
      },
      "execution_count": 40,
      "outputs": []
    },
    {
      "cell_type": "markdown",
      "source": [
        "For all the functions I add a boolean variable `calc`. If it is set as `True`, then it calculates the parameters `a, b, pi E_Y_cond_T_0, E_Y_cond_T_1`. If it is set as `False`, it would use the user's inputs instead.\n"
      ],
      "metadata": {
        "id": "xS5l5HjHK33O"
      }
    },
    {
      "cell_type": "code",
      "source": [
        "def no_assump_bound(df, a, b, pi, E_Y_cond_T_0, E_Y_cond_T_1, calc=False):\n",
        "\n",
        "  if calc==True:\n",
        "    E_Y_cond_T_1 = df[df['T'] == 1]['Y'].mean()\n",
        "    E_Y_cond_T_0 = df[df['T'] == 0]['Y'].mean()\n",
        "    a = min(df['Y'])\n",
        "    b = max(df['Y'])\n",
        "    pi = len(df[df['T'] == 1]) / len(df)\n",
        "\n",
        "  ATE = df[df['T'] == 1]['Y'].mean() - df[df['T'] == 0]['Y'].mean()\n",
        "  #p_T_0 = len(df[df['T'] == 1]) / len(df)\n",
        "  #a=min(df['Y']) \n",
        "  #b=max(df['Y'])\n",
        "  #pi= (len(df[df['T'] == 1]) / len(df))\n",
        "  #E_Y_cond_T_0=0.2\n",
        "  #E_Y_cond_T_1=0.9\n",
        "  # upper bound\n",
        "  ub_nab =  pi * E_Y_cond_T_1 + (1 - pi) *  b - pi * a - (1 - pi) * E_Y_cond_T_0\n",
        "\n",
        "  # lower bound\n",
        "  lb_nab = pi * E_Y_cond_T_1 + (1 - pi) *  a - pi * b - (1 - pi) * E_Y_cond_T_0\n",
        "  print(\"upper bound: \", ub_nab)\n",
        "  print(\"lower bound: \", lb_nab)\n",
        "  return(ATE <= ub_nab, ATE >= lb_nab)"
      ],
      "metadata": {
        "id": "dGAmaCKXhaJs"
      },
      "execution_count": 41,
      "outputs": []
    },
    {
      "cell_type": "code",
      "source": [],
      "metadata": {
        "id": "Lvfv0sK6TvYn"
      },
      "execution_count": 41,
      "outputs": []
    },
    {
      "cell_type": "markdown",
      "source": [
        "### MTR:"
      ],
      "metadata": {
        "id": "zVmm_LQlIEEY"
      }
    },
    {
      "cell_type": "markdown",
      "source": [
        "$E[Y(1) - Y(0)] \\geq 0 $"
      ],
      "metadata": {
        "id": "qKSO60FVMGPj"
      }
    },
    {
      "cell_type": "markdown",
      "source": [],
      "metadata": {
        "id": "RbIZoqTYLJzU"
      }
    },
    {
      "cell_type": "markdown",
      "source": [],
      "metadata": {
        "id": "xbLsEVXiKR9U"
      }
    },
    {
      "cell_type": "code",
      "source": [
        "def MTR_bound(df, calc=False):\n",
        "  if calc==True:\n",
        "    E_Y_cond_T_1 = df[df['T'] == 1]['Y'].mean()\n",
        "    E_Y_cond_T_0 = df[df['T'] == 0]['Y'].mean()\n",
        "  ATE = df[df['T'] == 1]['Y'].mean() - df[df['T'] == 0]['Y'].mean()\n",
        "  return(ATE >= 0)"
      ],
      "metadata": {
        "id": "IHk2_rKxMa4U"
      },
      "execution_count": 42,
      "outputs": []
    },
    {
      "cell_type": "markdown",
      "metadata": {
        "id": "aVT6daMjlEYG"
      },
      "source": [
        "### MTS: \n",
        "$E[Y(1) | T=1] \\geq E[Y(1) | T=0]$ and \n",
        "$E[Y(0) | T=1] \\geq E[Y(0) | T=0]$\n",
        "\n",
        "What is the intuition behind this assumption? How can we change the model to satisfy the assumption?\n",
        "\n",
        "What about the following modification?"
      ]
    },
    {
      "cell_type": "markdown",
      "source": [
        "This assumptions states that the treatment groups' potential outcomes are better than control groups'\n"
      ],
      "metadata": {
        "id": "kJVLAe7MNXJG"
      }
    },
    {
      "cell_type": "markdown",
      "metadata": {
        "id": "9Buzfg0QlY3z"
      },
      "source": [
        "<code>\n",
        "\"T\": discrete_model([\"C\", \"A\"], { <br>\n",
        "        (0, 0): (0.7, 0.3), <br>\n",
        "        (0, 1): (0.1, 0.9), <br>\n",
        "        (1, 0): (0.8, 0.2), <br>\n",
        "        (1, 1): (0.3, 0.7), <br>\n",
        "        }),\n",
        "</code>"
      ]
    },
    {
      "cell_type": "markdown",
      "source": [
        "This new values of T would improve satisfaction of the assumption. We can see in the structure of the model that the treament values (`T` being 0 or 1) depends on `C` and `A`.\n",
        "In the original model, observing `T=1` had smaller probabilities compared to `T=1`, while in the modified model observing `T=1` is more probable."
      ],
      "metadata": {
        "id": "PhNuiwgrjtZy"
      }
    },
    {
      "cell_type": "markdown",
      "source": [
        "We can combine the two conditions of MTS as in the following:\n",
        "\n"
      ],
      "metadata": {
        "id": "zsRKnshqijKf"
      }
    },
    {
      "cell_type": "markdown",
      "source": [
        "$\\mathbb{E}[Y(1) - Y(0)] \\leq \\mathbb{E}[Y | T=1] - \\mathbb{E}[Y | T=0]$"
      ],
      "metadata": {
        "id": "SQRjhJzjLrSc"
      }
    },
    {
      "cell_type": "markdown",
      "source": [
        "I will implement the combined inequality in the following:"
      ],
      "metadata": {
        "id": "dsUm2g0JMQKx"
      }
    },
    {
      "cell_type": "code",
      "metadata": {
        "id": "ifWx-OyR5yz6"
      },
      "source": [
        "def MTS_bound(df, E_Y_cond_T_0, E_Y_cond_T_1, calc=False):\n",
        "  if calc==True:\n",
        "    E_Y_cond_T_1 = df[df['T'] == 1]['Y'].mean()\n",
        "    E_Y_cond_T_0 = df[df['T'] == 0]['Y'].mean()\n",
        "  ATE = df[df['T'] == 1]['Y'].mean() - df[df['T'] == 0]['Y'].mean()\n",
        "  return(ATE <= E_Y_cond_T_1 - E_Y_cond_T_0)"
      ],
      "execution_count": 43,
      "outputs": []
    },
    {
      "cell_type": "markdown",
      "metadata": {
        "id": "uRXSG-8RnVgd"
      },
      "source": [
        "### OTS:\n",
        "$T_i=1 \\rightarrow Y_i(1) \\geq Y_i(0)$ and\n",
        "$T_i=0 \\rightarrow Y_i(1) < Y_i(0)$\n",
        "\n",
        "What is the intuition behind this assumption? How can we change the model to satisfy the assumption?\n",
        "\n",
        "What about the following modification?\n",
        "\n",
        "<code>\n",
        "\"Y\": discrete_model([\"A\", \"T\"], { <br>\n",
        "        (0, 0): (0.4, 0.6), <br>\n",
        "        (0, 1): (0.7, 0.3), <br>\n",
        "        (1, 0): (0.9, 0.1), <br>\n",
        "        (1, 1): (0.1, 0.9), <br>\n",
        "        }),\n",
        "</code>"
      ]
    },
    {
      "cell_type": "markdown",
      "source": [
        "The assumption implies that individuals always receive the treatment that is optimal for them. Therefore, for invidiuals in treatment group ($T_i =1$), the potential outcome under the treatment is better than the potential outcome under no treatment. Also, for individuals in no treatment group ($T_i =1$), the potential outcome under no treatment is better than the potential outcome under treatment."
      ],
      "metadata": {
        "id": "s9VpDgrZM4QP"
      }
    },
    {
      "cell_type": "markdown",
      "source": [
        "The OTS bound is the following:"
      ],
      "metadata": {
        "id": "UakabNlzNyp3"
      }
    },
    {
      "cell_type": "markdown",
      "source": [
        "$\\mathbb{E}[Y(1) - Y(0)] < \\pi \\mathbb{E}[Y | T=1] - \\pi a$\n",
        "\n",
        "$\\mathbb{E}[Y(1) - Y(0)] \\geq (1 - \\pi)a - (1-\\pi) \\mathbb{E}[Y | T=0] $\n"
      ],
      "metadata": {
        "id": "V1zzxmFQN1iE"
      }
    },
    {
      "cell_type": "markdown",
      "source": [
        "I will implement the mentioned bounds in the following:"
      ],
      "metadata": {
        "id": "nxM1TgPrOohz"
      }
    },
    {
      "cell_type": "code",
      "source": [
        "def OTS_bound(df, a, b, pi, E_Y_cond_T_0, E_Y_cond_T_1, calc=False):\n",
        "  ATE = df[df['T'] == 1]['Y'].mean() - df[df['T'] == 0]['Y'].mean()\n",
        "  if calc==True:\n",
        "    E_Y_cond_T_1 = df[df['T'] == 1]['Y'].mean()\n",
        "    E_Y_cond_T_0 = df[df['T'] == 0]['Y'].mean()\n",
        "    a = min(df['Y'])\n",
        "    b = max(df['Y'])\n",
        "    pi = len(df[df['T'] == 1]) / len(df)\n",
        "  #p_T_0 = len(df[df['T'] == 1]) / len(df)\n",
        "  #a=min(df['Y']) \n",
        "  #b=max(df['Y'])\n",
        "  #pi= (len(df[df['T'] == 1]) / len(df))\n",
        "  #E_Y_cond_T_0=0.2\n",
        "  #E_Y_cond_T_1=0.9\n",
        "  # upper bound\n",
        "  ub_ots =  pi * E_Y_cond_T_1 - pi * a\n",
        "  # lower bound\n",
        "  lb_ots = (1 - pi) * a - (1 - pi) * E_Y_cond_T_0 \n",
        "  print(\"ATE avg: \", ATE)\n",
        "  print(\"upper bound:\", ub_ots)\n",
        "  print(\"lower bound: \", lb_ots)\n",
        "  return(ATE < ub_ots, ATE >= lb_ots)"
      ],
      "metadata": {
        "id": "LkhtBdMVtJsm"
      },
      "execution_count": 44,
      "outputs": []
    },
    {
      "cell_type": "markdown",
      "metadata": {
        "id": "oYlFZZC7qZdf"
      },
      "source": [
        "# A Discrete model\n"
      ]
    },
    {
      "cell_type": "code",
      "metadata": {
        "colab": {
          "base_uri": "https://localhost:8080/",
          "height": 386
        },
        "id": "7dt3wPMYqGyC",
        "outputId": "276b5c48-9d0d-4654-88aa-d8e79a29731c"
      },
      "source": [
        "fd_disc = StructuralCausalModel({\n",
        "    \"C\": lambda n_samples: np.random.binomial(n=1, p=0.7, size=n_samples),\n",
        "    \"A\": lambda n_samples: np.random.binomial(n=1, p=0.3, size=n_samples),\n",
        "    \"T\": discrete_model([\"C\", \"A\"], {\n",
        "        (0, 0): (0.1, 0.9), \n",
        "        (0, 1): (0.7, 0.3),\n",
        "        (1, 0): (0.3, 0.7),\n",
        "        (1, 1): (0.8, 0.2),\n",
        "        }),  \n",
        "    \"F\": discrete_model([\"T\"], {\n",
        "        (0, ): (0.6, 0.4),\n",
        "        (1, ): (0.1, 0.9),\n",
        "        }),\n",
        "    \"Y\": discrete_model([\"A\", \"T\"], {\n",
        "        (0, 0): (0.9, 0.1), \n",
        "        (0, 1): (0.3, 0.7),\n",
        "        (1, 0): (0.4, 0.6),\n",
        "        (1, 1): (0.5, 0.5),\n",
        "        }),\n",
        "    \"H\": discrete_model([\"Y\"], {\n",
        "        (0, ): (0.2, 0.4, 0.4),\n",
        "        (1, ): (0.8, 0.1, 0.1),\n",
        "        }),\n",
        "})\n",
        "# sampling\n",
        "data_df = fd_disc.sample(n_samples = 1000000)\n",
        "\n",
        "# calculation true ATE\n",
        "set_variable_X = np.array([0]*500000 + [1]*500000)\n",
        "ab_test_df = fd_disc.do('T').sample(\n",
        "                    set_values={'T': set_variable_X}, \n",
        "                    n_samples=len(set_variable_X),\n",
        "                  )\n",
        "true_ate = ab_test_df[ab_test_df['T'] == 1]['Y'].mean() - ab_test_df[ab_test_df['T'] == 0]['Y'].mean()\n",
        "print('True_ATE = {}'.format(true_ate))\n",
        "\n",
        "fd_disc.cgm.draw()"
      ],
      "execution_count": 45,
      "outputs": [
        {
          "output_type": "stream",
          "name": "stdout",
          "text": [
            "True_ATE = 0.389274\n"
          ]
        },
        {
          "output_type": "execute_result",
          "data": {
            "text/plain": [
              "<graphviz.dot.Digraph at 0x7f05f2427450>"
            ],
            "image/svg+xml": "<?xml version=\"1.0\" encoding=\"UTF-8\" standalone=\"no\"?>\n<!DOCTYPE svg PUBLIC \"-//W3C//DTD SVG 1.1//EN\"\n \"http://www.w3.org/Graphics/SVG/1.1/DTD/svg11.dtd\">\n<!-- Generated by graphviz version 2.40.1 (20161225.0304)\n -->\n<!-- Title: %3 Pages: 1 -->\n<svg width=\"134pt\" height=\"260pt\"\n viewBox=\"0.00 0.00 134.00 260.00\" xmlns=\"http://www.w3.org/2000/svg\" xmlns:xlink=\"http://www.w3.org/1999/xlink\">\n<g id=\"graph0\" class=\"graph\" transform=\"scale(1 1) rotate(0) translate(4 256)\">\n<title>%3</title>\n<polygon fill=\"#ffffff\" stroke=\"transparent\" points=\"-4,4 -4,-256 130,-256 130,4 -4,4\"/>\n<!-- A -->\n<g id=\"node1\" class=\"node\">\n<title>A</title>\n<ellipse fill=\"none\" stroke=\"#000000\" cx=\"99\" cy=\"-234\" rx=\"27\" ry=\"18\"/>\n<text text-anchor=\"middle\" x=\"99\" y=\"-230.3\" font-family=\"Times,serif\" font-size=\"14.00\" fill=\"#000000\">A</text>\n</g>\n<!-- T -->\n<g id=\"node2\" class=\"node\">\n<title>T</title>\n<ellipse fill=\"none\" stroke=\"#000000\" cx=\"35\" cy=\"-162\" rx=\"27\" ry=\"18\"/>\n<text text-anchor=\"middle\" x=\"35\" y=\"-158.3\" font-family=\"Times,serif\" font-size=\"14.00\" fill=\"#000000\">T</text>\n</g>\n<!-- A&#45;&gt;T -->\n<g id=\"edge2\" class=\"edge\">\n<title>A&#45;&gt;T</title>\n<path fill=\"none\" stroke=\"#000000\" d=\"M85.113,-218.3771C76.4747,-208.659 65.2107,-195.987 55.5503,-185.1191\"/>\n<polygon fill=\"#000000\" stroke=\"#000000\" points=\"58.1196,-182.7413 48.8599,-177.5924 52.8877,-187.3918 58.1196,-182.7413\"/>\n</g>\n<!-- Y -->\n<g id=\"node5\" class=\"node\">\n<title>Y</title>\n<ellipse fill=\"none\" stroke=\"#000000\" cx=\"99\" cy=\"-90\" rx=\"27\" ry=\"18\"/>\n<text text-anchor=\"middle\" x=\"99\" y=\"-86.3\" font-family=\"Times,serif\" font-size=\"14.00\" fill=\"#000000\">Y</text>\n</g>\n<!-- A&#45;&gt;Y -->\n<g id=\"edge3\" class=\"edge\">\n<title>A&#45;&gt;Y</title>\n<path fill=\"none\" stroke=\"#000000\" d=\"M99,-215.7623C99,-191.201 99,-147.2474 99,-118.3541\"/>\n<polygon fill=\"#000000\" stroke=\"#000000\" points=\"102.5001,-118.0896 99,-108.0896 95.5001,-118.0897 102.5001,-118.0896\"/>\n</g>\n<!-- T&#45;&gt;Y -->\n<g id=\"edge5\" class=\"edge\">\n<title>T&#45;&gt;Y</title>\n<path fill=\"none\" stroke=\"#000000\" d=\"M48.887,-146.3771C57.5253,-136.659 68.7893,-123.987 78.4497,-113.1191\"/>\n<polygon fill=\"#000000\" stroke=\"#000000\" points=\"81.1123,-115.3918 85.1401,-105.5924 75.8804,-110.7413 81.1123,-115.3918\"/>\n</g>\n<!-- F -->\n<g id=\"node6\" class=\"node\">\n<title>F</title>\n<ellipse fill=\"none\" stroke=\"#000000\" cx=\"27\" cy=\"-90\" rx=\"27\" ry=\"18\"/>\n<text text-anchor=\"middle\" x=\"27\" y=\"-86.3\" font-family=\"Times,serif\" font-size=\"14.00\" fill=\"#000000\">F</text>\n</g>\n<!-- T&#45;&gt;F -->\n<g id=\"edge4\" class=\"edge\">\n<title>T&#45;&gt;F</title>\n<path fill=\"none\" stroke=\"#000000\" d=\"M32.9813,-143.8314C32.1257,-136.131 31.1083,-126.9743 30.1574,-118.4166\"/>\n<polygon fill=\"#000000\" stroke=\"#000000\" points=\"33.6289,-117.9656 29.0459,-108.4133 26.6717,-118.7386 33.6289,-117.9656\"/>\n</g>\n<!-- C -->\n<g id=\"node3\" class=\"node\">\n<title>C</title>\n<ellipse fill=\"none\" stroke=\"#000000\" cx=\"27\" cy=\"-234\" rx=\"27\" ry=\"18\"/>\n<text text-anchor=\"middle\" x=\"27\" y=\"-230.3\" font-family=\"Times,serif\" font-size=\"14.00\" fill=\"#000000\">C</text>\n</g>\n<!-- C&#45;&gt;T -->\n<g id=\"edge1\" class=\"edge\">\n<title>C&#45;&gt;T</title>\n<path fill=\"none\" stroke=\"#000000\" d=\"M29.0187,-215.8314C29.8743,-208.131 30.8917,-198.9743 31.8426,-190.4166\"/>\n<polygon fill=\"#000000\" stroke=\"#000000\" points=\"35.3283,-190.7386 32.9541,-180.4133 28.3711,-189.9656 35.3283,-190.7386\"/>\n</g>\n<!-- H -->\n<g id=\"node4\" class=\"node\">\n<title>H</title>\n<ellipse fill=\"none\" stroke=\"#000000\" cx=\"99\" cy=\"-18\" rx=\"27\" ry=\"18\"/>\n<text text-anchor=\"middle\" x=\"99\" y=\"-14.3\" font-family=\"Times,serif\" font-size=\"14.00\" fill=\"#000000\">H</text>\n</g>\n<!-- Y&#45;&gt;H -->\n<g id=\"edge6\" class=\"edge\">\n<title>Y&#45;&gt;H</title>\n<path fill=\"none\" stroke=\"#000000\" d=\"M99,-71.8314C99,-64.131 99,-54.9743 99,-46.4166\"/>\n<polygon fill=\"#000000\" stroke=\"#000000\" points=\"102.5001,-46.4132 99,-36.4133 95.5001,-46.4133 102.5001,-46.4132\"/>\n</g>\n</g>\n</svg>\n"
          },
          "metadata": {},
          "execution_count": 45
        }
      ]
    },
    {
      "cell_type": "code",
      "source": [
        "df_disc_0 = fd_disc.sample(n_samples=100000)"
      ],
      "metadata": {
        "id": "W_0bzKoQheh7"
      },
      "execution_count": 46,
      "outputs": []
    },
    {
      "cell_type": "markdown",
      "metadata": {
        "id": "CL8ceKwZibua"
      },
      "source": [
        "## Exercise 2:\n",
        "\n",
        "Calculate all bounds for the discrete model defined above and check if the true causel effect is within these bounds:"
      ]
    },
    {
      "cell_type": "code",
      "source": [
        "a = 0\n",
        "b = 1\n",
        "pi = 0.3\n",
        "E_Y_cond_T_0 = 0.2\n",
        "E_Y_cond_T_1 = 0.9"
      ],
      "metadata": {
        "id": "QbOWjpXCM408"
      },
      "execution_count": 47,
      "outputs": []
    },
    {
      "cell_type": "code",
      "source": [],
      "metadata": {
        "id": "vQMJT2KVJKuw"
      },
      "execution_count": 47,
      "outputs": []
    },
    {
      "cell_type": "code",
      "source": [],
      "metadata": {
        "id": "UGFClg-XJRMH"
      },
      "execution_count": 47,
      "outputs": []
    },
    {
      "cell_type": "markdown",
      "source": [
        "### No assumption bound:"
      ],
      "metadata": {
        "id": "hciqaYzgJs3f"
      }
    },
    {
      "cell_type": "code",
      "metadata": {
        "id": "vOVlde3z51jg",
        "colab": {
          "base_uri": "https://localhost:8080/"
        },
        "outputId": "288e2a79-f962-48e6-81c3-a8e586cb6a6e"
      },
      "source": [
        "no_assump_bound(df_disc_0, a, b, pi, E_Y_cond_T_0, E_Y_cond_T_1)"
      ],
      "execution_count": 52,
      "outputs": [
        {
          "output_type": "stream",
          "name": "stdout",
          "text": [
            "upper bound:  0.83\n",
            "lower bound:  -0.16999999999999996\n"
          ]
        },
        {
          "output_type": "execute_result",
          "data": {
            "text/plain": [
              "(True, True)"
            ]
          },
          "metadata": {},
          "execution_count": 52
        }
      ]
    },
    {
      "cell_type": "code",
      "source": [
        "no_assump_bound(df_disc_0, a, b, pi, E_Y_cond_T_0, E_Y_cond_T_1, calc=True)"
      ],
      "metadata": {
        "colab": {
          "base_uri": "https://localhost:8080/"
        },
        "id": "ulIFzEDQNeOG",
        "outputId": "3ff9e992-86cd-4d63-8414-6a15eccede77"
      },
      "execution_count": 50,
      "outputs": [
        {
          "output_type": "stream",
          "name": "stdout",
          "text": [
            "upper bound:  0.6519\n",
            "lower bound:  -0.34809999999999997\n"
          ]
        },
        {
          "output_type": "execute_result",
          "data": {
            "text/plain": [
              "(True, True)"
            ]
          },
          "metadata": {},
          "execution_count": 50
        }
      ]
    },
    {
      "cell_type": "markdown",
      "source": [
        "### MTR:"
      ],
      "metadata": {
        "id": "F1BKJEq1MyY0"
      }
    },
    {
      "cell_type": "code",
      "source": [
        "MTR_bound(df_disc_0)"
      ],
      "metadata": {
        "colab": {
          "base_uri": "https://localhost:8080/"
        },
        "id": "6vw2obFsM5-5",
        "outputId": "4bcb6eaa-0e08-4b9b-ecf0-435eed1d7cf3"
      },
      "execution_count": 51,
      "outputs": [
        {
          "output_type": "execute_result",
          "data": {
            "text/plain": [
              "True"
            ]
          },
          "metadata": {},
          "execution_count": 51
        }
      ]
    },
    {
      "cell_type": "markdown",
      "source": [
        "### MTS:"
      ],
      "metadata": {
        "id": "tm4q73lLiMsy"
      }
    },
    {
      "cell_type": "code",
      "source": [
        "MTS_bound(df_disc_0, E_Y_cond_T_0, E_Y_cond_T_1)"
      ],
      "metadata": {
        "colab": {
          "base_uri": "https://localhost:8080/"
        },
        "id": "kvx8GamXiN6m",
        "outputId": "6a4d2631-8b49-42eb-f901-c1d86a9084b1"
      },
      "execution_count": 12,
      "outputs": [
        {
          "output_type": "execute_result",
          "data": {
            "text/plain": [
              "True"
            ]
          },
          "metadata": {},
          "execution_count": 12
        }
      ]
    },
    {
      "cell_type": "code",
      "source": [
        "MTS_bound(df_disc_0, E_Y_cond_T_0, E_Y_cond_T_1, calc=True)"
      ],
      "metadata": {
        "colab": {
          "base_uri": "https://localhost:8080/"
        },
        "id": "vhoP0ALNNpwa",
        "outputId": "65e144ed-9332-49bb-84ef-7d70db6d0465"
      },
      "execution_count": 53,
      "outputs": [
        {
          "output_type": "execute_result",
          "data": {
            "text/plain": [
              "True"
            ]
          },
          "metadata": {},
          "execution_count": 53
        }
      ]
    },
    {
      "cell_type": "markdown",
      "source": [
        "### OTS:"
      ],
      "metadata": {
        "id": "1mlUObfqoTg7"
      }
    },
    {
      "cell_type": "code",
      "source": [
        "OTS_bound(df_disc_0, a, b, pi, E_Y_cond_T_0, E_Y_cond_T_1)"
      ],
      "metadata": {
        "colab": {
          "base_uri": "https://localhost:8080/"
        },
        "id": "kgwKibFhoVJu",
        "outputId": "bed5f949-ac44-49cc-905c-c3fddba9e3c9"
      },
      "execution_count": 55,
      "outputs": [
        {
          "output_type": "stream",
          "name": "stdout",
          "text": [
            "ATE avg:  0.2904732515467585\n",
            "upper bound: 0.27\n",
            "lower bound:  -0.13999999999999999\n"
          ]
        },
        {
          "output_type": "execute_result",
          "data": {
            "text/plain": [
              "(False, True)"
            ]
          },
          "metadata": {},
          "execution_count": 55
        }
      ]
    },
    {
      "cell_type": "code",
      "source": [
        "OTS_bound(df_disc_0, a, b, pi, E_Y_cond_T_0, E_Y_cond_T_1, calc=True)"
      ],
      "metadata": {
        "colab": {
          "base_uri": "https://localhost:8080/"
        },
        "id": "N5rhQoP1Nv_j",
        "outputId": "51832a18-736e-4abe-bf9e-c95427b8e0cd"
      },
      "execution_count": 54,
      "outputs": [
        {
          "output_type": "stream",
          "name": "stdout",
          "text": [
            "ATE avg:  0.2904732515467585\n",
            "upper bound: 0.40696\n",
            "lower bound:  -0.15542\n"
          ]
        },
        {
          "output_type": "execute_result",
          "data": {
            "text/plain": [
              "(True, True)"
            ]
          },
          "metadata": {},
          "execution_count": 54
        }
      ]
    },
    {
      "cell_type": "markdown",
      "metadata": {
        "id": "0UF6X4ukspis"
      },
      "source": [
        "# Excercise 3\n",
        "\n",
        "Start with the following model and adjust it such that OTS allows identifyng the sign of the causal effect.\n",
        "\n",
        "Remember the logic behind each assumption."
      ]
    },
    {
      "cell_type": "markdown",
      "source": [
        "without modification"
      ],
      "metadata": {
        "id": "s2VuXvEx0ym1"
      }
    },
    {
      "cell_type": "code",
      "source": [
        "fd_disc = StructuralCausalModel({\n",
        "    \"A\": lambda n_samples: np.random.binomial(n=1, p=0.5, size=n_samples),\n",
        "    \"T\": discrete_model([\"A\"], {\n",
        "        (0,): (0.6, 0.4),\n",
        "        (1,): (0.4, 0.6),\n",
        "        }), \n",
        "    \"Y\": discrete_model([\"A\", \"T\"], {\n",
        "        (0, 0): (0.4, 0.6), \n",
        "        (0, 1): (0.7, 0.3),\n",
        "        (1, 0): (0.9, 0.1),\n",
        "        (1, 1): (0.1, 0.9),\n",
        "        }),\n",
        "})\n",
        "# sampling\n",
        "data_df = fd_disc.sample(n_samples = 1000000)\n",
        "\n",
        "# calculation true ATE\n",
        "set_variable_X = np.array([0]*500000 + [1]*500000)\n",
        "ab_test_df = fd_disc.do('T').sample(\n",
        "                    set_values={'T': set_variable_X}, \n",
        "                    n_samples=len(set_variable_X),\n",
        "                  )\n",
        "true_ate = ab_test_df[ab_test_df['T'] == 1]['Y'].mean() - ab_test_df[ab_test_df['T'] == 0]['Y'].mean()\n",
        "print('True_ATE = {}'.format(true_ate))\n",
        "\n",
        "fd_disc.cgm.draw()"
      ],
      "metadata": {
        "colab": {
          "base_uri": "https://localhost:8080/",
          "height": 290
        },
        "id": "QHMJCCxg01aE",
        "outputId": "c2e8bd36-37c2-48c1-966b-0a71f8c124d0"
      },
      "execution_count": 56,
      "outputs": [
        {
          "output_type": "stream",
          "name": "stdout",
          "text": [
            "True_ATE = 0.24940999999999997\n"
          ]
        },
        {
          "output_type": "execute_result",
          "data": {
            "text/plain": [
              "<graphviz.dot.Digraph at 0x7f05e219f6d0>"
            ],
            "image/svg+xml": "<?xml version=\"1.0\" encoding=\"UTF-8\" standalone=\"no\"?>\n<!DOCTYPE svg PUBLIC \"-//W3C//DTD SVG 1.1//EN\"\n \"http://www.w3.org/Graphics/SVG/1.1/DTD/svg11.dtd\">\n<!-- Generated by graphviz version 2.40.1 (20161225.0304)\n -->\n<!-- Title: %3 Pages: 1 -->\n<svg width=\"89pt\" height=\"188pt\"\n viewBox=\"0.00 0.00 89.00 188.00\" xmlns=\"http://www.w3.org/2000/svg\" xmlns:xlink=\"http://www.w3.org/1999/xlink\">\n<g id=\"graph0\" class=\"graph\" transform=\"scale(1 1) rotate(0) translate(4 184)\">\n<title>%3</title>\n<polygon fill=\"#ffffff\" stroke=\"transparent\" points=\"-4,4 -4,-184 85,-184 85,4 -4,4\"/>\n<!-- A -->\n<g id=\"node1\" class=\"node\">\n<title>A</title>\n<ellipse fill=\"none\" stroke=\"#000000\" cx=\"54\" cy=\"-162\" rx=\"27\" ry=\"18\"/>\n<text text-anchor=\"middle\" x=\"54\" y=\"-158.3\" font-family=\"Times,serif\" font-size=\"14.00\" fill=\"#000000\">A</text>\n</g>\n<!-- T -->\n<g id=\"node2\" class=\"node\">\n<title>T</title>\n<ellipse fill=\"none\" stroke=\"#000000\" cx=\"27\" cy=\"-90\" rx=\"27\" ry=\"18\"/>\n<text text-anchor=\"middle\" x=\"27\" y=\"-86.3\" font-family=\"Times,serif\" font-size=\"14.00\" fill=\"#000000\">T</text>\n</g>\n<!-- A&#45;&gt;T -->\n<g id=\"edge1\" class=\"edge\">\n<title>A&#45;&gt;T</title>\n<path fill=\"none\" stroke=\"#000000\" d=\"M47.3258,-144.2022C44.2524,-136.0064 40.5384,-126.1024 37.1305,-117.0145\"/>\n<polygon fill=\"#000000\" stroke=\"#000000\" points=\"40.3858,-115.7274 33.5974,-107.593 33.8315,-118.1853 40.3858,-115.7274\"/>\n</g>\n<!-- Y -->\n<g id=\"node3\" class=\"node\">\n<title>Y</title>\n<ellipse fill=\"none\" stroke=\"#000000\" cx=\"54\" cy=\"-18\" rx=\"27\" ry=\"18\"/>\n<text text-anchor=\"middle\" x=\"54\" y=\"-14.3\" font-family=\"Times,serif\" font-size=\"14.00\" fill=\"#000000\">Y</text>\n</g>\n<!-- A&#45;&gt;Y -->\n<g id=\"edge2\" class=\"edge\">\n<title>A&#45;&gt;Y</title>\n<path fill=\"none\" stroke=\"#000000\" d=\"M57.7474,-144.0931C59.7466,-133.6241 61.9966,-120.1241 63,-108 64.3197,-92.0545 64.3197,-87.9455 63,-72 62.2945,-63.4753 60.9727,-54.2703 59.5551,-45.917\"/>\n<polygon fill=\"#000000\" stroke=\"#000000\" points=\"62.9689,-45.1258 57.7474,-35.9069 56.0803,-46.3698 62.9689,-45.1258\"/>\n</g>\n<!-- T&#45;&gt;Y -->\n<g id=\"edge3\" class=\"edge\">\n<title>T&#45;&gt;Y</title>\n<path fill=\"none\" stroke=\"#000000\" d=\"M33.6742,-72.2022C36.7476,-64.0064 40.4616,-54.1024 43.8695,-45.0145\"/>\n<polygon fill=\"#000000\" stroke=\"#000000\" points=\"47.1685,-46.1853 47.4026,-35.593 40.6142,-43.7274 47.1685,-46.1853\"/>\n</g>\n</g>\n</svg>\n"
          },
          "metadata": {},
          "execution_count": 56
        }
      ]
    },
    {
      "cell_type": "code",
      "source": [
        "df_disc_1 = fd_disc.sample(n_samples=100000)"
      ],
      "metadata": {
        "id": "XjRbgVAD03Et"
      },
      "execution_count": 57,
      "outputs": []
    },
    {
      "cell_type": "markdown",
      "source": [
        "I implement the second OTS bound, which can be used for determining the sign of the ATE qunatity:"
      ],
      "metadata": {
        "id": "ucU1pm6RQfqr"
      }
    },
    {
      "cell_type": "markdown",
      "source": [
        "### OTS2"
      ],
      "metadata": {
        "id": "aS2fyH_HPFKF"
      }
    },
    {
      "cell_type": "markdown",
      "source": [
        "$\\mathbb{E}[Y(1) - Y(0)] \\leq \\mathbb{E} [Y | T=1] - \\pi a - (1 - \\pi) \\mathbb{E}[Y | T=0]$\n",
        "\n",
        "$\\mathbb{E}[Y(1) - Y(0)] \\geq \\pi \\mathbb{E} [Y | T=1] + (1 - \\pi) a - \\mathbb{E}[Y | T=0]$"
      ],
      "metadata": {
        "id": "ny9uLEt8PG2V"
      }
    },
    {
      "cell_type": "code",
      "source": [
        "def OTS_bound_2(df, a, b, pi, E_Y_cond_T_0, E_Y_cond_T_1, calc=False):\n",
        "  ATE = df[df['T'] == 1]['Y'].mean() - df[df['T'] == 0]['Y'].mean()\n",
        "\n",
        "  if calc==True:\n",
        "    E_Y_cond_T_1 = df[df['T'] == 1]['Y'].mean()\n",
        "    E_Y_cond_T_0 = df[df['T'] == 0]['Y'].mean()\n",
        "    a = min(df['Y'])\n",
        "    b = max(df['Y'])\n",
        "    pi = len(df[df['T'] == 1]) / len(df)\n",
        "  # upper bound\n",
        "  ub_ots_2 = E_Y_cond_T_1 - pi * a - (1 - pi) * E_Y_cond_T_0\n",
        "  # lower bound\n",
        "  lb_ots_2 = pi * E_Y_cond_T_1 + (1 - pi)*a - E_Y_cond_T_0\n",
        "  print(\"ATE avg: \", ATE)\n",
        "  print(\"upper bound:\", ub_ots_2)\n",
        "  print(\"lower bound: \", lb_ots_2)\n",
        "  return(ATE <= ub_ots_2, ATE >= lb_ots_2)"
      ],
      "metadata": {
        "id": "2RxaWEp-QlRU"
      },
      "execution_count": 62,
      "outputs": []
    },
    {
      "cell_type": "code",
      "source": [
        "OTS_bound(df_disc_1, a, b, pi, E_Y_cond_T_0, E_Y_cond_T_1,calc=True)"
      ],
      "metadata": {
        "colab": {
          "base_uri": "https://localhost:8080/"
        },
        "id": "ZklvbHWb06gO",
        "outputId": "fd86b9da-5e3d-489f-c371-7176e52e7284"
      },
      "execution_count": 63,
      "outputs": [
        {
          "output_type": "stream",
          "name": "stdout",
          "text": [
            "ATE avg:  0.2583094053280305\n",
            "upper bound: 0.32842000000000005\n",
            "lower bound:  -0.20095\n"
          ]
        },
        {
          "output_type": "execute_result",
          "data": {
            "text/plain": [
              "(True, True)"
            ]
          },
          "metadata": {},
          "execution_count": 63
        }
      ]
    },
    {
      "cell_type": "code",
      "source": [
        "OTS_bound_2(df_disc_1, a, b, pi, E_Y_cond_T_0, E_Y_cond_T_1,calc=True)"
      ],
      "metadata": {
        "colab": {
          "base_uri": "https://localhost:8080/"
        },
        "id": "xmlsipT7Q-nz",
        "outputId": "c1eae598-c756-4b80-cae4-ee1b4330715e"
      },
      "execution_count": 64,
      "outputs": [
        {
          "output_type": "stream",
          "name": "stdout",
          "text": [
            "ATE avg:  0.2583094053280305\n",
            "upper bound: 0.45798541461848685\n",
            "lower bound:  -0.07220600929045629\n"
          ]
        },
        {
          "output_type": "execute_result",
          "data": {
            "text/plain": [
              "(True, True)"
            ]
          },
          "metadata": {},
          "execution_count": 64
        }
      ]
    },
    {
      "cell_type": "markdown",
      "source": [
        "After modifying"
      ],
      "metadata": {
        "id": "bJrDWjjMI10a"
      }
    },
    {
      "cell_type": "code",
      "metadata": {
        "colab": {
          "base_uri": "https://localhost:8080/",
          "height": 290
        },
        "id": "z-uLjGOB3fmi",
        "outputId": "d1c2ac1e-e9db-41dc-bd72-11c517b6c69c"
      },
      "source": [
        "fd_disc = StructuralCausalModel({\n",
        "    \"A\": lambda n_samples: np.random.binomial(n=1, p=0.5, size=n_samples),\n",
        "    \"T\": discrete_model([\"A\"], {\n",
        "        (0,): (0.6, 0.4),\n",
        "        (1,): (0.4, 0.6),\n",
        "        }), \n",
        "    \"Y\": discrete_model([\"A\", \"T\"], {\n",
        "        (0, 0): (0.9, 0.1), \n",
        "        (0, 1): (0.1, 0.9),\n",
        "        (1, 0): (0.9, 0.1),\n",
        "        (1, 1): (0.1, 0.9),\n",
        "        }),\n",
        "})\n",
        "# sampling\n",
        "data_df = fd_disc.sample(n_samples = 1000000)\n",
        "\n",
        "# calculation true ATE\n",
        "set_variable_X = np.array([0]*500000 + [1]*500000)\n",
        "ab_test_df = fd_disc.do('T').sample(\n",
        "                    set_values={'T': set_variable_X}, \n",
        "                    n_samples=len(set_variable_X),\n",
        "                  )\n",
        "true_ate = ab_test_df[ab_test_df['T'] == 1]['Y'].mean() - ab_test_df[ab_test_df['T'] == 0]['Y'].mean()\n",
        "print('True_ATE = {}'.format(true_ate))\n",
        "\n",
        "fd_disc.cgm.draw()"
      ],
      "execution_count": 65,
      "outputs": [
        {
          "output_type": "stream",
          "name": "stdout",
          "text": [
            "True_ATE = 0.801056\n"
          ]
        },
        {
          "output_type": "execute_result",
          "data": {
            "text/plain": [
              "<graphviz.dot.Digraph at 0x7f05e4b9c6d0>"
            ],
            "image/svg+xml": "<?xml version=\"1.0\" encoding=\"UTF-8\" standalone=\"no\"?>\n<!DOCTYPE svg PUBLIC \"-//W3C//DTD SVG 1.1//EN\"\n \"http://www.w3.org/Graphics/SVG/1.1/DTD/svg11.dtd\">\n<!-- Generated by graphviz version 2.40.1 (20161225.0304)\n -->\n<!-- Title: %3 Pages: 1 -->\n<svg width=\"89pt\" height=\"188pt\"\n viewBox=\"0.00 0.00 89.00 188.00\" xmlns=\"http://www.w3.org/2000/svg\" xmlns:xlink=\"http://www.w3.org/1999/xlink\">\n<g id=\"graph0\" class=\"graph\" transform=\"scale(1 1) rotate(0) translate(4 184)\">\n<title>%3</title>\n<polygon fill=\"#ffffff\" stroke=\"transparent\" points=\"-4,4 -4,-184 85,-184 85,4 -4,4\"/>\n<!-- A -->\n<g id=\"node1\" class=\"node\">\n<title>A</title>\n<ellipse fill=\"none\" stroke=\"#000000\" cx=\"54\" cy=\"-162\" rx=\"27\" ry=\"18\"/>\n<text text-anchor=\"middle\" x=\"54\" y=\"-158.3\" font-family=\"Times,serif\" font-size=\"14.00\" fill=\"#000000\">A</text>\n</g>\n<!-- T -->\n<g id=\"node2\" class=\"node\">\n<title>T</title>\n<ellipse fill=\"none\" stroke=\"#000000\" cx=\"27\" cy=\"-90\" rx=\"27\" ry=\"18\"/>\n<text text-anchor=\"middle\" x=\"27\" y=\"-86.3\" font-family=\"Times,serif\" font-size=\"14.00\" fill=\"#000000\">T</text>\n</g>\n<!-- A&#45;&gt;T -->\n<g id=\"edge1\" class=\"edge\">\n<title>A&#45;&gt;T</title>\n<path fill=\"none\" stroke=\"#000000\" d=\"M47.3258,-144.2022C44.2524,-136.0064 40.5384,-126.1024 37.1305,-117.0145\"/>\n<polygon fill=\"#000000\" stroke=\"#000000\" points=\"40.3858,-115.7274 33.5974,-107.593 33.8315,-118.1853 40.3858,-115.7274\"/>\n</g>\n<!-- Y -->\n<g id=\"node3\" class=\"node\">\n<title>Y</title>\n<ellipse fill=\"none\" stroke=\"#000000\" cx=\"54\" cy=\"-18\" rx=\"27\" ry=\"18\"/>\n<text text-anchor=\"middle\" x=\"54\" y=\"-14.3\" font-family=\"Times,serif\" font-size=\"14.00\" fill=\"#000000\">Y</text>\n</g>\n<!-- A&#45;&gt;Y -->\n<g id=\"edge2\" class=\"edge\">\n<title>A&#45;&gt;Y</title>\n<path fill=\"none\" stroke=\"#000000\" d=\"M57.7474,-144.0931C59.7466,-133.6241 61.9966,-120.1241 63,-108 64.3197,-92.0545 64.3197,-87.9455 63,-72 62.2945,-63.4753 60.9727,-54.2703 59.5551,-45.917\"/>\n<polygon fill=\"#000000\" stroke=\"#000000\" points=\"62.9689,-45.1258 57.7474,-35.9069 56.0803,-46.3698 62.9689,-45.1258\"/>\n</g>\n<!-- T&#45;&gt;Y -->\n<g id=\"edge3\" class=\"edge\">\n<title>T&#45;&gt;Y</title>\n<path fill=\"none\" stroke=\"#000000\" d=\"M33.6742,-72.2022C36.7476,-64.0064 40.4616,-54.1024 43.8695,-45.0145\"/>\n<polygon fill=\"#000000\" stroke=\"#000000\" points=\"47.1685,-46.1853 47.4026,-35.593 40.6142,-43.7274 47.1685,-46.1853\"/>\n</g>\n</g>\n</svg>\n"
          },
          "metadata": {},
          "execution_count": 65
        }
      ]
    },
    {
      "cell_type": "markdown",
      "source": [
        "I modified the structure such that that $T_i=1 \\rightarrow Y_i(1) \\geq Y_i(0)$ and\n",
        "$T_i=0 \\rightarrow Y_i(1) < Y_i(0)$. So for the first and third rosw of cases of $Y$, corresponding to $T=0$, I increased the probability of $Y=1$ compared to $Y=0$. Moreoever, in second and fourth rows of cases of $Y$, I increased the probability of $Y=0$ compared to $Y=1$."
      ],
      "metadata": {
        "id": "allFeTVkI3N6"
      }
    },
    {
      "cell_type": "markdown",
      "metadata": {
        "id": "KDHRoxa9s3c-"
      },
      "source": [
        "Your solution"
      ]
    },
    {
      "cell_type": "code",
      "metadata": {
        "id": "nzy2oGUZyPI_"
      },
      "source": [
        "df_disc_2 = fd_disc.sample(n_samples=100000)"
      ],
      "execution_count": 66,
      "outputs": []
    },
    {
      "cell_type": "code",
      "source": [
        "OTS_bound(df_disc_1, a, b, pi, E_Y_cond_T_0, E_Y_cond_T_1, calc=True)"
      ],
      "metadata": {
        "colab": {
          "base_uri": "https://localhost:8080/"
        },
        "id": "HBLh5dQVybw1",
        "outputId": "e3309823-30de-464d-c808-2cf0e515c380"
      },
      "execution_count": 67,
      "outputs": [
        {
          "output_type": "stream",
          "name": "stdout",
          "text": [
            "ATE avg:  0.2583094053280305\n",
            "upper bound: 0.32842000000000005\n",
            "lower bound:  -0.20095\n"
          ]
        },
        {
          "output_type": "execute_result",
          "data": {
            "text/plain": [
              "(True, True)"
            ]
          },
          "metadata": {},
          "execution_count": 67
        }
      ]
    },
    {
      "cell_type": "code",
      "source": [
        "OTS_bound_2(df_disc_1, a, b, pi, E_Y_cond_T_0, E_Y_cond_T_1, calc=True)"
      ],
      "metadata": {
        "colab": {
          "base_uri": "https://localhost:8080/"
        },
        "id": "Nq1qAKLoy8W7",
        "outputId": "fa15c94a-52c9-4764-afd6-caa9c272691e"
      },
      "execution_count": 68,
      "outputs": [
        {
          "output_type": "stream",
          "name": "stdout",
          "text": [
            "ATE avg:  0.2583094053280305\n",
            "upper bound: 0.45798541461848685\n",
            "lower bound:  -0.07220600929045629\n"
          ]
        },
        {
          "output_type": "execute_result",
          "data": {
            "text/plain": [
              "(True, True)"
            ]
          },
          "metadata": {},
          "execution_count": 68
        }
      ]
    },
    {
      "cell_type": "code",
      "source": [
        "OTS_bound(df_disc_2, a, b, pi, E_Y_cond_T_0, E_Y_cond_T_1, calc=True)"
      ],
      "metadata": {
        "id": "Rmw97iWAPfV2",
        "colab": {
          "base_uri": "https://localhost:8080/"
        },
        "outputId": "8c526d08-ed09-4f5f-9fa8-00f12e76d675"
      },
      "execution_count": 69,
      "outputs": [
        {
          "output_type": "stream",
          "name": "stdout",
          "text": [
            "ATE avg:  0.7996208984650921\n",
            "upper bound: 0.44980999999999993\n",
            "lower bound:  -0.05041\n"
          ]
        },
        {
          "output_type": "execute_result",
          "data": {
            "text/plain": [
              "(False, True)"
            ]
          },
          "metadata": {},
          "execution_count": 69
        }
      ]
    },
    {
      "cell_type": "code",
      "source": [
        "OTS_bound_2(df_disc_2, a, b, pi, E_Y_cond_T_0, E_Y_cond_T_1, calc=True)"
      ],
      "metadata": {
        "colab": {
          "base_uri": "https://localhost:8080/"
        },
        "id": "TlF5x9mHplmX",
        "outputId": "1b079615-c099-40b1-d0de-28eadf85c2d3"
      },
      "execution_count": 70,
      "outputs": [
        {
          "output_type": "stream",
          "name": "stdout",
          "text": [
            "ATE avg:  0.7996208984650921\n",
            "upper bound: 0.8499482938009167\n",
            "lower bound:  0.34907260466417533\n"
          ]
        },
        {
          "output_type": "execute_result",
          "data": {
            "text/plain": [
              "(True, True)"
            ]
          },
          "metadata": {},
          "execution_count": 70
        }
      ]
    },
    {
      "cell_type": "markdown",
      "source": [
        "As we can see, after the modifications, the `OTS_bound_2` yields a positive range of bound, so using it we can determine the sign of ATE. But before modification, the lower bound of `OTS_bound_2` was negative.\n",
        "\n"
      ],
      "metadata": {
        "id": "72i39b9A0nQr"
      }
    }
  ]
}