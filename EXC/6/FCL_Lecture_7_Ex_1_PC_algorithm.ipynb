{
  "nbformat": 4,
  "nbformat_minor": 0,
  "metadata": {
    "colab": {
      "provenance": [],
      "toc_visible": true
    },
    "kernelspec": {
      "display_name": "Python 3",
      "name": "python3"
    }
  },
  "cells": [
    {
      "cell_type": "markdown",
      "metadata": {
        "id": "NnMWpPBxELK2"
      },
      "source": [
        "Loading libraries"
      ]
    },
    {
      "cell_type": "code",
      "metadata": {
        "colab": {
          "base_uri": "https://localhost:8080/"
        },
        "id": "trm8jym3FJXI",
        "outputId": "79f30f0a-afb3-460a-d410-1e999ff18e99"
      },
      "source": [
        "pip install causalgraphicalmodels"
      ],
      "execution_count": null,
      "outputs": [
        {
          "output_type": "stream",
          "name": "stdout",
          "text": [
            "Looking in indexes: https://pypi.org/simple, https://us-python.pkg.dev/colab-wheels/public/simple/\n",
            "Collecting causalgraphicalmodels\n",
            "  Using cached causalgraphicalmodels-0.0.4-py3-none-any.whl (11 kB)\n",
            "Requirement already satisfied: graphviz in /usr/local/lib/python3.7/dist-packages (from causalgraphicalmodels) (0.10.1)\n",
            "Requirement already satisfied: pandas in /usr/local/lib/python3.7/dist-packages (from causalgraphicalmodels) (1.3.5)\n",
            "Requirement already satisfied: numpy in /usr/local/lib/python3.7/dist-packages (from causalgraphicalmodels) (1.21.6)\n",
            "Requirement already satisfied: networkx in /usr/local/lib/python3.7/dist-packages (from causalgraphicalmodels) (2.6.3)\n",
            "Requirement already satisfied: python-dateutil>=2.7.3 in /usr/local/lib/python3.7/dist-packages (from pandas->causalgraphicalmodels) (2.8.2)\n",
            "Requirement already satisfied: pytz>=2017.3 in /usr/local/lib/python3.7/dist-packages (from pandas->causalgraphicalmodels) (2022.4)\n",
            "Requirement already satisfied: six>=1.5 in /usr/local/lib/python3.7/dist-packages (from python-dateutil>=2.7.3->pandas->causalgraphicalmodels) (1.15.0)\n",
            "Installing collected packages: causalgraphicalmodels\n",
            "Successfully installed causalgraphicalmodels-0.0.4\n"
          ]
        }
      ]
    },
    {
      "cell_type": "code",
      "source": [
        "!pip install ipython-autotime"
      ],
      "metadata": {
        "colab": {
          "base_uri": "https://localhost:8080/"
        },
        "id": "8YwD_yQ4EnSD",
        "outputId": "740743ea-0223-4a10-b8f6-e45a7cbc57ac"
      },
      "execution_count": null,
      "outputs": [
        {
          "output_type": "stream",
          "name": "stdout",
          "text": [
            "Looking in indexes: https://pypi.org/simple, https://us-python.pkg.dev/colab-wheels/public/simple/\n",
            "Requirement already satisfied: ipython-autotime in /usr/local/lib/python3.7/dist-packages (0.3.1)\n",
            "Requirement already satisfied: ipython in /usr/local/lib/python3.7/dist-packages (from ipython-autotime) (7.9.0)\n",
            "Requirement already satisfied: backcall in /usr/local/lib/python3.7/dist-packages (from ipython->ipython-autotime) (0.2.0)\n",
            "Requirement already satisfied: pexpect in /usr/local/lib/python3.7/dist-packages (from ipython->ipython-autotime) (4.8.0)\n",
            "Requirement already satisfied: decorator in /usr/local/lib/python3.7/dist-packages (from ipython->ipython-autotime) (4.4.2)\n",
            "Requirement already satisfied: pygments in /usr/local/lib/python3.7/dist-packages (from ipython->ipython-autotime) (2.6.1)\n",
            "Requirement already satisfied: pickleshare in /usr/local/lib/python3.7/dist-packages (from ipython->ipython-autotime) (0.7.5)\n",
            "Requirement already satisfied: setuptools>=18.5 in /usr/local/lib/python3.7/dist-packages (from ipython->ipython-autotime) (57.4.0)\n",
            "Requirement already satisfied: prompt-toolkit<2.1.0,>=2.0.0 in /usr/local/lib/python3.7/dist-packages (from ipython->ipython-autotime) (2.0.10)\n",
            "Requirement already satisfied: traitlets>=4.2 in /usr/local/lib/python3.7/dist-packages (from ipython->ipython-autotime) (5.1.1)\n",
            "Requirement already satisfied: jedi>=0.10 in /usr/local/lib/python3.7/dist-packages (from ipython->ipython-autotime) (0.18.1)\n",
            "Requirement already satisfied: parso<0.9.0,>=0.8.0 in /usr/local/lib/python3.7/dist-packages (from jedi>=0.10->ipython->ipython-autotime) (0.8.3)\n",
            "Requirement already satisfied: six>=1.9.0 in /usr/local/lib/python3.7/dist-packages (from prompt-toolkit<2.1.0,>=2.0.0->ipython->ipython-autotime) (1.15.0)\n",
            "Requirement already satisfied: wcwidth in /usr/local/lib/python3.7/dist-packages (from prompt-toolkit<2.1.0,>=2.0.0->ipython->ipython-autotime) (0.2.5)\n",
            "Requirement already satisfied: ptyprocess>=0.5 in /usr/local/lib/python3.7/dist-packages (from pexpect->ipython->ipython-autotime) (0.7.0)\n"
          ]
        }
      ]
    },
    {
      "cell_type": "code",
      "metadata": {
        "id": "_gsreLGhEBlT"
      },
      "source": [
        "import numpy as np\n",
        "import matplotlib.pyplot as plt\n",
        "from matplotlib.pyplot import figure\n",
        "\n",
        "from causalgraphicalmodels import StructuralCausalModel\n",
        "from causalgraphicalmodels.csm import discrete_model, linear_model\n",
        "\n",
        "import networkx as nx\n",
        "import itertools"
      ],
      "execution_count": null,
      "outputs": []
    },
    {
      "cell_type": "markdown",
      "metadata": {
        "id": "gjUtFFb-0QES"
      },
      "source": [
        "Functions for independence testing"
      ]
    },
    {
      "cell_type": "code",
      "metadata": {
        "id": "AtvvvlRa0Sp8"
      },
      "source": [
        "def is_indep(arr_1, arr_2, threshold=0.01, verbose=False):\n",
        "    diff = arr_1.mean() * arr_2.mean() - (arr_1 * arr_2).mean()\n",
        "    if verbose:\n",
        "        print(diff)\n",
        "    return abs(diff) < threshold\n",
        "\n",
        "def is_cond_independent(data_df, var_1, var_2, cond_set):\n",
        "    # create a copy with different combinations of values in cond_set\n",
        "    data_df_tmp = data_df.copy()\n",
        "    tmp_arr = data_df_tmp[cond_set[0]].astype(str).values\n",
        "    for el in cond_set[1:]:\n",
        "        tmp_arr += ' ' + data_df_tmp[el].astype(str)\n",
        "    data_df_tmp['cond'] = tmp_arr\n",
        "\n",
        "    # get unique combinations of values in cond_set\n",
        "    cond_vals = data_df_tmp['cond'].unique()\n",
        "\n",
        "    # for every possible combination check if we have independence\n",
        "    for cond_val in cond_vals:\n",
        "        tmp_df = data_df_tmp[data_df_tmp['cond'] == cond_vals[0]]\n",
        "        if not is_indep(tmp_df[var_1].values, tmp_df[var_2].values):\n",
        "            return False\n",
        "    return True"
      ],
      "execution_count": null,
      "outputs": []
    },
    {
      "cell_type": "markdown",
      "metadata": {
        "id": "JB2TvIFCFRTS"
      },
      "source": [
        "# Generating data"
      ]
    },
    {
      "cell_type": "markdown",
      "metadata": {
        "id": "gg34PPguFfoH"
      },
      "source": [
        "For data generation we will be using python package [`causalgraphicalmodels`](https://github.com/ijmbarr/causalgraphicalmodels)"
      ]
    },
    {
      "cell_type": "code",
      "metadata": {
        "colab": {
          "base_uri": "https://localhost:8080/",
          "height": 272
        },
        "id": "QET6FW8OgCvv",
        "outputId": "5c707726-4b8f-4879-dba7-a54598c6b34a"
      },
      "source": [
        "fd0 = StructuralCausalModel({\n",
        "    \"x\": lambda n_samples: np.random.binomial(n=1, p=0.5, size=n_samples),\n",
        "    \"y\": lambda n_samples: np.random.binomial(n=1, p=0.5, size=n_samples),\n",
        "    \"z\": discrete_model([\"x\", \"y\"], {\n",
        "        (0,0): (0.1,0.9,), \n",
        "        (0,1): (0.3,0.7,),\n",
        "        (1,0): (0.8,0.2,),\n",
        "        (1,1): (0.9,0.1,),\n",
        "        }),\n",
        "    \"w\": discrete_model([\"z\"],{\n",
        "        (0,): (0.8,0.2,),\n",
        "        (1,): (0.1,0.9,), \n",
        "    })\n",
        "})\n",
        "\n",
        "fd0.cgm.draw()"
      ],
      "execution_count": null,
      "outputs": [
        {
          "output_type": "execute_result",
          "data": {
            "text/plain": [
              "<graphviz.dot.Digraph at 0x7f0829328a10>"
            ],
            "image/svg+xml": "<?xml version=\"1.0\" encoding=\"UTF-8\" standalone=\"no\"?>\n<!DOCTYPE svg PUBLIC \"-//W3C//DTD SVG 1.1//EN\"\n \"http://www.w3.org/Graphics/SVG/1.1/DTD/svg11.dtd\">\n<!-- Generated by graphviz version 2.40.1 (20161225.0304)\n -->\n<!-- Title: %3 Pages: 1 -->\n<svg width=\"134pt\" height=\"188pt\"\n viewBox=\"0.00 0.00 134.00 188.00\" xmlns=\"http://www.w3.org/2000/svg\" xmlns:xlink=\"http://www.w3.org/1999/xlink\">\n<g id=\"graph0\" class=\"graph\" transform=\"scale(1 1) rotate(0) translate(4 184)\">\n<title>%3</title>\n<polygon fill=\"#ffffff\" stroke=\"transparent\" points=\"-4,4 -4,-184 130,-184 130,4 -4,4\"/>\n<!-- w -->\n<g id=\"node1\" class=\"node\">\n<title>w</title>\n<ellipse fill=\"none\" stroke=\"#000000\" cx=\"63\" cy=\"-18\" rx=\"27\" ry=\"18\"/>\n<text text-anchor=\"middle\" x=\"63\" y=\"-14.3\" font-family=\"Times,serif\" font-size=\"14.00\" fill=\"#000000\">w</text>\n</g>\n<!-- z -->\n<g id=\"node2\" class=\"node\">\n<title>z</title>\n<ellipse fill=\"none\" stroke=\"#000000\" cx=\"63\" cy=\"-90\" rx=\"27\" ry=\"18\"/>\n<text text-anchor=\"middle\" x=\"63\" y=\"-86.3\" font-family=\"Times,serif\" font-size=\"14.00\" fill=\"#000000\">z</text>\n</g>\n<!-- z&#45;&gt;w -->\n<g id=\"edge3\" class=\"edge\">\n<title>z&#45;&gt;w</title>\n<path fill=\"none\" stroke=\"#000000\" d=\"M63,-71.8314C63,-64.131 63,-54.9743 63,-46.4166\"/>\n<polygon fill=\"#000000\" stroke=\"#000000\" points=\"66.5001,-46.4132 63,-36.4133 59.5001,-46.4133 66.5001,-46.4132\"/>\n</g>\n<!-- y -->\n<g id=\"node3\" class=\"node\">\n<title>y</title>\n<ellipse fill=\"none\" stroke=\"#000000\" cx=\"27\" cy=\"-162\" rx=\"27\" ry=\"18\"/>\n<text text-anchor=\"middle\" x=\"27\" y=\"-158.3\" font-family=\"Times,serif\" font-size=\"14.00\" fill=\"#000000\">y</text>\n</g>\n<!-- y&#45;&gt;z -->\n<g id=\"edge2\" class=\"edge\">\n<title>y&#45;&gt;z</title>\n<path fill=\"none\" stroke=\"#000000\" d=\"M35.7146,-144.5708C39.9597,-136.0807 45.1536,-125.6929 49.8663,-116.2674\"/>\n<polygon fill=\"#000000\" stroke=\"#000000\" points=\"53.024,-117.7782 54.3657,-107.2687 46.763,-114.6477 53.024,-117.7782\"/>\n</g>\n<!-- x -->\n<g id=\"node4\" class=\"node\">\n<title>x</title>\n<ellipse fill=\"none\" stroke=\"#000000\" cx=\"99\" cy=\"-162\" rx=\"27\" ry=\"18\"/>\n<text text-anchor=\"middle\" x=\"99\" y=\"-158.3\" font-family=\"Times,serif\" font-size=\"14.00\" fill=\"#000000\">x</text>\n</g>\n<!-- x&#45;&gt;z -->\n<g id=\"edge1\" class=\"edge\">\n<title>x&#45;&gt;z</title>\n<path fill=\"none\" stroke=\"#000000\" d=\"M90.2854,-144.5708C86.0403,-136.0807 80.8464,-125.6929 76.1337,-116.2674\"/>\n<polygon fill=\"#000000\" stroke=\"#000000\" points=\"79.237,-114.6477 71.6343,-107.2687 72.976,-117.7782 79.237,-114.6477\"/>\n</g>\n</g>\n</svg>\n"
          },
          "metadata": {},
          "execution_count": 5
        }
      ]
    },
    {
      "cell_type": "markdown",
      "metadata": {
        "id": "H32oyZm9FsWY"
      },
      "source": [
        "Now we can sample data from the generated model"
      ]
    },
    {
      "cell_type": "code",
      "metadata": {
        "id": "wqjiNFuGFD8s"
      },
      "source": [
        "n_samples=1000000\n",
        "# n_samples=1000\n",
        "data_df = fd0.sample(n_samples=n_samples)"
      ],
      "execution_count": null,
      "outputs": []
    },
    {
      "cell_type": "markdown",
      "metadata": {
        "id": "DtfgM_AzMcv4"
      },
      "source": [
        "# Step 1. Fully connected graph"
      ]
    },
    {
      "cell_type": "code",
      "metadata": {
        "id": "eiIa4E4kPA1r"
      },
      "source": [
        "all_nodes = ['x', 'y', 'z', 'w']\n",
        "nodes_pos = {'x': (1, 5), 'y': (5, 5), 'z': (1, 1), 'w': (5, 1)}"
      ],
      "execution_count": null,
      "outputs": []
    },
    {
      "cell_type": "code",
      "metadata": {
        "colab": {
          "base_uri": "https://localhost:8080/",
          "height": 247
        },
        "id": "Wjah20FgOFjX",
        "outputId": "410698e3-9c65-43cb-c064-abd6d8daec12"
      },
      "source": [
        "G = nx.Graph()\n",
        "G.add_nodes_from(all_nodes)\n",
        "#G.add_nodes_from(tuple(zip(all_nodes, nodes_pos)))\n",
        "\n",
        "for i in range(0, len(all_nodes)):\n",
        "    node_1 = all_nodes[i]\n",
        "    for j in range(i+1, len(all_nodes)):\n",
        "        node_2 = all_nodes[j]\n",
        "        G.add_edge(node_1, node_2)\n",
        "\n",
        "plt.figure(figsize=(5, 3))\n",
        "nx.draw(G, pos=nodes_pos, with_labels=True, font_weight='bold')"
      ],
      "execution_count": null,
      "outputs": [
        {
          "output_type": "display_data",
          "data": {
            "text/plain": [
              "<Figure size 360x216 with 1 Axes>"
            ],
            "image/png": "[encoded data removed]"
          },
          "metadata": {}
        }
      ]
    },
    {
      "cell_type": "markdown",
      "metadata": {
        "id": "KQcBC_-0K47-"
      },
      "source": [
        "# Step 2. Test unconditional independence"
      ]
    },
    {
      "cell_type": "code",
      "metadata": {
        "colab": {
          "base_uri": "https://localhost:8080/"
        },
        "id": "h8EFiX8-JpXI",
        "outputId": "4c4599b2-cad3-40bc-d8c2-9cf98246a92c"
      },
      "source": [
        "for i in range(0, len(all_nodes)):\n",
        "    var_1 = all_nodes[i]\n",
        "    for j in range(i + 1, len(all_nodes)):\n",
        "        var_2 = all_nodes[j]\n",
        "        # testStat, thresh = hsic_gam(data_df[var_1].values.reshape(-1, 1), data_df[var_2].values.reshape(-1, 1), alph=alph)\n",
        "        # print(testStat, thresh)\n",
        "        print(\"{} and {} are independent: {}\".format(var_1, var_2, \n",
        "                                                     is_indep(data_df[var_1].values, data_df[var_2].values)))"
      ],
      "execution_count": null,
      "outputs": [
        {
          "output_type": "stream",
          "name": "stdout",
          "text": [
            "x and y are independent: True\n",
            "x and z are independent: False\n",
            "x and w are independent: False\n",
            "y and z are independent: False\n",
            "y and w are independent: False\n",
            "z and w are independent: False\n"
          ]
        }
      ]
    },
    {
      "cell_type": "markdown",
      "metadata": {
        "id": "z_FeQ0mSnD_T"
      },
      "source": [
        "Removing edge between $X$ and $Y$"
      ]
    },
    {
      "cell_type": "code",
      "metadata": {
        "colab": {
          "base_uri": "https://localhost:8080/",
          "height": 247
        },
        "id": "YtEfxxhmJpUC",
        "outputId": "72ccaaea-98ba-4385-962c-5ad0b32e857e"
      },
      "source": [
        "G.remove_edge('x', 'y')\n",
        "plt.figure(figsize=(5, 3))\n",
        "nx.draw(G, pos=nodes_pos, with_labels=True, font_weight='bold')"
      ],
      "execution_count": null,
      "outputs": [
        {
          "output_type": "display_data",
          "data": {
            "text/plain": [
              "<Figure size 360x216 with 1 Axes>"
            ],
            "image/png": "[encoded data removed]"
          },
          "metadata": {}
        }
      ]
    },
    {
      "cell_type": "markdown",
      "metadata": {
        "id": "QvKg70whTNxV"
      },
      "source": [
        "# Step 3. Condition on 1 variable\n",
        "For each pair of variables ($A$, $B$) having an edge between them, and for each variable $C$ with an edge connected to either of them, eliminate the edge between $A$ and $B$ if $\\left(A ⊥⊥ B\\right) | C$ "
      ]
    },
    {
      "cell_type": "code",
      "metadata": {
        "id": "0e9T6U1eJpRb"
      },
      "source": [
        "combinations = [\n",
        "                ('x', 'z', 'w'), ('x', 'z', 'y'), \n",
        "                ('y', 'w', 'z'), ('y', 'w', 'x'),\n",
        "                ('z', 'w', 'x'), ('z', 'w', 'y'),\n",
        "                ('x', 'w', 'z'), ('x', 'w', 'y'),\n",
        "                ('y', 'z', 'x'), ('y', 'z', 'w'),\n",
        "                ]"
      ],
      "execution_count": null,
      "outputs": []
    },
    {
      "cell_type": "code",
      "metadata": {
        "colab": {
          "base_uri": "https://localhost:8080/"
        },
        "id": "v2LFd-7UUv3A",
        "outputId": "9ff3c5a0-a933-4242-e874-df3b68656556"
      },
      "source": [
        "for var_1, var_2, cond_var in combinations:\n",
        "    print('{} and {} are independent given {} = {}'.format(\n",
        "        var_1, var_2, cond_var, is_cond_independent(data_df, var_1, var_2, [cond_var])\n",
        "    ))"
      ],
      "execution_count": null,
      "outputs": [
        {
          "output_type": "stream",
          "name": "stdout",
          "text": [
            "x and z are independent given w = False\n",
            "x and z are independent given y = False\n",
            "y and w are independent given z = True\n",
            "y and w are independent given x = False\n",
            "z and w are independent given x = False\n",
            "z and w are independent given y = False\n",
            "x and w are independent given z = True\n",
            "x and w are independent given y = False\n",
            "y and z are independent given x = False\n",
            "y and z are independent given w = False\n"
          ]
        }
      ]
    },
    {
      "cell_type": "markdown",
      "metadata": {
        "id": "NpVqPv3MqL7J"
      },
      "source": [
        "Removing edges between $Y$ and $W$ and between $X$ and $W$"
      ]
    },
    {
      "cell_type": "code",
      "metadata": {
        "colab": {
          "base_uri": "https://localhost:8080/",
          "height": 247
        },
        "id": "jOI-p4eZqhJ_",
        "outputId": "24a06e34-d534-460c-a777-680d3530e87c"
      },
      "source": [
        "G.remove_edge('y', 'w')\n",
        "G.remove_edge('x', 'w')\n",
        "plt.figure(figsize=(5, 3))\n",
        "nx.draw(G, pos=nodes_pos, with_labels=True, font_weight='bold')"
      ],
      "execution_count": null,
      "outputs": [
        {
          "output_type": "display_data",
          "data": {
            "text/plain": [
              "<Figure size 360x216 with 1 Axes>"
            ],
            "image/png": "[encoded data removed]"
          },
          "metadata": {}
        }
      ]
    },
    {
      "cell_type": "markdown",
      "metadata": {
        "id": "bFIBkPY8thgg"
      },
      "source": [
        "# Step 4. ..."
      ]
    },
    {
      "cell_type": "markdown",
      "metadata": {
        "id": "TcrQpv3rtldP"
      },
      "source": [
        "# Step 5. Search for v-structure"
      ]
    },
    {
      "cell_type": "markdown",
      "metadata": {
        "id": "wdVQbZ8Qt07O"
      },
      "source": [
        "Consider 3 cases:\n",
        "1. $W - Z - Y$\n",
        "2. $W - Z - X$\n",
        "3. $X - Z - Y$\n",
        "\n",
        "3-d case can be oriented as $X -> Z <- Y$"
      ]
    },
    {
      "cell_type": "code",
      "metadata": {
        "colab": {
          "base_uri": "https://localhost:8080/",
          "height": 264
        },
        "id": "9CHf5wRsqhAL",
        "outputId": "ecae01e2-e24f-4c82-e06b-067e412f2afe"
      },
      "source": [
        "plt.figure(figsize=(5, 3))\n",
        "nx.draw(G, pos=nodes_pos, with_labels=True, font_weight='bold')\n",
        "\n",
        "plt.arrow(1, 5, 0, -3.65, width=0.05)       # X - > Z\n",
        "plt.arrow(5, 5, -3.75, -3.75, width=0.05)   # Y - > Z"
      ],
      "execution_count": null,
      "outputs": [
        {
          "output_type": "execute_result",
          "data": {
            "text/plain": [
              "<matplotlib.patches.FancyArrow at 0x7f0824643990>"
            ]
          },
          "metadata": {},
          "execution_count": 14
        },
        {
          "output_type": "display_data",
          "data": {
            "text/plain": [
              "<Figure size 360x216 with 1 Axes>"
            ],
            "image/png": "[encoded data removed]"
          },
          "metadata": {}
        }
      ]
    },
    {
      "cell_type": "markdown",
      "metadata": {
        "id": "bDfRxn0MzTwb"
      },
      "source": [
        "# Step 6. Orientation propagation"
      ]
    },
    {
      "cell_type": "code",
      "metadata": {
        "colab": {
          "base_uri": "https://localhost:8080/",
          "height": 264
        },
        "id": "qLyujnYPdfGX",
        "outputId": "24665cd8-55fa-47b7-8b31-9eaedb3230db"
      },
      "source": [
        "plt.figure(figsize=(5, 3))\n",
        "nx.draw(G, pos=nodes_pos, with_labels=True, font_weight='bold')\n",
        "\n",
        "plt.arrow(1, 5, 0, -3.65, width=0.05)       # X - > Z\n",
        "plt.arrow(5, 5, -3.75, -3.75, width=0.05)   # Y - > Z\n",
        "plt.arrow(1, 1, 3.7, 0, width=0.05)   # Z - > W"
      ],
      "execution_count": null,
      "outputs": [
        {
          "output_type": "execute_result",
          "data": {
            "text/plain": [
              "<matplotlib.patches.FancyArrow at 0x7f08228cc450>"
            ]
          },
          "metadata": {},
          "execution_count": 15
        },
        {
          "output_type": "display_data",
          "data": {
            "text/plain": [
              "<Figure size 360x216 with 1 Axes>"
            ],
            "image/png": "[encoded data removed]"
          },
          "metadata": {}
        }
      ]
    },
    {
      "cell_type": "markdown",
      "metadata": {
        "id": "1jfUWUokcaED"
      },
      "source": [
        "# Excercise 1:\n",
        "\n",
        "Simulate PC algorithm for the following graph (as in the example above)"
      ]
    },
    {
      "cell_type": "code",
      "metadata": {
        "id": "g-vYEkFJzhll",
        "colab": {
          "base_uri": "https://localhost:8080/",
          "height": 464
        },
        "outputId": "54afed1c-99c5-4065-bb03-3e1942aae9e5"
      },
      "source": [
        "fd0 = StructuralCausalModel({\n",
        "    \"A\": lambda n_samples: np.random.binomial(n=1, p=0.5, size=n_samples),\n",
        "    \"F\": lambda n_samples: np.random.binomial(n=1, p=0.4, size=n_samples),\n",
        "    \"E\": discrete_model([\"A\"],{\n",
        "        (0,): (0.6,0.4,),\n",
        "        (1,): (0.1,0.9,), \n",
        "    }),\n",
        "    \"G\": discrete_model([\"F\"],{\n",
        "        (0,): (0.1,0.9,),\n",
        "        (1,): (0.8,0.2,), \n",
        "    }),\n",
        "    \"B\": discrete_model([\"F\"],{\n",
        "        (0,): (0.3,0.7,),\n",
        "        (1,): (0.6,0.4,), \n",
        "    }),\n",
        "    \"C\": discrete_model([\"A\", \"B\"], {\n",
        "        (0,0): (0.1,0.9,), \n",
        "        (0,1): (0.3,0.7,),\n",
        "        (1,0): (0.8,0.2,),\n",
        "        (1,1): (0.4,0.6,),\n",
        "        }),\n",
        "    \"D\": discrete_model([\"C\"],{\n",
        "        (0,): (0.1,0.9,),\n",
        "        (1,): (0.9,0.1,), \n",
        "    }),\n",
        "    \"H\": discrete_model([\"D\"],{\n",
        "        (0,): (0.6,0.4,), \n",
        "        (1,): (0.9,0.1,),\n",
        "    })\n",
        "})\n",
        "\n",
        "fd0.cgm.draw()"
      ],
      "execution_count": null,
      "outputs": [
        {
          "output_type": "execute_result",
          "data": {
            "text/plain": [
              "<graphviz.dot.Digraph at 0x7f082655d510>"
            ],
            "image/svg+xml": "<?xml version=\"1.0\" encoding=\"UTF-8\" standalone=\"no\"?>\n<!DOCTYPE svg PUBLIC \"-//W3C//DTD SVG 1.1//EN\"\n \"http://www.w3.org/Graphics/SVG/1.1/DTD/svg11.dtd\">\n<!-- Generated by graphviz version 2.40.1 (20161225.0304)\n -->\n<!-- Title: %3 Pages: 1 -->\n<svg width=\"206pt\" height=\"332pt\"\n viewBox=\"0.00 0.00 206.00 332.00\" xmlns=\"http://www.w3.org/2000/svg\" xmlns:xlink=\"http://www.w3.org/1999/xlink\">\n<g id=\"graph0\" class=\"graph\" transform=\"scale(1 1) rotate(0) translate(4 328)\">\n<title>%3</title>\n<polygon fill=\"#ffffff\" stroke=\"transparent\" points=\"-4,4 -4,-328 202,-328 202,4 -4,4\"/>\n<!-- G -->\n<g id=\"node1\" class=\"node\">\n<title>G</title>\n<ellipse fill=\"none\" stroke=\"#000000\" cx=\"27\" cy=\"-234\" rx=\"27\" ry=\"18\"/>\n<text text-anchor=\"middle\" x=\"27\" y=\"-230.3\" font-family=\"Times,serif\" font-size=\"14.00\" fill=\"#000000\">G</text>\n</g>\n<!-- D -->\n<g id=\"node2\" class=\"node\">\n<title>D</title>\n<ellipse fill=\"none\" stroke=\"#000000\" cx=\"99\" cy=\"-90\" rx=\"27\" ry=\"18\"/>\n<text text-anchor=\"middle\" x=\"99\" y=\"-86.3\" font-family=\"Times,serif\" font-size=\"14.00\" fill=\"#000000\">D</text>\n</g>\n<!-- H -->\n<g id=\"node3\" class=\"node\">\n<title>H</title>\n<ellipse fill=\"none\" stroke=\"#000000\" cx=\"99\" cy=\"-18\" rx=\"27\" ry=\"18\"/>\n<text text-anchor=\"middle\" x=\"99\" y=\"-14.3\" font-family=\"Times,serif\" font-size=\"14.00\" fill=\"#000000\">H</text>\n</g>\n<!-- D&#45;&gt;H -->\n<g id=\"edge7\" class=\"edge\">\n<title>D&#45;&gt;H</title>\n<path fill=\"none\" stroke=\"#000000\" d=\"M99,-71.8314C99,-64.131 99,-54.9743 99,-46.4166\"/>\n<polygon fill=\"#000000\" stroke=\"#000000\" points=\"102.5001,-46.4132 99,-36.4133 95.5001,-46.4133 102.5001,-46.4132\"/>\n</g>\n<!-- F -->\n<g id=\"node4\" class=\"node\">\n<title>F</title>\n<ellipse fill=\"none\" stroke=\"#000000\" cx=\"63\" cy=\"-306\" rx=\"27\" ry=\"18\"/>\n<text text-anchor=\"middle\" x=\"63\" y=\"-302.3\" font-family=\"Times,serif\" font-size=\"14.00\" fill=\"#000000\">F</text>\n</g>\n<!-- F&#45;&gt;G -->\n<g id=\"edge3\" class=\"edge\">\n<title>F&#45;&gt;G</title>\n<path fill=\"none\" stroke=\"#000000\" d=\"M54.2854,-288.5708C50.0403,-280.0807 44.8464,-269.6929 40.1337,-260.2674\"/>\n<polygon fill=\"#000000\" stroke=\"#000000\" points=\"43.237,-258.6477 35.6343,-251.2687 36.976,-261.7782 43.237,-258.6477\"/>\n</g>\n<!-- B -->\n<g id=\"node7\" class=\"node\">\n<title>B</title>\n<ellipse fill=\"none\" stroke=\"#000000\" cx=\"99\" cy=\"-234\" rx=\"27\" ry=\"18\"/>\n<text text-anchor=\"middle\" x=\"99\" y=\"-230.3\" font-family=\"Times,serif\" font-size=\"14.00\" fill=\"#000000\">B</text>\n</g>\n<!-- F&#45;&gt;B -->\n<g id=\"edge4\" class=\"edge\">\n<title>F&#45;&gt;B</title>\n<path fill=\"none\" stroke=\"#000000\" d=\"M71.7146,-288.5708C75.9597,-280.0807 81.1536,-269.6929 85.8663,-260.2674\"/>\n<polygon fill=\"#000000\" stroke=\"#000000\" points=\"89.024,-261.7782 90.3657,-251.2687 82.763,-258.6477 89.024,-261.7782\"/>\n</g>\n<!-- A -->\n<g id=\"node5\" class=\"node\">\n<title>A</title>\n<ellipse fill=\"none\" stroke=\"#000000\" cx=\"171\" cy=\"-234\" rx=\"27\" ry=\"18\"/>\n<text text-anchor=\"middle\" x=\"171\" y=\"-230.3\" font-family=\"Times,serif\" font-size=\"14.00\" fill=\"#000000\">A</text>\n</g>\n<!-- C -->\n<g id=\"node6\" class=\"node\">\n<title>C</title>\n<ellipse fill=\"none\" stroke=\"#000000\" cx=\"99\" cy=\"-162\" rx=\"27\" ry=\"18\"/>\n<text text-anchor=\"middle\" x=\"99\" y=\"-158.3\" font-family=\"Times,serif\" font-size=\"14.00\" fill=\"#000000\">C</text>\n</g>\n<!-- A&#45;&gt;C -->\n<g id=\"edge2\" class=\"edge\">\n<title>A&#45;&gt;C</title>\n<path fill=\"none\" stroke=\"#000000\" d=\"M155.7307,-218.7307C145.803,-208.803 132.6847,-195.6847 121.5637,-184.5637\"/>\n<polygon fill=\"#000000\" stroke=\"#000000\" points=\"123.7933,-181.8436 114.2473,-177.2473 118.8436,-186.7933 123.7933,-181.8436\"/>\n</g>\n<!-- E -->\n<g id=\"node8\" class=\"node\">\n<title>E</title>\n<ellipse fill=\"none\" stroke=\"#000000\" cx=\"171\" cy=\"-162\" rx=\"27\" ry=\"18\"/>\n<text text-anchor=\"middle\" x=\"171\" y=\"-158.3\" font-family=\"Times,serif\" font-size=\"14.00\" fill=\"#000000\">E</text>\n</g>\n<!-- A&#45;&gt;E -->\n<g id=\"edge1\" class=\"edge\">\n<title>A&#45;&gt;E</title>\n<path fill=\"none\" stroke=\"#000000\" d=\"M171,-215.8314C171,-208.131 171,-198.9743 171,-190.4166\"/>\n<polygon fill=\"#000000\" stroke=\"#000000\" points=\"174.5001,-190.4132 171,-180.4133 167.5001,-190.4133 174.5001,-190.4132\"/>\n</g>\n<!-- C&#45;&gt;D -->\n<g id=\"edge6\" class=\"edge\">\n<title>C&#45;&gt;D</title>\n<path fill=\"none\" stroke=\"#000000\" d=\"M99,-143.8314C99,-136.131 99,-126.9743 99,-118.4166\"/>\n<polygon fill=\"#000000\" stroke=\"#000000\" points=\"102.5001,-118.4132 99,-108.4133 95.5001,-118.4133 102.5001,-118.4132\"/>\n</g>\n<!-- B&#45;&gt;C -->\n<g id=\"edge5\" class=\"edge\">\n<title>B&#45;&gt;C</title>\n<path fill=\"none\" stroke=\"#000000\" d=\"M99,-215.8314C99,-208.131 99,-198.9743 99,-190.4166\"/>\n<polygon fill=\"#000000\" stroke=\"#000000\" points=\"102.5001,-190.4132 99,-180.4133 95.5001,-190.4133 102.5001,-190.4132\"/>\n</g>\n</g>\n</svg>\n"
          },
          "metadata": {},
          "execution_count": 16
        }
      ]
    },
    {
      "cell_type": "code",
      "metadata": {
        "id": "8FgS4UIJdSFL"
      },
      "source": [
        "n_samples=1000000\n",
        "# n_samples=1000\n",
        "data_df = fd0.sample(n_samples=n_samples)"
      ],
      "execution_count": null,
      "outputs": []
    },
    {
      "cell_type": "markdown",
      "metadata": {
        "id": "MdeIzmCset1w"
      },
      "source": [
        "## Step 1. Fully connected graph"
      ]
    },
    {
      "cell_type": "code",
      "source": [
        "all_nodes = ['A', 'B', 'C', 'D', 'E', 'F', 'G', 'H']\n",
        "nodes_pos = {'A': (2,4), 'B': (4.5,4), 'C': (3,3.5), 'D': (2.5,2), 'E': (1,3), \n",
        "             'F': (5,5), 'G': (6,4), 'H': (3,1)}"
      ],
      "metadata": {
        "id": "RNFITWU9MXHX"
      },
      "execution_count": null,
      "outputs": []
    },
    {
      "cell_type": "code",
      "metadata": {
        "colab": {
          "base_uri": "https://localhost:8080/",
          "height": 391
        },
        "id": "xcVM5YBjdoaF",
        "outputId": "99e9879c-a75e-44ec-85df-62cd13d71ada"
      },
      "source": [
        "G = nx.Graph()\n",
        "G.add_nodes_from(all_nodes)\n",
        "#G.add_nodes_from(tuple(zip(all_nodes, nodes_pos)))\n",
        "\n",
        "for i in range(0, len(all_nodes)):\n",
        "    node_1 = all_nodes[i]\n",
        "    for j in range(i+1, len(all_nodes)):\n",
        "        node_2 = all_nodes[j]\n",
        "        G.add_edge(node_1, node_2)\n",
        "\n",
        "plt.figure(figsize=(5, 5))\n",
        "nx.draw(G, \n",
        "        pos=nodes_pos, \n",
        "        with_labels=True, font_weight='bold')"
      ],
      "execution_count": null,
      "outputs": [
        {
          "output_type": "display_data",
          "data": {
            "text/plain": [
              "<Figure size 360x360 with 1 Axes>"
            ],
            "image/png": "[encoded data removed]"
          },
          "metadata": {}
        }
      ]
    },
    {
      "cell_type": "markdown",
      "source": [
        "## Step 2. Test unconditional independence"
      ],
      "metadata": {
        "id": "WkryoUhFzlQI"
      }
    },
    {
      "cell_type": "code",
      "source": [
        "for i in range(0, len(all_nodes)):\n",
        "    var_1 = all_nodes[i]\n",
        "    for j in range(i + 1, len(all_nodes)):\n",
        "        var_2 = all_nodes[j]\n",
        "        # testStat, thresh = hsic_gam(data_df[var_1].values.reshape(-1, 1), data_df[var_2].values.reshape(-1, 1), alph=alph)\n",
        "        # print(testStat, thresh)\n",
        "        print(\"{} and {} are independent: {}\".format(var_1, var_2, \n",
        "                                                     is_indep(data_df[var_1].values, data_df[var_2].values)))"
      ],
      "metadata": {
        "colab": {
          "base_uri": "https://localhost:8080/"
        },
        "id": "Yn5wEaJ1ztZU",
        "outputId": "bd2cd887-f97e-4f4b-8e3b-dee8fd8a25aa"
      },
      "execution_count": null,
      "outputs": [
        {
          "output_type": "stream",
          "name": "stdout",
          "text": [
            "A and B are independent: True\n",
            "A and C are independent: False\n",
            "A and D are independent: False\n",
            "A and E are independent: False\n",
            "A and F are independent: True\n",
            "A and G are independent: True\n",
            "A and H are independent: False\n",
            "B and C are independent: False\n",
            "B and D are independent: False\n",
            "B and E are independent: True\n",
            "B and F are independent: False\n",
            "B and G are independent: False\n",
            "B and H are independent: True\n",
            "C and D are independent: False\n",
            "C and E are independent: False\n",
            "C and F are independent: True\n",
            "C and G are independent: True\n",
            "C and H are independent: False\n",
            "D and E are independent: False\n",
            "D and F are independent: True\n",
            "D and G are independent: True\n",
            "D and H are independent: False\n",
            "E and F are independent: True\n",
            "E and G are independent: True\n",
            "E and H are independent: False\n",
            "F and G are independent: False\n",
            "F and H are independent: True\n",
            "G and H are independent: True\n"
          ]
        }
      ]
    },
    {
      "cell_type": "markdown",
      "source": [
        "Store independent variables"
      ],
      "metadata": {
        "id": "DWy0RHbVMbnB"
      }
    },
    {
      "cell_type": "code",
      "source": [
        "indep_vars = []\n",
        "for i in range(0, len(all_nodes)):\n",
        "    var_1 = all_nodes[i]\n",
        "    for j in range(i + 1, len(all_nodes)):\n",
        "        var_2 = all_nodes[j]\n",
        "        # testStat, thresh = hsic_gam(data_df[var_1].values.reshape(-1, 1), data_df[var_2].values.reshape(-1, 1), alph=alph)\n",
        "        # print(testStat, thresh)\n",
        "        if is_indep(data_df[var_1].values, data_df[var_2].values) == True:\n",
        "          indep_vars.append((var_1, var_2))"
      ],
      "metadata": {
        "id": "mDsxhaI2BRgZ"
      },
      "execution_count": null,
      "outputs": []
    },
    {
      "cell_type": "code",
      "source": [
        "indep_vars = set(indep_vars)"
      ],
      "metadata": {
        "id": "gXNg53pfA8hn"
      },
      "execution_count": null,
      "outputs": []
    },
    {
      "cell_type": "code",
      "source": [],
      "metadata": {
        "id": "0GMWvwxTpeox"
      },
      "execution_count": null,
      "outputs": []
    },
    {
      "cell_type": "markdown",
      "source": [
        "\n",
        "\n",
        "```\n",
        "indep_vars = [('A', 'B'),\n",
        " ('A', 'F'),\n",
        " ('A', 'G'),\n",
        " ('B', 'E'),\n",
        " ('B', 'H'),\n",
        " ('C', 'F'),\n",
        " ('C', 'G'),\n",
        " ('D', 'F'),\n",
        " ('D', 'G'),\n",
        " ('E', 'F'),\n",
        " ('E', 'G'),\n",
        " ('F', 'H'),\n",
        " ('G', 'H')]\n",
        "```\n",
        "\n"
      ],
      "metadata": {
        "id": "78UP58NcgxSf"
      }
    },
    {
      "cell_type": "markdown",
      "source": [
        "Remove them from the graph"
      ],
      "metadata": {
        "id": "DsMh1hNyMeN7"
      }
    },
    {
      "cell_type": "code",
      "source": [
        "for pair in indep_vars:\n",
        "  G.remove_edge(pair[0], pair[1])\n",
        "plt.figure(figsize=(5, 3))\n",
        "nx.draw(G, pos=nodes_pos, with_labels=True, font_weight='bold')"
      ],
      "metadata": {
        "colab": {
          "base_uri": "https://localhost:8080/",
          "height": 247
        },
        "id": "f0aQmAq9zvyt",
        "outputId": "4522cc03-352c-4380-b98b-b232dd7eca1b"
      },
      "execution_count": null,
      "outputs": [
        {
          "output_type": "display_data",
          "data": {
            "text/plain": [
              "<Figure size 360x216 with 1 Axes>"
            ],
            "image/png": "[encoded data removed]"
          },
          "metadata": {}
        }
      ]
    },
    {
      "cell_type": "markdown",
      "source": [
        "## Step 3. Condition on 1 variable\n",
        "For each pair of variables ($A$, $B$) having an edge between them, and for each variable $C$ with an edge connected to either of them, eliminate the edge between $A$ and $B$ if $\\left(A ⊥⊥ B\\right) | C$ "
      ],
      "metadata": {
        "id": "xqcHPdk3z0EC"
      }
    },
    {
      "cell_type": "code",
      "source": [
        "all_nodes"
      ],
      "metadata": {
        "colab": {
          "base_uri": "https://localhost:8080/"
        },
        "id": "QUs_pFD9z2ZS",
        "outputId": "f8e2927f-824c-4c5e-8aac-dbc40fe5c0fb"
      },
      "execution_count": null,
      "outputs": [
        {
          "output_type": "execute_result",
          "data": {
            "text/plain": [
              "['A', 'B', 'C', 'D', 'E', 'F', 'G', 'H']"
            ]
          },
          "metadata": {},
          "execution_count": 24
        }
      ]
    },
    {
      "cell_type": "code",
      "source": [
        "# list all possible tuples with no repetition\n",
        "N = 3\n",
        "tuples = list(itertools.product(all_nodes, repeat = 3 ))\n",
        "tuples\n",
        "tuples_unique = []\n",
        "for tup in tuples:\n",
        "  if len(set(tup)) == 3:\n",
        "    tuples_unique.append(tup)"
      ],
      "metadata": {
        "id": "wtzpVeak733x"
      },
      "execution_count": null,
      "outputs": []
    },
    {
      "cell_type": "code",
      "source": [
        "combinations = [\n",
        "                ('E', 'A', 'D'), ('E', 'A', 'H'), ('E', 'A', 'C'),  \n",
        "                ('E', 'D', 'A'), ('E', 'D', 'C'), ('E', 'D', 'H'), ('E', 'D', 'B'), \n",
        "                ('E', 'H', 'A'), ('E', 'H', 'C'), ('E', 'H', 'D'),\n",
        "                ('E', 'C', 'A'), ('E', 'C', 'D'), ('E', 'C', 'H'), ('E', 'C', 'B'),\n",
        "                ('A', 'C', 'E'), ('A', 'C', 'D'), ('A', 'C', 'H'), ('A', 'C', 'B'),\n",
        "                ('A', 'D', 'E'), ('A', 'D', 'H'), ('A', 'D', 'B'), ('A', 'D', 'C'),\n",
        "                ('A', 'H', 'E'), ('A', 'H', 'C'), ('A', 'H', 'D'), \n",
        "                ('H', 'D', 'E'), ('H', 'D', 'A'), ('H', 'D', 'B'), ('H', 'D', 'C'),\n",
        "                ('H', 'C', 'E'), ('H', 'C', 'D'), ('H', 'C', 'A'), ('H', 'C', 'B'),\n",
        "                ('D', 'C', 'E'), ('D', 'C', 'A'), ('D', 'C', 'B'), ('D', 'C', 'H'),\n",
        "                ('D', 'B', 'E'), ('D', 'B', 'A'), ('D', 'B', 'C'), ('D', 'B', 'H'), ('D', 'B', 'F'), ('D', 'B', 'G'),\n",
        "                ('B', 'C', 'E'), ('B', 'C', 'A'), ('B', 'C', 'D'), ('B', 'C', 'H'), ('B', 'C', 'F'), ('B', 'C', 'G'),\n",
        "                ('B', 'F', 'C'), ('B', 'F', 'D'), ('B', 'F', 'G'),\n",
        "                ('B', 'G', 'F'), ('B', 'G', 'C'), ('B', 'G', 'D'),\n",
        "                ('F', 'G', 'B') \n",
        "                ]"
      ],
      "metadata": {
        "id": "eAY4XJAM-LkO"
      },
      "execution_count": null,
      "outputs": []
    },
    {
      "cell_type": "code",
      "source": [
        "for var_1, var_2, cond_var in combinations:\n",
        "    print('{} and {} are independent given {} = {}'.format(\n",
        "        var_1, var_2, cond_var, is_cond_independent(data_df, var_1, var_2, [cond_var])\n",
        "    ))"
      ],
      "metadata": {
        "colab": {
          "base_uri": "https://localhost:8080/"
        },
        "id": "XiPg_29xKF90",
        "outputId": "c6a7030c-80f3-4889-9c20-6b093e658e3e"
      },
      "execution_count": null,
      "outputs": [
        {
          "output_type": "stream",
          "name": "stdout",
          "text": [
            "E and A are independent given D = False\n",
            "E and A are independent given H = False\n",
            "E and A are independent given C = False\n",
            "E and D are independent given A = True\n",
            "E and D are independent given C = True\n",
            "E and D are independent given H = False\n",
            "E and D are independent given B = False\n",
            "E and H are independent given A = True\n",
            "E and H are independent given C = True\n",
            "E and H are independent given D = True\n",
            "E and C are independent given A = True\n",
            "E and C are independent given D = False\n",
            "E and C are independent given H = False\n",
            "E and C are independent given B = False\n",
            "A and C are independent given E = False\n",
            "A and C are independent given D = False\n",
            "A and C are independent given H = False\n",
            "A and C are independent given B = False\n",
            "A and D are independent given E = False\n",
            "A and D are independent given H = False\n",
            "A and D are independent given B = False\n",
            "A and D are independent given C = True\n",
            "A and H are independent given E = False\n",
            "A and H are independent given C = True\n",
            "A and H are independent given D = True\n",
            "H and D are independent given E = False\n",
            "H and D are independent given A = False\n",
            "H and D are independent given B = False\n",
            "H and D are independent given C = False\n",
            "H and C are independent given E = False\n",
            "H and C are independent given D = True\n",
            "H and C are independent given A = False\n",
            "H and C are independent given B = False\n",
            "D and C are independent given E = False\n",
            "D and C are independent given A = False\n",
            "D and C are independent given B = False\n",
            "D and C are independent given H = False\n",
            "D and B are independent given E = False\n",
            "D and B are independent given A = False\n",
            "D and B are independent given C = True\n",
            "D and B are independent given H = False\n",
            "D and B are independent given F = False\n",
            "D and B are independent given G = False\n",
            "B and C are independent given E = False\n",
            "B and C are independent given A = False\n",
            "B and C are independent given D = False\n",
            "B and C are independent given H = False\n",
            "B and C are independent given F = False\n",
            "B and C are independent given G = False\n",
            "B and F are independent given C = False\n",
            "B and F are independent given D = False\n",
            "B and F are independent given G = False\n",
            "B and G are independent given F = True\n",
            "B and G are independent given C = False\n",
            "B and G are independent given D = False\n",
            "F and G are independent given B = False\n"
          ]
        }
      ]
    },
    {
      "cell_type": "code",
      "source": [
        "indep_vars_cond_1 = []\n",
        "for var_1, var_2, cond_var in combinations:\n",
        "    if is_cond_independent(data_df, var_1, var_2, [cond_var]) == True:\n",
        "      indep_vars_cond_1.append((var_1, var_2))"
      ],
      "metadata": {
        "id": "b7IpyG3jM7mN"
      },
      "execution_count": null,
      "outputs": []
    },
    {
      "cell_type": "code",
      "source": [
        "indep_vars_cond_1 = list(set(indep_vars_cond_1))"
      ],
      "metadata": {
        "id": "XzsQ_T7-NnCg"
      },
      "execution_count": null,
      "outputs": []
    },
    {
      "cell_type": "code",
      "source": [
        "indep_vars_cond_1 = list(set(indep_vars_cond_1) - set(indep_vars))"
      ],
      "metadata": {
        "id": "jbFyhYQHeFQh"
      },
      "execution_count": null,
      "outputs": []
    },
    {
      "cell_type": "code",
      "source": [
        "indep_vars_cond_1"
      ],
      "metadata": {
        "colab": {
          "base_uri": "https://localhost:8080/"
        },
        "id": "v4NLjhW7pqYs",
        "outputId": "b9b12c1a-e17e-4cfc-e932-e028a6f44b1c"
      },
      "execution_count": null,
      "outputs": [
        {
          "output_type": "execute_result",
          "data": {
            "text/plain": [
              "[('E', 'C'),\n",
              " ('E', 'D'),\n",
              " ('A', 'H'),\n",
              " ('E', 'H'),\n",
              " ('B', 'G'),\n",
              " ('A', 'D'),\n",
              " ('D', 'B'),\n",
              " ('H', 'C')]"
            ]
          },
          "metadata": {},
          "execution_count": 31
        }
      ]
    },
    {
      "cell_type": "markdown",
      "source": [
        "\n",
        "\n",
        "```\n",
        "indep_vars_cond_1 = [('E', 'H'),\n",
        " ('D', 'B'),\n",
        " ('B', 'G'),\n",
        " ('E', 'D'),\n",
        " ('A', 'D'),\n",
        " ('B', 'C'),\n",
        " ('H', 'C'),\n",
        " ('A', 'H'),\n",
        " ('E', 'C')]\n",
        "```\n",
        "\n"
      ],
      "metadata": {
        "id": "E75KrpFxg0fo"
      }
    },
    {
      "cell_type": "code",
      "source": [],
      "metadata": {
        "id": "TKU4pZlFp_L-"
      },
      "execution_count": null,
      "outputs": []
    },
    {
      "cell_type": "code",
      "source": [
        "for pair in indep_vars_cond_1:\n",
        "  G.remove_edge(pair[0], pair[1])\n",
        "plt.figure(figsize=(5, 3))\n",
        "nx.draw(G, pos=nodes_pos, with_labels=True, font_weight='bold')"
      ],
      "metadata": {
        "colab": {
          "base_uri": "https://localhost:8080/",
          "height": 247
        },
        "id": "R4I4IVlnM3Mt",
        "outputId": "12d40c30-12ac-4a6c-dcb3-0eb4e27bc2ed"
      },
      "execution_count": null,
      "outputs": [
        {
          "output_type": "display_data",
          "data": {
            "text/plain": [
              "<Figure size 360x216 with 1 Axes>"
            ],
            "image/png": "[encoded data removed]"
          },
          "metadata": {}
        }
      ]
    },
    {
      "cell_type": "markdown",
      "source": [
        "## Step 4. Condition on 2 variables or more"
      ],
      "metadata": {
        "id": "BP7nnU12xuZJ"
      }
    },
    {
      "cell_type": "markdown",
      "source": [
        "The following function creates all possible sublists (with lengths more or equal to two) for a given list"
      ],
      "metadata": {
        "id": "0ojvwWhZx09D"
      }
    },
    {
      "cell_type": "code",
      "source": [
        "def sub_lists(my_list):\n",
        "  subs = []\n",
        "  for i in range(0, len(my_list)+3):\n",
        "    temp = [list(x) for x in itertools.combinations(my_list, i) if len(x) > 1]\n",
        "    if len(temp) > 1:\n",
        "      subs.extend(temp)\n",
        "  subs.extend([list(my_list)])   \n",
        "  return subs"
      ],
      "metadata": {
        "id": "rK6r27wXOEQH"
      },
      "execution_count": null,
      "outputs": []
    },
    {
      "cell_type": "code",
      "source": [
        "L = ['A', 'B', 'C']"
      ],
      "metadata": {
        "id": "V3v5HX0KPrZf"
      },
      "execution_count": null,
      "outputs": []
    },
    {
      "cell_type": "code",
      "source": [
        "sub_lists(['A','B','C'])"
      ],
      "metadata": {
        "colab": {
          "base_uri": "https://localhost:8080/"
        },
        "id": "NgHgsNKZP_MK",
        "outputId": "adff4901-eef0-4e13-cb7f-cb49f196fde7"
      },
      "execution_count": null,
      "outputs": [
        {
          "output_type": "execute_result",
          "data": {
            "text/plain": [
              "[['A', 'B'], ['A', 'C'], ['B', 'C'], ['A', 'B', 'C']]"
            ]
          },
          "metadata": {},
          "execution_count": 35
        }
      ]
    },
    {
      "cell_type": "code",
      "source": [
        "list(itertools.combinations(L, 3))"
      ],
      "metadata": {
        "colab": {
          "base_uri": "https://localhost:8080/"
        },
        "id": "_FCpftiVPvZs",
        "outputId": "5069c30f-57cf-43e8-e063-fb3deab6fa75"
      },
      "execution_count": null,
      "outputs": [
        {
          "output_type": "execute_result",
          "data": {
            "text/plain": [
              "[('A', 'B', 'C')]"
            ]
          },
          "metadata": {},
          "execution_count": 36
        }
      ]
    },
    {
      "cell_type": "code",
      "source": [
        "sub_lists(['A','B','C'])"
      ],
      "metadata": {
        "colab": {
          "base_uri": "https://localhost:8080/"
        },
        "id": "EMjZbV0gvh-g",
        "outputId": "6a818ea0-113c-42a5-b391-e717f5e1f907"
      },
      "execution_count": null,
      "outputs": [
        {
          "output_type": "execute_result",
          "data": {
            "text/plain": [
              "[['A', 'B'], ['A', 'C'], ['B', 'C'], ['A', 'B', 'C']]"
            ]
          },
          "metadata": {},
          "execution_count": 37
        }
      ]
    },
    {
      "cell_type": "markdown",
      "source": [
        "I create a dictionary with keys as the two edges that are connected and values as a list of edges connecting to either of them."
      ],
      "metadata": {
        "id": "gcmJP149x_kI"
      }
    },
    {
      "cell_type": "code",
      "source": [
        "conds = dict()\n",
        "for tup in combinations:\n",
        "  for tup2 in combinations:\n",
        "    if (tup[0] == tup2[0]) & (tup[1] == tup2[1]):\n",
        "      conds[(tup[0], tup[1])] = []\n",
        "for tup in combinations:\n",
        "  for tup2 in combinations:\n",
        "    if (tup[0] == tup2[0]) & (tup[1] == tup2[1]):\n",
        "      conds[(tup[0], tup[1])].append(tup[2])\n",
        "      conds[(tup[0], tup[1])].append(tup2[2])      "
      ],
      "metadata": {
        "id": "EIAuflifaJBq"
      },
      "execution_count": null,
      "outputs": []
    },
    {
      "cell_type": "code",
      "source": [
        "for pair in conds:\n",
        "  conds[pair] = set(conds[pair])\n"
      ],
      "metadata": {
        "id": "oGRw-W73boNB"
      },
      "execution_count": null,
      "outputs": []
    },
    {
      "cell_type": "markdown",
      "source": [
        "Now I create another dictionary which has the same keys as before but with values as all possible 2 or more sets of variables as condition set."
      ],
      "metadata": {
        "id": "VNaNroIxyUID"
      }
    },
    {
      "cell_type": "code",
      "source": [
        "conds_dict = conds.copy()\n",
        "for pair in conds_dict:\n",
        "  conds_dict[pair] = sub_lists(conds_dict[pair])\n"
      ],
      "metadata": {
        "id": "QpBYHndzblD5"
      },
      "execution_count": null,
      "outputs": []
    },
    {
      "cell_type": "code",
      "source": [
        "conds[('B', 'G')]"
      ],
      "metadata": {
        "colab": {
          "base_uri": "https://localhost:8080/"
        },
        "id": "LkgJDbybO7Me",
        "outputId": "e5753e3d-a2ea-4d6c-d387-7a16f0dc5799"
      },
      "execution_count": null,
      "outputs": [
        {
          "output_type": "execute_result",
          "data": {
            "text/plain": [
              "{'C', 'D', 'F'}"
            ]
          },
          "metadata": {},
          "execution_count": 41
        }
      ]
    },
    {
      "cell_type": "code",
      "source": [
        "sub_lists(conds[('B', 'G')])"
      ],
      "metadata": {
        "colab": {
          "base_uri": "https://localhost:8080/"
        },
        "id": "qBWlOAgpPKyM",
        "outputId": "8aa48e81-e723-4e86-ea00-be6fc4015779"
      },
      "execution_count": null,
      "outputs": [
        {
          "output_type": "execute_result",
          "data": {
            "text/plain": [
              "[['D', 'C'], ['D', 'F'], ['C', 'F'], ['D', 'C', 'F']]"
            ]
          },
          "metadata": {},
          "execution_count": 42
        }
      ]
    },
    {
      "cell_type": "code",
      "source": [
        " conds"
      ],
      "metadata": {
        "colab": {
          "base_uri": "https://localhost:8080/"
        },
        "id": "cOA7olOIaXXt",
        "outputId": "f64d3683-e026-4a51-92db-4e6d4b32494a"
      },
      "execution_count": null,
      "outputs": [
        {
          "output_type": "execute_result",
          "data": {
            "text/plain": [
              "{('E', 'A'): {'C', 'D', 'H'},\n",
              " ('E', 'D'): {'A', 'B', 'C', 'H'},\n",
              " ('E', 'H'): {'A', 'C', 'D'},\n",
              " ('E', 'C'): {'A', 'B', 'D', 'H'},\n",
              " ('A', 'C'): {'B', 'D', 'E', 'H'},\n",
              " ('A', 'D'): {'B', 'C', 'E', 'H'},\n",
              " ('A', 'H'): {'C', 'D', 'E'},\n",
              " ('H', 'D'): {'A', 'B', 'C', 'E'},\n",
              " ('H', 'C'): {'A', 'B', 'D', 'E'},\n",
              " ('D', 'C'): {'A', 'B', 'E', 'H'},\n",
              " ('D', 'B'): {'A', 'C', 'E', 'F', 'G', 'H'},\n",
              " ('B', 'C'): {'A', 'D', 'E', 'F', 'G', 'H'},\n",
              " ('B', 'F'): {'C', 'D', 'G'},\n",
              " ('B', 'G'): {'C', 'D', 'F'},\n",
              " ('F', 'G'): {'B'}}"
            ]
          },
          "metadata": {},
          "execution_count": 43
        }
      ]
    },
    {
      "cell_type": "markdown",
      "source": [],
      "metadata": {
        "id": "8FniQrBNyS7M"
      }
    },
    {
      "cell_type": "code",
      "source": [
        "conds_dict"
      ],
      "metadata": {
        "colab": {
          "base_uri": "https://localhost:8080/"
        },
        "id": "HLKXQd0eZvru",
        "outputId": "ace63a1a-7542-46bc-d488-2f2f80dbd65c"
      },
      "execution_count": null,
      "outputs": [
        {
          "output_type": "execute_result",
          "data": {
            "text/plain": [
              "{('E', 'A'): [['C', 'H'], ['C', 'D'], ['H', 'D'], ['C', 'H', 'D']],\n",
              " ('E', 'D'): [['H', 'C'],\n",
              "  ['H', 'B'],\n",
              "  ['H', 'A'],\n",
              "  ['C', 'B'],\n",
              "  ['C', 'A'],\n",
              "  ['B', 'A'],\n",
              "  ['H', 'C', 'B'],\n",
              "  ['H', 'C', 'A'],\n",
              "  ['H', 'B', 'A'],\n",
              "  ['C', 'B', 'A'],\n",
              "  ['H', 'C', 'B', 'A']],\n",
              " ('E', 'H'): [['C', 'A'], ['C', 'D'], ['A', 'D'], ['C', 'A', 'D']],\n",
              " ('E', 'C'): [['H', 'B'],\n",
              "  ['H', 'A'],\n",
              "  ['H', 'D'],\n",
              "  ['B', 'A'],\n",
              "  ['B', 'D'],\n",
              "  ['A', 'D'],\n",
              "  ['H', 'B', 'A'],\n",
              "  ['H', 'B', 'D'],\n",
              "  ['H', 'A', 'D'],\n",
              "  ['B', 'A', 'D'],\n",
              "  ['H', 'B', 'A', 'D']],\n",
              " ('A', 'C'): [['D', 'H'],\n",
              "  ['D', 'B'],\n",
              "  ['D', 'E'],\n",
              "  ['H', 'B'],\n",
              "  ['H', 'E'],\n",
              "  ['B', 'E'],\n",
              "  ['D', 'H', 'B'],\n",
              "  ['D', 'H', 'E'],\n",
              "  ['D', 'B', 'E'],\n",
              "  ['H', 'B', 'E'],\n",
              "  ['D', 'H', 'B', 'E']],\n",
              " ('A', 'D'): [['C', 'H'],\n",
              "  ['C', 'B'],\n",
              "  ['C', 'E'],\n",
              "  ['H', 'B'],\n",
              "  ['H', 'E'],\n",
              "  ['B', 'E'],\n",
              "  ['C', 'H', 'B'],\n",
              "  ['C', 'H', 'E'],\n",
              "  ['C', 'B', 'E'],\n",
              "  ['H', 'B', 'E'],\n",
              "  ['C', 'H', 'B', 'E']],\n",
              " ('A', 'H'): [['D', 'C'], ['D', 'E'], ['C', 'E'], ['D', 'C', 'E']],\n",
              " ('H', 'D'): [['C', 'B'],\n",
              "  ['C', 'A'],\n",
              "  ['C', 'E'],\n",
              "  ['B', 'A'],\n",
              "  ['B', 'E'],\n",
              "  ['A', 'E'],\n",
              "  ['C', 'B', 'A'],\n",
              "  ['C', 'B', 'E'],\n",
              "  ['C', 'A', 'E'],\n",
              "  ['B', 'A', 'E'],\n",
              "  ['C', 'B', 'A', 'E']],\n",
              " ('H', 'C'): [['D', 'B'],\n",
              "  ['D', 'A'],\n",
              "  ['D', 'E'],\n",
              "  ['B', 'A'],\n",
              "  ['B', 'E'],\n",
              "  ['A', 'E'],\n",
              "  ['D', 'B', 'A'],\n",
              "  ['D', 'B', 'E'],\n",
              "  ['D', 'A', 'E'],\n",
              "  ['B', 'A', 'E'],\n",
              "  ['D', 'B', 'A', 'E']],\n",
              " ('D', 'C'): [['H', 'B'],\n",
              "  ['H', 'A'],\n",
              "  ['H', 'E'],\n",
              "  ['B', 'A'],\n",
              "  ['B', 'E'],\n",
              "  ['A', 'E'],\n",
              "  ['H', 'B', 'A'],\n",
              "  ['H', 'B', 'E'],\n",
              "  ['H', 'A', 'E'],\n",
              "  ['B', 'A', 'E'],\n",
              "  ['H', 'B', 'A', 'E']],\n",
              " ('D', 'B'): [['G', 'H'],\n",
              "  ['G', 'E'],\n",
              "  ['G', 'A'],\n",
              "  ['G', 'C'],\n",
              "  ['G', 'F'],\n",
              "  ['H', 'E'],\n",
              "  ['H', 'A'],\n",
              "  ['H', 'C'],\n",
              "  ['H', 'F'],\n",
              "  ['E', 'A'],\n",
              "  ['E', 'C'],\n",
              "  ['E', 'F'],\n",
              "  ['A', 'C'],\n",
              "  ['A', 'F'],\n",
              "  ['C', 'F'],\n",
              "  ['G', 'H', 'E'],\n",
              "  ['G', 'H', 'A'],\n",
              "  ['G', 'H', 'C'],\n",
              "  ['G', 'H', 'F'],\n",
              "  ['G', 'E', 'A'],\n",
              "  ['G', 'E', 'C'],\n",
              "  ['G', 'E', 'F'],\n",
              "  ['G', 'A', 'C'],\n",
              "  ['G', 'A', 'F'],\n",
              "  ['G', 'C', 'F'],\n",
              "  ['H', 'E', 'A'],\n",
              "  ['H', 'E', 'C'],\n",
              "  ['H', 'E', 'F'],\n",
              "  ['H', 'A', 'C'],\n",
              "  ['H', 'A', 'F'],\n",
              "  ['H', 'C', 'F'],\n",
              "  ['E', 'A', 'C'],\n",
              "  ['E', 'A', 'F'],\n",
              "  ['E', 'C', 'F'],\n",
              "  ['A', 'C', 'F'],\n",
              "  ['G', 'H', 'E', 'A'],\n",
              "  ['G', 'H', 'E', 'C'],\n",
              "  ['G', 'H', 'E', 'F'],\n",
              "  ['G', 'H', 'A', 'C'],\n",
              "  ['G', 'H', 'A', 'F'],\n",
              "  ['G', 'H', 'C', 'F'],\n",
              "  ['G', 'E', 'A', 'C'],\n",
              "  ['G', 'E', 'A', 'F'],\n",
              "  ['G', 'E', 'C', 'F'],\n",
              "  ['G', 'A', 'C', 'F'],\n",
              "  ['H', 'E', 'A', 'C'],\n",
              "  ['H', 'E', 'A', 'F'],\n",
              "  ['H', 'E', 'C', 'F'],\n",
              "  ['H', 'A', 'C', 'F'],\n",
              "  ['E', 'A', 'C', 'F'],\n",
              "  ['G', 'H', 'E', 'A', 'C'],\n",
              "  ['G', 'H', 'E', 'A', 'F'],\n",
              "  ['G', 'H', 'E', 'C', 'F'],\n",
              "  ['G', 'H', 'A', 'C', 'F'],\n",
              "  ['G', 'E', 'A', 'C', 'F'],\n",
              "  ['H', 'E', 'A', 'C', 'F'],\n",
              "  ['G', 'H', 'E', 'A', 'C', 'F']],\n",
              " ('B', 'C'): [['G', 'D'],\n",
              "  ['G', 'H'],\n",
              "  ['G', 'E'],\n",
              "  ['G', 'A'],\n",
              "  ['G', 'F'],\n",
              "  ['D', 'H'],\n",
              "  ['D', 'E'],\n",
              "  ['D', 'A'],\n",
              "  ['D', 'F'],\n",
              "  ['H', 'E'],\n",
              "  ['H', 'A'],\n",
              "  ['H', 'F'],\n",
              "  ['E', 'A'],\n",
              "  ['E', 'F'],\n",
              "  ['A', 'F'],\n",
              "  ['G', 'D', 'H'],\n",
              "  ['G', 'D', 'E'],\n",
              "  ['G', 'D', 'A'],\n",
              "  ['G', 'D', 'F'],\n",
              "  ['G', 'H', 'E'],\n",
              "  ['G', 'H', 'A'],\n",
              "  ['G', 'H', 'F'],\n",
              "  ['G', 'E', 'A'],\n",
              "  ['G', 'E', 'F'],\n",
              "  ['G', 'A', 'F'],\n",
              "  ['D', 'H', 'E'],\n",
              "  ['D', 'H', 'A'],\n",
              "  ['D', 'H', 'F'],\n",
              "  ['D', 'E', 'A'],\n",
              "  ['D', 'E', 'F'],\n",
              "  ['D', 'A', 'F'],\n",
              "  ['H', 'E', 'A'],\n",
              "  ['H', 'E', 'F'],\n",
              "  ['H', 'A', 'F'],\n",
              "  ['E', 'A', 'F'],\n",
              "  ['G', 'D', 'H', 'E'],\n",
              "  ['G', 'D', 'H', 'A'],\n",
              "  ['G', 'D', 'H', 'F'],\n",
              "  ['G', 'D', 'E', 'A'],\n",
              "  ['G', 'D', 'E', 'F'],\n",
              "  ['G', 'D', 'A', 'F'],\n",
              "  ['G', 'H', 'E', 'A'],\n",
              "  ['G', 'H', 'E', 'F'],\n",
              "  ['G', 'H', 'A', 'F'],\n",
              "  ['G', 'E', 'A', 'F'],\n",
              "  ['D', 'H', 'E', 'A'],\n",
              "  ['D', 'H', 'E', 'F'],\n",
              "  ['D', 'H', 'A', 'F'],\n",
              "  ['D', 'E', 'A', 'F'],\n",
              "  ['H', 'E', 'A', 'F'],\n",
              "  ['G', 'D', 'H', 'E', 'A'],\n",
              "  ['G', 'D', 'H', 'E', 'F'],\n",
              "  ['G', 'D', 'H', 'A', 'F'],\n",
              "  ['G', 'D', 'E', 'A', 'F'],\n",
              "  ['G', 'H', 'E', 'A', 'F'],\n",
              "  ['D', 'H', 'E', 'A', 'F'],\n",
              "  ['G', 'D', 'H', 'E', 'A', 'F']],\n",
              " ('B', 'F'): [['G', 'C'], ['G', 'D'], ['C', 'D'], ['G', 'C', 'D']],\n",
              " ('B', 'G'): [['D', 'C'], ['D', 'F'], ['C', 'F'], ['D', 'C', 'F']],\n",
              " ('F', 'G'): [['B']]}"
            ]
          },
          "metadata": {},
          "execution_count": 44
        }
      ]
    },
    {
      "cell_type": "markdown",
      "source": [
        "In the code below, all connected edges' dependency are reported when conditioned on a condition set. \n",
        "The code took 40 minutes. So it wouldn't be useful on large graphs."
      ],
      "metadata": {
        "id": "C2-SPU55f3wV"
      }
    },
    {
      "cell_type": "code",
      "source": [
        "%load_ext autotime"
      ],
      "metadata": {
        "colab": {
          "base_uri": "https://localhost:8080/"
        },
        "id": "T0g4uDQ2Esb7",
        "outputId": "f16e971b-500b-42de-c817-9eed521a8201"
      },
      "execution_count": null,
      "outputs": [
        {
          "output_type": "stream",
          "name": "stdout",
          "text": [
            "time: 487 µs (started: 2022-10-23 20:25:06 +00:00)\n"
          ]
        }
      ]
    },
    {
      "cell_type": "code",
      "source": [
        "for var_1, var_2, cond_var in combinations:\n",
        "  for cond in conds_dict[var_1, var_2]:\n",
        "    print('{} and {} are independent given {} = {}'.format(\n",
        "        var_1, var_2, cond, is_cond_independent(data_df, var_1, var_2, cond)\n",
        "    ))"
      ],
      "metadata": {
        "colab": {
          "base_uri": "https://localhost:8080/"
        },
        "id": "Z0stgN3qwPG-",
        "outputId": "926e2e42-8fa3-40c3-e5ab-364124f1bcb2"
      },
      "execution_count": null,
      "outputs": [
        {
          "output_type": "stream",
          "name": "stdout",
          "text": [
            "E and A are independent given ['C', 'H'] = False\n",
            "E and A are independent given ['C', 'D'] = False\n",
            "E and A are independent given ['H', 'D'] = False\n",
            "E and A are independent given ['C', 'H', 'D'] = False\n",
            "E and A are independent given ['C', 'H'] = False\n",
            "E and A are independent given ['C', 'D'] = False\n",
            "E and A are independent given ['H', 'D'] = False\n",
            "E and A are independent given ['C', 'H', 'D'] = False\n",
            "E and A are independent given ['C', 'H'] = False\n",
            "E and A are independent given ['C', 'D'] = False\n",
            "E and A are independent given ['H', 'D'] = False\n",
            "E and A are independent given ['C', 'H', 'D'] = False\n",
            "E and D are independent given ['H', 'C'] = True\n",
            "E and D are independent given ['H', 'B'] = False\n",
            "E and D are independent given ['H', 'A'] = True\n",
            "E and D are independent given ['C', 'B'] = True\n",
            "E and D are independent given ['C', 'A'] = True\n",
            "E and D are independent given ['B', 'A'] = True\n",
            "E and D are independent given ['H', 'C', 'B'] = True\n",
            "E and D are independent given ['H', 'C', 'A'] = True\n",
            "E and D are independent given ['H', 'B', 'A'] = True\n",
            "E and D are independent given ['C', 'B', 'A'] = True\n",
            "E and D are independent given ['H', 'C', 'B', 'A'] = True\n",
            "E and D are independent given ['H', 'C'] = True\n",
            "E and D are independent given ['H', 'B'] = False\n",
            "E and D are independent given ['H', 'A'] = True\n",
            "E and D are independent given ['C', 'B'] = True\n",
            "E and D are independent given ['C', 'A'] = True\n",
            "E and D are independent given ['B', 'A'] = True\n",
            "E and D are independent given ['H', 'C', 'B'] = True\n",
            "E and D are independent given ['H', 'C', 'A'] = True\n",
            "E and D are independent given ['H', 'B', 'A'] = True\n",
            "E and D are independent given ['C', 'B', 'A'] = True\n",
            "E and D are independent given ['H', 'C', 'B', 'A'] = True\n",
            "E and D are independent given ['H', 'C'] = True\n",
            "E and D are independent given ['H', 'B'] = False\n",
            "E and D are independent given ['H', 'A'] = True\n",
            "E and D are independent given ['C', 'B'] = True\n",
            "E and D are independent given ['C', 'A'] = True\n",
            "E and D are independent given ['B', 'A'] = True\n",
            "E and D are independent given ['H', 'C', 'B'] = True\n",
            "E and D are independent given ['H', 'C', 'A'] = True\n",
            "E and D are independent given ['H', 'B', 'A'] = True\n",
            "E and D are independent given ['C', 'B', 'A'] = True\n",
            "E and D are independent given ['H', 'C', 'B', 'A'] = True\n",
            "E and D are independent given ['H', 'C'] = True\n",
            "E and D are independent given ['H', 'B'] = False\n",
            "E and D are independent given ['H', 'A'] = True\n",
            "E and D are independent given ['C', 'B'] = True\n",
            "E and D are independent given ['C', 'A'] = True\n",
            "E and D are independent given ['B', 'A'] = True\n",
            "E and D are independent given ['H', 'C', 'B'] = True\n",
            "E and D are independent given ['H', 'C', 'A'] = True\n",
            "E and D are independent given ['H', 'B', 'A'] = True\n",
            "E and D are independent given ['C', 'B', 'A'] = True\n",
            "E and D are independent given ['H', 'C', 'B', 'A'] = True\n",
            "E and H are independent given ['C', 'A'] = True\n",
            "E and H are independent given ['C', 'D'] = True\n",
            "E and H are independent given ['A', 'D'] = True\n",
            "E and H are independent given ['C', 'A', 'D'] = True\n",
            "E and H are independent given ['C', 'A'] = True\n",
            "E and H are independent given ['C', 'D'] = True\n",
            "E and H are independent given ['A', 'D'] = True\n",
            "E and H are independent given ['C', 'A', 'D'] = True\n",
            "E and H are independent given ['C', 'A'] = True\n",
            "E and H are independent given ['C', 'D'] = True\n",
            "E and H are independent given ['A', 'D'] = True\n",
            "E and H are independent given ['C', 'A', 'D'] = True\n",
            "E and C are independent given ['H', 'B'] = False\n",
            "E and C are independent given ['H', 'A'] = True\n",
            "E and C are independent given ['H', 'D'] = False\n",
            "E and C are independent given ['B', 'A'] = True\n",
            "E and C are independent given ['B', 'D'] = True\n",
            "E and C are independent given ['A', 'D'] = True\n",
            "E and C are independent given ['H', 'B', 'A'] = True\n",
            "E and C are independent given ['H', 'B', 'D'] = True\n",
            "E and C are independent given ['H', 'A', 'D'] = True\n",
            "E and C are independent given ['B', 'A', 'D'] = True\n",
            "E and C are independent given ['H', 'B', 'A', 'D'] = True\n",
            "E and C are independent given ['H', 'B'] = False\n",
            "E and C are independent given ['H', 'A'] = True\n",
            "E and C are independent given ['H', 'D'] = False\n",
            "E and C are independent given ['B', 'A'] = True\n",
            "E and C are independent given ['B', 'D'] = True\n",
            "E and C are independent given ['A', 'D'] = True\n",
            "E and C are independent given ['H', 'B', 'A'] = True\n",
            "E and C are independent given ['H', 'B', 'D'] = True\n",
            "E and C are independent given ['H', 'A', 'D'] = True\n",
            "E and C are independent given ['B', 'A', 'D'] = True\n",
            "E and C are independent given ['H', 'B', 'A', 'D'] = True\n",
            "E and C are independent given ['H', 'B'] = False\n",
            "E and C are independent given ['H', 'A'] = True\n",
            "E and C are independent given ['H', 'D'] = False\n",
            "E and C are independent given ['B', 'A'] = True\n",
            "E and C are independent given ['B', 'D'] = True\n",
            "E and C are independent given ['A', 'D'] = True\n",
            "E and C are independent given ['H', 'B', 'A'] = True\n",
            "E and C are independent given ['H', 'B', 'D'] = True\n",
            "E and C are independent given ['H', 'A', 'D'] = True\n",
            "E and C are independent given ['B', 'A', 'D'] = True\n",
            "E and C are independent given ['H', 'B', 'A', 'D'] = True\n",
            "E and C are independent given ['H', 'B'] = False\n",
            "E and C are independent given ['H', 'A'] = True\n",
            "E and C are independent given ['H', 'D'] = False\n",
            "E and C are independent given ['B', 'A'] = True\n",
            "E and C are independent given ['B', 'D'] = True\n",
            "E and C are independent given ['A', 'D'] = True\n",
            "E and C are independent given ['H', 'B', 'A'] = True\n",
            "E and C are independent given ['H', 'B', 'D'] = True\n",
            "E and C are independent given ['H', 'A', 'D'] = True\n",
            "E and C are independent given ['B', 'A', 'D'] = True\n",
            "E and C are independent given ['H', 'B', 'A', 'D'] = True\n",
            "A and C are independent given ['D', 'H'] = False\n",
            "A and C are independent given ['D', 'B'] = False\n",
            "A and C are independent given ['D', 'E'] = False\n",
            "A and C are independent given ['H', 'B'] = False\n",
            "A and C are independent given ['H', 'E'] = False\n",
            "A and C are independent given ['B', 'E'] = False\n",
            "A and C are independent given ['D', 'H', 'B'] = False\n",
            "A and C are independent given ['D', 'H', 'E'] = False\n",
            "A and C are independent given ['D', 'B', 'E'] = False\n",
            "A and C are independent given ['H', 'B', 'E'] = False\n",
            "A and C are independent given ['D', 'H', 'B', 'E'] = False\n",
            "A and C are independent given ['D', 'H'] = False\n",
            "A and C are independent given ['D', 'B'] = False\n",
            "A and C are independent given ['D', 'E'] = False\n",
            "A and C are independent given ['H', 'B'] = False\n",
            "A and C are independent given ['H', 'E'] = False\n",
            "A and C are independent given ['B', 'E'] = False\n",
            "A and C are independent given ['D', 'H', 'B'] = False\n",
            "A and C are independent given ['D', 'H', 'E'] = False\n",
            "A and C are independent given ['D', 'B', 'E'] = False\n",
            "A and C are independent given ['H', 'B', 'E'] = False\n",
            "A and C are independent given ['D', 'H', 'B', 'E'] = False\n",
            "A and C are independent given ['D', 'H'] = False\n",
            "A and C are independent given ['D', 'B'] = False\n",
            "A and C are independent given ['D', 'E'] = False\n",
            "A and C are independent given ['H', 'B'] = False\n",
            "A and C are independent given ['H', 'E'] = False\n",
            "A and C are independent given ['B', 'E'] = False\n",
            "A and C are independent given ['D', 'H', 'B'] = False\n",
            "A and C are independent given ['D', 'H', 'E'] = False\n",
            "A and C are independent given ['D', 'B', 'E'] = False\n",
            "A and C are independent given ['H', 'B', 'E'] = False\n",
            "A and C are independent given ['D', 'H', 'B', 'E'] = False\n",
            "A and C are independent given ['D', 'H'] = False\n",
            "A and C are independent given ['D', 'B'] = False\n",
            "A and C are independent given ['D', 'E'] = False\n",
            "A and C are independent given ['H', 'B'] = False\n",
            "A and C are independent given ['H', 'E'] = False\n",
            "A and C are independent given ['B', 'E'] = False\n",
            "A and C are independent given ['D', 'H', 'B'] = False\n",
            "A and C are independent given ['D', 'H', 'E'] = False\n",
            "A and C are independent given ['D', 'B', 'E'] = False\n",
            "A and C are independent given ['H', 'B', 'E'] = False\n",
            "A and C are independent given ['D', 'H', 'B', 'E'] = False\n",
            "A and D are independent given ['C', 'H'] = True\n",
            "A and D are independent given ['C', 'B'] = True\n",
            "A and D are independent given ['C', 'E'] = True\n",
            "A and D are independent given ['H', 'B'] = False\n",
            "A and D are independent given ['H', 'E'] = False\n",
            "A and D are independent given ['B', 'E'] = False\n",
            "A and D are independent given ['C', 'H', 'B'] = True\n",
            "A and D are independent given ['C', 'H', 'E'] = True\n",
            "A and D are independent given ['C', 'B', 'E'] = True\n",
            "A and D are independent given ['H', 'B', 'E'] = False\n",
            "A and D are independent given ['C', 'H', 'B', 'E'] = True\n",
            "A and D are independent given ['C', 'H'] = True\n",
            "A and D are independent given ['C', 'B'] = True\n",
            "A and D are independent given ['C', 'E'] = True\n",
            "A and D are independent given ['H', 'B'] = False\n",
            "A and D are independent given ['H', 'E'] = False\n",
            "A and D are independent given ['B', 'E'] = False\n",
            "A and D are independent given ['C', 'H', 'B'] = True\n",
            "A and D are independent given ['C', 'H', 'E'] = True\n",
            "A and D are independent given ['C', 'B', 'E'] = True\n",
            "A and D are independent given ['H', 'B', 'E'] = False\n",
            "A and D are independent given ['C', 'H', 'B', 'E'] = True\n",
            "A and D are independent given ['C', 'H'] = True\n",
            "A and D are independent given ['C', 'B'] = True\n",
            "A and D are independent given ['C', 'E'] = True\n",
            "A and D are independent given ['H', 'B'] = False\n",
            "A and D are independent given ['H', 'E'] = False\n",
            "A and D are independent given ['B', 'E'] = False\n",
            "A and D are independent given ['C', 'H', 'B'] = True\n",
            "A and D are independent given ['C', 'H', 'E'] = True\n",
            "A and D are independent given ['C', 'B', 'E'] = True\n",
            "A and D are independent given ['H', 'B', 'E'] = False\n",
            "A and D are independent given ['C', 'H', 'B', 'E'] = True\n",
            "A and D are independent given ['C', 'H'] = True\n",
            "A and D are independent given ['C', 'B'] = True\n",
            "A and D are independent given ['C', 'E'] = True\n",
            "A and D are independent given ['H', 'B'] = False\n",
            "A and D are independent given ['H', 'E'] = False\n",
            "A and D are independent given ['B', 'E'] = False\n",
            "A and D are independent given ['C', 'H', 'B'] = True\n",
            "A and D are independent given ['C', 'H', 'E'] = True\n",
            "A and D are independent given ['C', 'B', 'E'] = True\n",
            "A and D are independent given ['H', 'B', 'E'] = False\n",
            "A and D are independent given ['C', 'H', 'B', 'E'] = True\n",
            "A and H are independent given ['D', 'C'] = True\n",
            "A and H are independent given ['D', 'E'] = True\n",
            "A and H are independent given ['C', 'E'] = True\n",
            "A and H are independent given ['D', 'C', 'E'] = True\n",
            "A and H are independent given ['D', 'C'] = True\n",
            "A and H are independent given ['D', 'E'] = True\n",
            "A and H are independent given ['C', 'E'] = True\n",
            "A and H are independent given ['D', 'C', 'E'] = True\n",
            "A and H are independent given ['D', 'C'] = True\n",
            "A and H are independent given ['D', 'E'] = True\n",
            "A and H are independent given ['C', 'E'] = True\n",
            "A and H are independent given ['D', 'C', 'E'] = True\n",
            "H and D are independent given ['C', 'B'] = False\n",
            "H and D are independent given ['C', 'A'] = False\n",
            "H and D are independent given ['C', 'E'] = False\n",
            "H and D are independent given ['B', 'A'] = False\n",
            "H and D are independent given ['B', 'E'] = False\n",
            "H and D are independent given ['A', 'E'] = False\n",
            "H and D are independent given ['C', 'B', 'A'] = False\n",
            "H and D are independent given ['C', 'B', 'E'] = False\n",
            "H and D are independent given ['C', 'A', 'E'] = False\n",
            "H and D are independent given ['B', 'A', 'E'] = False\n",
            "H and D are independent given ['C', 'B', 'A', 'E'] = False\n",
            "H and D are independent given ['C', 'B'] = False\n",
            "H and D are independent given ['C', 'A'] = False\n",
            "H and D are independent given ['C', 'E'] = False\n",
            "H and D are independent given ['B', 'A'] = False\n",
            "H and D are independent given ['B', 'E'] = False\n",
            "H and D are independent given ['A', 'E'] = False\n",
            "H and D are independent given ['C', 'B', 'A'] = False\n",
            "H and D are independent given ['C', 'B', 'E'] = False\n",
            "H and D are independent given ['C', 'A', 'E'] = False\n",
            "H and D are independent given ['B', 'A', 'E'] = False\n",
            "H and D are independent given ['C', 'B', 'A', 'E'] = False\n",
            "H and D are independent given ['C', 'B'] = False\n",
            "H and D are independent given ['C', 'A'] = False\n",
            "H and D are independent given ['C', 'E'] = False\n",
            "H and D are independent given ['B', 'A'] = False\n",
            "H and D are independent given ['B', 'E'] = False\n",
            "H and D are independent given ['A', 'E'] = False\n",
            "H and D are independent given ['C', 'B', 'A'] = False\n",
            "H and D are independent given ['C', 'B', 'E'] = False\n",
            "H and D are independent given ['C', 'A', 'E'] = False\n",
            "H and D are independent given ['B', 'A', 'E'] = False\n",
            "H and D are independent given ['C', 'B', 'A', 'E'] = False\n",
            "H and D are independent given ['C', 'B'] = False\n",
            "H and D are independent given ['C', 'A'] = False\n",
            "H and D are independent given ['C', 'E'] = False\n",
            "H and D are independent given ['B', 'A'] = False\n",
            "H and D are independent given ['B', 'E'] = False\n",
            "H and D are independent given ['A', 'E'] = False\n",
            "H and D are independent given ['C', 'B', 'A'] = False\n",
            "H and D are independent given ['C', 'B', 'E'] = False\n",
            "H and D are independent given ['C', 'A', 'E'] = False\n",
            "H and D are independent given ['B', 'A', 'E'] = False\n",
            "H and D are independent given ['C', 'B', 'A', 'E'] = False\n",
            "H and C are independent given ['D', 'B'] = True\n",
            "H and C are independent given ['D', 'A'] = True\n",
            "H and C are independent given ['D', 'E'] = True\n",
            "H and C are independent given ['B', 'A'] = False\n",
            "H and C are independent given ['B', 'E'] = False\n",
            "H and C are independent given ['A', 'E'] = False\n",
            "H and C are independent given ['D', 'B', 'A'] = True\n",
            "H and C are independent given ['D', 'B', 'E'] = True\n",
            "H and C are independent given ['D', 'A', 'E'] = True\n",
            "H and C are independent given ['B', 'A', 'E'] = False\n",
            "H and C are independent given ['D', 'B', 'A', 'E'] = True\n",
            "H and C are independent given ['D', 'B'] = True\n",
            "H and C are independent given ['D', 'A'] = True\n",
            "H and C are independent given ['D', 'E'] = True\n",
            "H and C are independent given ['B', 'A'] = False\n",
            "H and C are independent given ['B', 'E'] = False\n",
            "H and C are independent given ['A', 'E'] = False\n",
            "H and C are independent given ['D', 'B', 'A'] = True\n",
            "H and C are independent given ['D', 'B', 'E'] = True\n",
            "H and C are independent given ['D', 'A', 'E'] = True\n",
            "H and C are independent given ['B', 'A', 'E'] = False\n",
            "H and C are independent given ['D', 'B', 'A', 'E'] = True\n",
            "H and C are independent given ['D', 'B'] = True\n",
            "H and C are independent given ['D', 'A'] = True\n",
            "H and C are independent given ['D', 'E'] = True\n",
            "H and C are independent given ['B', 'A'] = False\n",
            "H and C are independent given ['B', 'E'] = False\n",
            "H and C are independent given ['A', 'E'] = False\n",
            "H and C are independent given ['D', 'B', 'A'] = True\n",
            "H and C are independent given ['D', 'B', 'E'] = True\n",
            "H and C are independent given ['D', 'A', 'E'] = True\n",
            "H and C are independent given ['B', 'A', 'E'] = False\n",
            "H and C are independent given ['D', 'B', 'A', 'E'] = True\n",
            "H and C are independent given ['D', 'B'] = True\n",
            "H and C are independent given ['D', 'A'] = True\n",
            "H and C are independent given ['D', 'E'] = True\n",
            "H and C are independent given ['B', 'A'] = False\n",
            "H and C are independent given ['B', 'E'] = False\n",
            "H and C are independent given ['A', 'E'] = False\n",
            "H and C are independent given ['D', 'B', 'A'] = True\n",
            "H and C are independent given ['D', 'B', 'E'] = True\n",
            "H and C are independent given ['D', 'A', 'E'] = True\n",
            "H and C are independent given ['B', 'A', 'E'] = False\n",
            "H and C are independent given ['D', 'B', 'A', 'E'] = True\n",
            "D and C are independent given ['H', 'B'] = False\n",
            "D and C are independent given ['H', 'A'] = False\n",
            "D and C are independent given ['H', 'E'] = False\n",
            "D and C are independent given ['B', 'A'] = False\n",
            "D and C are independent given ['B', 'E'] = False\n",
            "D and C are independent given ['A', 'E'] = False\n",
            "D and C are independent given ['H', 'B', 'A'] = False\n",
            "D and C are independent given ['H', 'B', 'E'] = False\n",
            "D and C are independent given ['H', 'A', 'E'] = False\n",
            "D and C are independent given ['B', 'A', 'E'] = False\n",
            "D and C are independent given ['H', 'B', 'A', 'E'] = False\n",
            "D and C are independent given ['H', 'B'] = False\n",
            "D and C are independent given ['H', 'A'] = False\n",
            "D and C are independent given ['H', 'E'] = False\n",
            "D and C are independent given ['B', 'A'] = False\n",
            "D and C are independent given ['B', 'E'] = False\n",
            "D and C are independent given ['A', 'E'] = False\n",
            "D and C are independent given ['H', 'B', 'A'] = False\n",
            "D and C are independent given ['H', 'B', 'E'] = False\n",
            "D and C are independent given ['H', 'A', 'E'] = False\n",
            "D and C are independent given ['B', 'A', 'E'] = False\n",
            "D and C are independent given ['H', 'B', 'A', 'E'] = False\n",
            "D and C are independent given ['H', 'B'] = False\n",
            "D and C are independent given ['H', 'A'] = False\n",
            "D and C are independent given ['H', 'E'] = False\n",
            "D and C are independent given ['B', 'A'] = False\n",
            "D and C are independent given ['B', 'E'] = False\n",
            "D and C are independent given ['A', 'E'] = False\n",
            "D and C are independent given ['H', 'B', 'A'] = False\n",
            "D and C are independent given ['H', 'B', 'E'] = False\n",
            "D and C are independent given ['H', 'A', 'E'] = False\n",
            "D and C are independent given ['B', 'A', 'E'] = False\n",
            "D and C are independent given ['H', 'B', 'A', 'E'] = False\n",
            "D and C are independent given ['H', 'B'] = False\n",
            "D and C are independent given ['H', 'A'] = False\n",
            "D and C are independent given ['H', 'E'] = False\n",
            "D and C are independent given ['B', 'A'] = False\n",
            "D and C are independent given ['B', 'E'] = False\n",
            "D and C are independent given ['A', 'E'] = False\n",
            "D and C are independent given ['H', 'B', 'A'] = False\n",
            "D and C are independent given ['H', 'B', 'E'] = False\n",
            "D and C are independent given ['H', 'A', 'E'] = False\n",
            "D and C are independent given ['B', 'A', 'E'] = False\n",
            "D and C are independent given ['H', 'B', 'A', 'E'] = False\n",
            "D and B are independent given ['G', 'H'] = False\n",
            "D and B are independent given ['G', 'E'] = False\n",
            "D and B are independent given ['G', 'A'] = False\n",
            "D and B are independent given ['G', 'C'] = True\n",
            "D and B are independent given ['G', 'F'] = False\n",
            "D and B are independent given ['H', 'E'] = False\n",
            "D and B are independent given ['H', 'A'] = False\n",
            "D and B are independent given ['H', 'C'] = True\n",
            "D and B are independent given ['H', 'F'] = False\n",
            "D and B are independent given ['E', 'A'] = False\n",
            "D and B are independent given ['E', 'C'] = True\n",
            "D and B are independent given ['E', 'F'] = False\n",
            "D and B are independent given ['A', 'C'] = True\n",
            "D and B are independent given ['A', 'F'] = False\n",
            "D and B are independent given ['C', 'F'] = True\n",
            "D and B are independent given ['G', 'H', 'E'] = False\n",
            "D and B are independent given ['G', 'H', 'A'] = False\n",
            "D and B are independent given ['G', 'H', 'C'] = True\n",
            "D and B are independent given ['G', 'H', 'F'] = False\n",
            "D and B are independent given ['G', 'E', 'A'] = False\n",
            "D and B are independent given ['G', 'E', 'C'] = True\n",
            "D and B are independent given ['G', 'E', 'F'] = False\n",
            "D and B are independent given ['G', 'A', 'C'] = True\n",
            "D and B are independent given ['G', 'A', 'F'] = False\n",
            "D and B are independent given ['G', 'C', 'F'] = True\n",
            "D and B are independent given ['H', 'E', 'A'] = False\n",
            "D and B are independent given ['H', 'E', 'C'] = True\n",
            "D and B are independent given ['H', 'E', 'F'] = False\n",
            "D and B are independent given ['H', 'A', 'C'] = True\n",
            "D and B are independent given ['H', 'A', 'F'] = False\n",
            "D and B are independent given ['H', 'C', 'F'] = True\n",
            "D and B are independent given ['E', 'A', 'C'] = True\n",
            "D and B are independent given ['E', 'A', 'F'] = False\n",
            "D and B are independent given ['E', 'C', 'F'] = True\n",
            "D and B are independent given ['A', 'C', 'F'] = True\n",
            "D and B are independent given ['G', 'H', 'E', 'A'] = False\n",
            "D and B are independent given ['G', 'H', 'E', 'C'] = True\n",
            "D and B are independent given ['G', 'H', 'E', 'F'] = False\n",
            "D and B are independent given ['G', 'H', 'A', 'C'] = True\n",
            "D and B are independent given ['G', 'H', 'A', 'F'] = False\n",
            "D and B are independent given ['G', 'H', 'C', 'F'] = True\n",
            "D and B are independent given ['G', 'E', 'A', 'C'] = True\n",
            "D and B are independent given ['G', 'E', 'A', 'F'] = False\n",
            "D and B are independent given ['G', 'E', 'C', 'F'] = True\n",
            "D and B are independent given ['G', 'A', 'C', 'F'] = True\n",
            "D and B are independent given ['H', 'E', 'A', 'C'] = True\n",
            "D and B are independent given ['H', 'E', 'A', 'F'] = False\n",
            "D and B are independent given ['H', 'E', 'C', 'F'] = True\n",
            "D and B are independent given ['H', 'A', 'C', 'F'] = True\n",
            "D and B are independent given ['E', 'A', 'C', 'F'] = True\n",
            "D and B are independent given ['G', 'H', 'E', 'A', 'C'] = True\n",
            "D and B are independent given ['G', 'H', 'E', 'A', 'F'] = False\n",
            "D and B are independent given ['G', 'H', 'E', 'C', 'F'] = True\n",
            "D and B are independent given ['G', 'H', 'A', 'C', 'F'] = True\n",
            "D and B are independent given ['G', 'E', 'A', 'C', 'F'] = True\n",
            "D and B are independent given ['H', 'E', 'A', 'C', 'F'] = True\n",
            "D and B are independent given ['G', 'H', 'E', 'A', 'C', 'F'] = True\n",
            "D and B are independent given ['G', 'H'] = False\n",
            "D and B are independent given ['G', 'E'] = False\n",
            "D and B are independent given ['G', 'A'] = False\n",
            "D and B are independent given ['G', 'C'] = True\n",
            "D and B are independent given ['G', 'F'] = False\n",
            "D and B are independent given ['H', 'E'] = False\n",
            "D and B are independent given ['H', 'A'] = False\n",
            "D and B are independent given ['H', 'C'] = True\n",
            "D and B are independent given ['H', 'F'] = False\n",
            "D and B are independent given ['E', 'A'] = False\n",
            "D and B are independent given ['E', 'C'] = True\n",
            "D and B are independent given ['E', 'F'] = False\n",
            "D and B are independent given ['A', 'C'] = True\n",
            "D and B are independent given ['A', 'F'] = False\n",
            "D and B are independent given ['C', 'F'] = True\n",
            "D and B are independent given ['G', 'H', 'E'] = False\n",
            "D and B are independent given ['G', 'H', 'A'] = False\n",
            "D and B are independent given ['G', 'H', 'C'] = True\n",
            "D and B are independent given ['G', 'H', 'F'] = False\n",
            "D and B are independent given ['G', 'E', 'A'] = False\n",
            "D and B are independent given ['G', 'E', 'C'] = True\n",
            "D and B are independent given ['G', 'E', 'F'] = False\n",
            "D and B are independent given ['G', 'A', 'C'] = True\n",
            "D and B are independent given ['G', 'A', 'F'] = False\n",
            "D and B are independent given ['G', 'C', 'F'] = True\n",
            "D and B are independent given ['H', 'E', 'A'] = False\n",
            "D and B are independent given ['H', 'E', 'C'] = True\n",
            "D and B are independent given ['H', 'E', 'F'] = False\n",
            "D and B are independent given ['H', 'A', 'C'] = True\n",
            "D and B are independent given ['H', 'A', 'F'] = False\n",
            "D and B are independent given ['H', 'C', 'F'] = True\n",
            "D and B are independent given ['E', 'A', 'C'] = True\n",
            "D and B are independent given ['E', 'A', 'F'] = False\n",
            "D and B are independent given ['E', 'C', 'F'] = True\n",
            "D and B are independent given ['A', 'C', 'F'] = True\n",
            "D and B are independent given ['G', 'H', 'E', 'A'] = False\n",
            "D and B are independent given ['G', 'H', 'E', 'C'] = True\n",
            "D and B are independent given ['G', 'H', 'E', 'F'] = False\n",
            "D and B are independent given ['G', 'H', 'A', 'C'] = True\n",
            "D and B are independent given ['G', 'H', 'A', 'F'] = False\n",
            "D and B are independent given ['G', 'H', 'C', 'F'] = True\n",
            "D and B are independent given ['G', 'E', 'A', 'C'] = True\n",
            "D and B are independent given ['G', 'E', 'A', 'F'] = False\n",
            "D and B are independent given ['G', 'E', 'C', 'F'] = True\n",
            "D and B are independent given ['G', 'A', 'C', 'F'] = True\n",
            "D and B are independent given ['H', 'E', 'A', 'C'] = True\n",
            "D and B are independent given ['H', 'E', 'A', 'F'] = False\n",
            "D and B are independent given ['H', 'E', 'C', 'F'] = True\n",
            "D and B are independent given ['H', 'A', 'C', 'F'] = True\n",
            "D and B are independent given ['E', 'A', 'C', 'F'] = True\n",
            "D and B are independent given ['G', 'H', 'E', 'A', 'C'] = True\n",
            "D and B are independent given ['G', 'H', 'E', 'A', 'F'] = False\n",
            "D and B are independent given ['G', 'H', 'E', 'C', 'F'] = True\n",
            "D and B are independent given ['G', 'H', 'A', 'C', 'F'] = True\n",
            "D and B are independent given ['G', 'E', 'A', 'C', 'F'] = True\n",
            "D and B are independent given ['H', 'E', 'A', 'C', 'F'] = True\n",
            "D and B are independent given ['G', 'H', 'E', 'A', 'C', 'F'] = True\n",
            "D and B are independent given ['G', 'H'] = False\n",
            "D and B are independent given ['G', 'E'] = False\n",
            "D and B are independent given ['G', 'A'] = False\n",
            "D and B are independent given ['G', 'C'] = True\n",
            "D and B are independent given ['G', 'F'] = False\n",
            "D and B are independent given ['H', 'E'] = False\n",
            "D and B are independent given ['H', 'A'] = False\n",
            "D and B are independent given ['H', 'C'] = True\n",
            "D and B are independent given ['H', 'F'] = False\n",
            "D and B are independent given ['E', 'A'] = False\n",
            "D and B are independent given ['E', 'C'] = True\n",
            "D and B are independent given ['E', 'F'] = False\n",
            "D and B are independent given ['A', 'C'] = True\n",
            "D and B are independent given ['A', 'F'] = False\n",
            "D and B are independent given ['C', 'F'] = True\n",
            "D and B are independent given ['G', 'H', 'E'] = False\n",
            "D and B are independent given ['G', 'H', 'A'] = False\n",
            "D and B are independent given ['G', 'H', 'C'] = True\n",
            "D and B are independent given ['G', 'H', 'F'] = False\n",
            "D and B are independent given ['G', 'E', 'A'] = False\n",
            "D and B are independent given ['G', 'E', 'C'] = True\n",
            "D and B are independent given ['G', 'E', 'F'] = False\n",
            "D and B are independent given ['G', 'A', 'C'] = True\n",
            "D and B are independent given ['G', 'A', 'F'] = False\n",
            "D and B are independent given ['G', 'C', 'F'] = True\n",
            "D and B are independent given ['H', 'E', 'A'] = False\n",
            "D and B are independent given ['H', 'E', 'C'] = True\n",
            "D and B are independent given ['H', 'E', 'F'] = False\n",
            "D and B are independent given ['H', 'A', 'C'] = True\n",
            "D and B are independent given ['H', 'A', 'F'] = False\n",
            "D and B are independent given ['H', 'C', 'F'] = True\n",
            "D and B are independent given ['E', 'A', 'C'] = True\n",
            "D and B are independent given ['E', 'A', 'F'] = False\n",
            "D and B are independent given ['E', 'C', 'F'] = True\n",
            "D and B are independent given ['A', 'C', 'F'] = True\n",
            "D and B are independent given ['G', 'H', 'E', 'A'] = False\n",
            "D and B are independent given ['G', 'H', 'E', 'C'] = True\n",
            "D and B are independent given ['G', 'H', 'E', 'F'] = False\n",
            "D and B are independent given ['G', 'H', 'A', 'C'] = True\n",
            "D and B are independent given ['G', 'H', 'A', 'F'] = False\n",
            "D and B are independent given ['G', 'H', 'C', 'F'] = True\n",
            "D and B are independent given ['G', 'E', 'A', 'C'] = True\n",
            "D and B are independent given ['G', 'E', 'A', 'F'] = False\n",
            "D and B are independent given ['G', 'E', 'C', 'F'] = True\n",
            "D and B are independent given ['G', 'A', 'C', 'F'] = True\n",
            "D and B are independent given ['H', 'E', 'A', 'C'] = True\n",
            "D and B are independent given ['H', 'E', 'A', 'F'] = False\n",
            "D and B are independent given ['H', 'E', 'C', 'F'] = True\n",
            "D and B are independent given ['H', 'A', 'C', 'F'] = True\n",
            "D and B are independent given ['E', 'A', 'C', 'F'] = True\n",
            "D and B are independent given ['G', 'H', 'E', 'A', 'C'] = True\n",
            "D and B are independent given ['G', 'H', 'E', 'A', 'F'] = False\n",
            "D and B are independent given ['G', 'H', 'E', 'C', 'F'] = True\n",
            "D and B are independent given ['G', 'H', 'A', 'C', 'F'] = True\n",
            "D and B are independent given ['G', 'E', 'A', 'C', 'F'] = True\n",
            "D and B are independent given ['H', 'E', 'A', 'C', 'F'] = True\n",
            "D and B are independent given ['G', 'H', 'E', 'A', 'C', 'F'] = True\n",
            "D and B are independent given ['G', 'H'] = False\n",
            "D and B are independent given ['G', 'E'] = False\n",
            "D and B are independent given ['G', 'A'] = False\n",
            "D and B are independent given ['G', 'C'] = True\n",
            "D and B are independent given ['G', 'F'] = False\n",
            "D and B are independent given ['H', 'E'] = False\n",
            "D and B are independent given ['H', 'A'] = False\n",
            "D and B are independent given ['H', 'C'] = True\n",
            "D and B are independent given ['H', 'F'] = False\n",
            "D and B are independent given ['E', 'A'] = False\n",
            "D and B are independent given ['E', 'C'] = True\n",
            "D and B are independent given ['E', 'F'] = False\n",
            "D and B are independent given ['A', 'C'] = True\n",
            "D and B are independent given ['A', 'F'] = False\n",
            "D and B are independent given ['C', 'F'] = True\n",
            "D and B are independent given ['G', 'H', 'E'] = False\n",
            "D and B are independent given ['G', 'H', 'A'] = False\n",
            "D and B are independent given ['G', 'H', 'C'] = True\n",
            "D and B are independent given ['G', 'H', 'F'] = False\n",
            "D and B are independent given ['G', 'E', 'A'] = False\n",
            "D and B are independent given ['G', 'E', 'C'] = True\n",
            "D and B are independent given ['G', 'E', 'F'] = False\n",
            "D and B are independent given ['G', 'A', 'C'] = True\n",
            "D and B are independent given ['G', 'A', 'F'] = False\n",
            "D and B are independent given ['G', 'C', 'F'] = True\n",
            "D and B are independent given ['H', 'E', 'A'] = False\n",
            "D and B are independent given ['H', 'E', 'C'] = True\n",
            "D and B are independent given ['H', 'E', 'F'] = False\n",
            "D and B are independent given ['H', 'A', 'C'] = True\n",
            "D and B are independent given ['H', 'A', 'F'] = False\n",
            "D and B are independent given ['H', 'C', 'F'] = True\n",
            "D and B are independent given ['E', 'A', 'C'] = True\n",
            "D and B are independent given ['E', 'A', 'F'] = False\n",
            "D and B are independent given ['E', 'C', 'F'] = True\n",
            "D and B are independent given ['A', 'C', 'F'] = True\n",
            "D and B are independent given ['G', 'H', 'E', 'A'] = False\n",
            "D and B are independent given ['G', 'H', 'E', 'C'] = True\n",
            "D and B are independent given ['G', 'H', 'E', 'F'] = False\n",
            "D and B are independent given ['G', 'H', 'A', 'C'] = True\n",
            "D and B are independent given ['G', 'H', 'A', 'F'] = False\n",
            "D and B are independent given ['G', 'H', 'C', 'F'] = True\n",
            "D and B are independent given ['G', 'E', 'A', 'C'] = True\n",
            "D and B are independent given ['G', 'E', 'A', 'F'] = False\n",
            "D and B are independent given ['G', 'E', 'C', 'F'] = True\n",
            "D and B are independent given ['G', 'A', 'C', 'F'] = True\n",
            "D and B are independent given ['H', 'E', 'A', 'C'] = True\n",
            "D and B are independent given ['H', 'E', 'A', 'F'] = False\n",
            "D and B are independent given ['H', 'E', 'C', 'F'] = True\n",
            "D and B are independent given ['H', 'A', 'C', 'F'] = True\n",
            "D and B are independent given ['E', 'A', 'C', 'F'] = True\n",
            "D and B are independent given ['G', 'H', 'E', 'A', 'C'] = True\n",
            "D and B are independent given ['G', 'H', 'E', 'A', 'F'] = False\n",
            "D and B are independent given ['G', 'H', 'E', 'C', 'F'] = True\n",
            "D and B are independent given ['G', 'H', 'A', 'C', 'F'] = True\n",
            "D and B are independent given ['G', 'E', 'A', 'C', 'F'] = True\n",
            "D and B are independent given ['H', 'E', 'A', 'C', 'F'] = True\n",
            "D and B are independent given ['G', 'H', 'E', 'A', 'C', 'F'] = True\n",
            "D and B are independent given ['G', 'H'] = False\n",
            "D and B are independent given ['G', 'E'] = False\n",
            "D and B are independent given ['G', 'A'] = False\n",
            "D and B are independent given ['G', 'C'] = True\n",
            "D and B are independent given ['G', 'F'] = False\n",
            "D and B are independent given ['H', 'E'] = False\n",
            "D and B are independent given ['H', 'A'] = False\n",
            "D and B are independent given ['H', 'C'] = True\n",
            "D and B are independent given ['H', 'F'] = False\n",
            "D and B are independent given ['E', 'A'] = False\n",
            "D and B are independent given ['E', 'C'] = True\n",
            "D and B are independent given ['E', 'F'] = False\n",
            "D and B are independent given ['A', 'C'] = True\n",
            "D and B are independent given ['A', 'F'] = False\n",
            "D and B are independent given ['C', 'F'] = True\n",
            "D and B are independent given ['G', 'H', 'E'] = False\n",
            "D and B are independent given ['G', 'H', 'A'] = False\n",
            "D and B are independent given ['G', 'H', 'C'] = True\n",
            "D and B are independent given ['G', 'H', 'F'] = False\n",
            "D and B are independent given ['G', 'E', 'A'] = False\n",
            "D and B are independent given ['G', 'E', 'C'] = True\n",
            "D and B are independent given ['G', 'E', 'F'] = False\n",
            "D and B are independent given ['G', 'A', 'C'] = True\n",
            "D and B are independent given ['G', 'A', 'F'] = False\n",
            "D and B are independent given ['G', 'C', 'F'] = True\n",
            "D and B are independent given ['H', 'E', 'A'] = False\n",
            "D and B are independent given ['H', 'E', 'C'] = True\n",
            "D and B are independent given ['H', 'E', 'F'] = False\n",
            "D and B are independent given ['H', 'A', 'C'] = True\n",
            "D and B are independent given ['H', 'A', 'F'] = False\n",
            "D and B are independent given ['H', 'C', 'F'] = True\n",
            "D and B are independent given ['E', 'A', 'C'] = True\n",
            "D and B are independent given ['E', 'A', 'F'] = False\n",
            "D and B are independent given ['E', 'C', 'F'] = True\n",
            "D and B are independent given ['A', 'C', 'F'] = True\n",
            "D and B are independent given ['G', 'H', 'E', 'A'] = False\n",
            "D and B are independent given ['G', 'H', 'E', 'C'] = True\n",
            "D and B are independent given ['G', 'H', 'E', 'F'] = False\n",
            "D and B are independent given ['G', 'H', 'A', 'C'] = True\n",
            "D and B are independent given ['G', 'H', 'A', 'F'] = False\n",
            "D and B are independent given ['G', 'H', 'C', 'F'] = True\n",
            "D and B are independent given ['G', 'E', 'A', 'C'] = True\n",
            "D and B are independent given ['G', 'E', 'A', 'F'] = False\n",
            "D and B are independent given ['G', 'E', 'C', 'F'] = True\n",
            "D and B are independent given ['G', 'A', 'C', 'F'] = True\n",
            "D and B are independent given ['H', 'E', 'A', 'C'] = True\n",
            "D and B are independent given ['H', 'E', 'A', 'F'] = False\n",
            "D and B are independent given ['H', 'E', 'C', 'F'] = True\n",
            "D and B are independent given ['H', 'A', 'C', 'F'] = True\n",
            "D and B are independent given ['E', 'A', 'C', 'F'] = True\n",
            "D and B are independent given ['G', 'H', 'E', 'A', 'C'] = True\n",
            "D and B are independent given ['G', 'H', 'E', 'A', 'F'] = False\n",
            "D and B are independent given ['G', 'H', 'E', 'C', 'F'] = True\n",
            "D and B are independent given ['G', 'H', 'A', 'C', 'F'] = True\n",
            "D and B are independent given ['G', 'E', 'A', 'C', 'F'] = True\n",
            "D and B are independent given ['H', 'E', 'A', 'C', 'F'] = True\n",
            "D and B are independent given ['G', 'H', 'E', 'A', 'C', 'F'] = True\n",
            "D and B are independent given ['G', 'H'] = False\n",
            "D and B are independent given ['G', 'E'] = False\n",
            "D and B are independent given ['G', 'A'] = False\n",
            "D and B are independent given ['G', 'C'] = True\n",
            "D and B are independent given ['G', 'F'] = False\n",
            "D and B are independent given ['H', 'E'] = False\n",
            "D and B are independent given ['H', 'A'] = False\n",
            "D and B are independent given ['H', 'C'] = True\n",
            "D and B are independent given ['H', 'F'] = False\n",
            "D and B are independent given ['E', 'A'] = False\n",
            "D and B are independent given ['E', 'C'] = True\n",
            "D and B are independent given ['E', 'F'] = False\n",
            "D and B are independent given ['A', 'C'] = True\n",
            "D and B are independent given ['A', 'F'] = False\n",
            "D and B are independent given ['C', 'F'] = True\n",
            "D and B are independent given ['G', 'H', 'E'] = False\n",
            "D and B are independent given ['G', 'H', 'A'] = False\n",
            "D and B are independent given ['G', 'H', 'C'] = True\n",
            "D and B are independent given ['G', 'H', 'F'] = False\n",
            "D and B are independent given ['G', 'E', 'A'] = False\n",
            "D and B are independent given ['G', 'E', 'C'] = True\n",
            "D and B are independent given ['G', 'E', 'F'] = False\n",
            "D and B are independent given ['G', 'A', 'C'] = True\n",
            "D and B are independent given ['G', 'A', 'F'] = False\n",
            "D and B are independent given ['G', 'C', 'F'] = True\n",
            "D and B are independent given ['H', 'E', 'A'] = False\n",
            "D and B are independent given ['H', 'E', 'C'] = True\n",
            "D and B are independent given ['H', 'E', 'F'] = False\n",
            "D and B are independent given ['H', 'A', 'C'] = True\n",
            "D and B are independent given ['H', 'A', 'F'] = False\n",
            "D and B are independent given ['H', 'C', 'F'] = True\n",
            "D and B are independent given ['E', 'A', 'C'] = True\n",
            "D and B are independent given ['E', 'A', 'F'] = False\n",
            "D and B are independent given ['E', 'C', 'F'] = True\n",
            "D and B are independent given ['A', 'C', 'F'] = True\n",
            "D and B are independent given ['G', 'H', 'E', 'A'] = False\n",
            "D and B are independent given ['G', 'H', 'E', 'C'] = True\n",
            "D and B are independent given ['G', 'H', 'E', 'F'] = False\n",
            "D and B are independent given ['G', 'H', 'A', 'C'] = True\n",
            "D and B are independent given ['G', 'H', 'A', 'F'] = False\n",
            "D and B are independent given ['G', 'H', 'C', 'F'] = True\n",
            "D and B are independent given ['G', 'E', 'A', 'C'] = True\n",
            "D and B are independent given ['G', 'E', 'A', 'F'] = False\n",
            "D and B are independent given ['G', 'E', 'C', 'F'] = True\n",
            "D and B are independent given ['G', 'A', 'C', 'F'] = True\n",
            "D and B are independent given ['H', 'E', 'A', 'C'] = True\n",
            "D and B are independent given ['H', 'E', 'A', 'F'] = False\n",
            "D and B are independent given ['H', 'E', 'C', 'F'] = True\n",
            "D and B are independent given ['H', 'A', 'C', 'F'] = True\n",
            "D and B are independent given ['E', 'A', 'C', 'F'] = True\n",
            "D and B are independent given ['G', 'H', 'E', 'A', 'C'] = True\n",
            "D and B are independent given ['G', 'H', 'E', 'A', 'F'] = False\n",
            "D and B are independent given ['G', 'H', 'E', 'C', 'F'] = True\n",
            "D and B are independent given ['G', 'H', 'A', 'C', 'F'] = True\n",
            "D and B are independent given ['G', 'E', 'A', 'C', 'F'] = True\n",
            "D and B are independent given ['H', 'E', 'A', 'C', 'F'] = True\n",
            "D and B are independent given ['G', 'H', 'E', 'A', 'C', 'F'] = True\n",
            "B and C are independent given ['G', 'D'] = False\n",
            "B and C are independent given ['G', 'H'] = False\n",
            "B and C are independent given ['G', 'E'] = False\n",
            "B and C are independent given ['G', 'A'] = False\n",
            "B and C are independent given ['G', 'F'] = False\n",
            "B and C are independent given ['D', 'H'] = False\n",
            "B and C are independent given ['D', 'E'] = False\n",
            "B and C are independent given ['D', 'A'] = False\n",
            "B and C are independent given ['D', 'F'] = False\n",
            "B and C are independent given ['H', 'E'] = False\n",
            "B and C are independent given ['H', 'A'] = False\n",
            "B and C are independent given ['H', 'F'] = False\n",
            "B and C are independent given ['E', 'A'] = False\n",
            "B and C are independent given ['E', 'F'] = False\n",
            "B and C are independent given ['A', 'F'] = False\n",
            "B and C are independent given ['G', 'D', 'H'] = False\n",
            "B and C are independent given ['G', 'D', 'E'] = False\n",
            "B and C are independent given ['G', 'D', 'A'] = False\n",
            "B and C are independent given ['G', 'D', 'F'] = False\n",
            "B and C are independent given ['G', 'H', 'E'] = False\n",
            "B and C are independent given ['G', 'H', 'A'] = False\n",
            "B and C are independent given ['G', 'H', 'F'] = False\n",
            "B and C are independent given ['G', 'E', 'A'] = False\n",
            "B and C are independent given ['G', 'E', 'F'] = False\n",
            "B and C are independent given ['G', 'A', 'F'] = False\n",
            "B and C are independent given ['D', 'H', 'E'] = False\n",
            "B and C are independent given ['D', 'H', 'A'] = False\n",
            "B and C are independent given ['D', 'H', 'F'] = False\n",
            "B and C are independent given ['D', 'E', 'A'] = False\n",
            "B and C are independent given ['D', 'E', 'F'] = False\n",
            "B and C are independent given ['D', 'A', 'F'] = False\n",
            "B and C are independent given ['H', 'E', 'A'] = False\n",
            "B and C are independent given ['H', 'E', 'F'] = False\n",
            "B and C are independent given ['H', 'A', 'F'] = False\n",
            "B and C are independent given ['E', 'A', 'F'] = False\n",
            "B and C are independent given ['G', 'D', 'H', 'E'] = False\n",
            "B and C are independent given ['G', 'D', 'H', 'A'] = False\n",
            "B and C are independent given ['G', 'D', 'H', 'F'] = False\n",
            "B and C are independent given ['G', 'D', 'E', 'A'] = False\n",
            "B and C are independent given ['G', 'D', 'E', 'F'] = False\n",
            "B and C are independent given ['G', 'D', 'A', 'F'] = False\n",
            "B and C are independent given ['G', 'H', 'E', 'A'] = False\n",
            "B and C are independent given ['G', 'H', 'E', 'F'] = False\n",
            "B and C are independent given ['G', 'H', 'A', 'F'] = False\n",
            "B and C are independent given ['G', 'E', 'A', 'F'] = False\n",
            "B and C are independent given ['D', 'H', 'E', 'A'] = False\n",
            "B and C are independent given ['D', 'H', 'E', 'F'] = False\n",
            "B and C are independent given ['D', 'H', 'A', 'F'] = False\n",
            "B and C are independent given ['D', 'E', 'A', 'F'] = False\n",
            "B and C are independent given ['H', 'E', 'A', 'F'] = False\n",
            "B and C are independent given ['G', 'D', 'H', 'E', 'A'] = False\n",
            "B and C are independent given ['G', 'D', 'H', 'E', 'F'] = False\n",
            "B and C are independent given ['G', 'D', 'H', 'A', 'F'] = False\n",
            "B and C are independent given ['G', 'D', 'E', 'A', 'F'] = False\n",
            "B and C are independent given ['G', 'H', 'E', 'A', 'F'] = False\n",
            "B and C are independent given ['D', 'H', 'E', 'A', 'F'] = False\n",
            "B and C are independent given ['G', 'D', 'H', 'E', 'A', 'F'] = False\n",
            "B and C are independent given ['G', 'D'] = False\n",
            "B and C are independent given ['G', 'H'] = False\n",
            "B and C are independent given ['G', 'E'] = False\n",
            "B and C are independent given ['G', 'A'] = False\n",
            "B and C are independent given ['G', 'F'] = False\n",
            "B and C are independent given ['D', 'H'] = False\n",
            "B and C are independent given ['D', 'E'] = False\n",
            "B and C are independent given ['D', 'A'] = False\n",
            "B and C are independent given ['D', 'F'] = False\n",
            "B and C are independent given ['H', 'E'] = False\n",
            "B and C are independent given ['H', 'A'] = False\n",
            "B and C are independent given ['H', 'F'] = False\n",
            "B and C are independent given ['E', 'A'] = False\n",
            "B and C are independent given ['E', 'F'] = False\n",
            "B and C are independent given ['A', 'F'] = False\n",
            "B and C are independent given ['G', 'D', 'H'] = False\n",
            "B and C are independent given ['G', 'D', 'E'] = False\n",
            "B and C are independent given ['G', 'D', 'A'] = False\n",
            "B and C are independent given ['G', 'D', 'F'] = False\n",
            "B and C are independent given ['G', 'H', 'E'] = False\n",
            "B and C are independent given ['G', 'H', 'A'] = False\n",
            "B and C are independent given ['G', 'H', 'F'] = False\n",
            "B and C are independent given ['G', 'E', 'A'] = False\n",
            "B and C are independent given ['G', 'E', 'F'] = False\n",
            "B and C are independent given ['G', 'A', 'F'] = False\n",
            "B and C are independent given ['D', 'H', 'E'] = False\n",
            "B and C are independent given ['D', 'H', 'A'] = False\n",
            "B and C are independent given ['D', 'H', 'F'] = False\n",
            "B and C are independent given ['D', 'E', 'A'] = False\n",
            "B and C are independent given ['D', 'E', 'F'] = False\n",
            "B and C are independent given ['D', 'A', 'F'] = False\n",
            "B and C are independent given ['H', 'E', 'A'] = False\n",
            "B and C are independent given ['H', 'E', 'F'] = False\n",
            "B and C are independent given ['H', 'A', 'F'] = False\n",
            "B and C are independent given ['E', 'A', 'F'] = False\n",
            "B and C are independent given ['G', 'D', 'H', 'E'] = False\n",
            "B and C are independent given ['G', 'D', 'H', 'A'] = False\n",
            "B and C are independent given ['G', 'D', 'H', 'F'] = False\n",
            "B and C are independent given ['G', 'D', 'E', 'A'] = False\n",
            "B and C are independent given ['G', 'D', 'E', 'F'] = False\n",
            "B and C are independent given ['G', 'D', 'A', 'F'] = False\n",
            "B and C are independent given ['G', 'H', 'E', 'A'] = False\n",
            "B and C are independent given ['G', 'H', 'E', 'F'] = False\n",
            "B and C are independent given ['G', 'H', 'A', 'F'] = False\n",
            "B and C are independent given ['G', 'E', 'A', 'F'] = False\n",
            "B and C are independent given ['D', 'H', 'E', 'A'] = False\n",
            "B and C are independent given ['D', 'H', 'E', 'F'] = False\n",
            "B and C are independent given ['D', 'H', 'A', 'F'] = False\n",
            "B and C are independent given ['D', 'E', 'A', 'F'] = False\n",
            "B and C are independent given ['H', 'E', 'A', 'F'] = False\n",
            "B and C are independent given ['G', 'D', 'H', 'E', 'A'] = False\n",
            "B and C are independent given ['G', 'D', 'H', 'E', 'F'] = False\n",
            "B and C are independent given ['G', 'D', 'H', 'A', 'F'] = False\n",
            "B and C are independent given ['G', 'D', 'E', 'A', 'F'] = False\n",
            "B and C are independent given ['G', 'H', 'E', 'A', 'F'] = False\n",
            "B and C are independent given ['D', 'H', 'E', 'A', 'F'] = False\n",
            "B and C are independent given ['G', 'D', 'H', 'E', 'A', 'F'] = False\n",
            "B and C are independent given ['G', 'D'] = False\n",
            "B and C are independent given ['G', 'H'] = False\n",
            "B and C are independent given ['G', 'E'] = False\n",
            "B and C are independent given ['G', 'A'] = False\n",
            "B and C are independent given ['G', 'F'] = False\n",
            "B and C are independent given ['D', 'H'] = False\n",
            "B and C are independent given ['D', 'E'] = False\n",
            "B and C are independent given ['D', 'A'] = False\n",
            "B and C are independent given ['D', 'F'] = False\n",
            "B and C are independent given ['H', 'E'] = False\n",
            "B and C are independent given ['H', 'A'] = False\n",
            "B and C are independent given ['H', 'F'] = False\n",
            "B and C are independent given ['E', 'A'] = False\n",
            "B and C are independent given ['E', 'F'] = False\n",
            "B and C are independent given ['A', 'F'] = False\n",
            "B and C are independent given ['G', 'D', 'H'] = False\n",
            "B and C are independent given ['G', 'D', 'E'] = False\n",
            "B and C are independent given ['G', 'D', 'A'] = False\n",
            "B and C are independent given ['G', 'D', 'F'] = False\n",
            "B and C are independent given ['G', 'H', 'E'] = False\n",
            "B and C are independent given ['G', 'H', 'A'] = False\n",
            "B and C are independent given ['G', 'H', 'F'] = False\n",
            "B and C are independent given ['G', 'E', 'A'] = False\n",
            "B and C are independent given ['G', 'E', 'F'] = False\n",
            "B and C are independent given ['G', 'A', 'F'] = False\n",
            "B and C are independent given ['D', 'H', 'E'] = False\n",
            "B and C are independent given ['D', 'H', 'A'] = False\n",
            "B and C are independent given ['D', 'H', 'F'] = False\n",
            "B and C are independent given ['D', 'E', 'A'] = False\n",
            "B and C are independent given ['D', 'E', 'F'] = False\n",
            "B and C are independent given ['D', 'A', 'F'] = False\n",
            "B and C are independent given ['H', 'E', 'A'] = False\n",
            "B and C are independent given ['H', 'E', 'F'] = False\n",
            "B and C are independent given ['H', 'A', 'F'] = False\n",
            "B and C are independent given ['E', 'A', 'F'] = False\n",
            "B and C are independent given ['G', 'D', 'H', 'E'] = False\n",
            "B and C are independent given ['G', 'D', 'H', 'A'] = False\n",
            "B and C are independent given ['G', 'D', 'H', 'F'] = False\n",
            "B and C are independent given ['G', 'D', 'E', 'A'] = False\n",
            "B and C are independent given ['G', 'D', 'E', 'F'] = False\n",
            "B and C are independent given ['G', 'D', 'A', 'F'] = False\n",
            "B and C are independent given ['G', 'H', 'E', 'A'] = False\n",
            "B and C are independent given ['G', 'H', 'E', 'F'] = False\n",
            "B and C are independent given ['G', 'H', 'A', 'F'] = False\n",
            "B and C are independent given ['G', 'E', 'A', 'F'] = False\n",
            "B and C are independent given ['D', 'H', 'E', 'A'] = False\n",
            "B and C are independent given ['D', 'H', 'E', 'F'] = False\n",
            "B and C are independent given ['D', 'H', 'A', 'F'] = False\n",
            "B and C are independent given ['D', 'E', 'A', 'F'] = False\n",
            "B and C are independent given ['H', 'E', 'A', 'F'] = False\n",
            "B and C are independent given ['G', 'D', 'H', 'E', 'A'] = False\n",
            "B and C are independent given ['G', 'D', 'H', 'E', 'F'] = False\n",
            "B and C are independent given ['G', 'D', 'H', 'A', 'F'] = False\n",
            "B and C are independent given ['G', 'D', 'E', 'A', 'F'] = False\n",
            "B and C are independent given ['G', 'H', 'E', 'A', 'F'] = False\n",
            "B and C are independent given ['D', 'H', 'E', 'A', 'F'] = False\n",
            "B and C are independent given ['G', 'D', 'H', 'E', 'A', 'F'] = False\n",
            "B and C are independent given ['G', 'D'] = False\n",
            "B and C are independent given ['G', 'H'] = False\n",
            "B and C are independent given ['G', 'E'] = False\n",
            "B and C are independent given ['G', 'A'] = False\n",
            "B and C are independent given ['G', 'F'] = False\n",
            "B and C are independent given ['D', 'H'] = False\n",
            "B and C are independent given ['D', 'E'] = False\n",
            "B and C are independent given ['D', 'A'] = False\n",
            "B and C are independent given ['D', 'F'] = False\n",
            "B and C are independent given ['H', 'E'] = False\n",
            "B and C are independent given ['H', 'A'] = False\n",
            "B and C are independent given ['H', 'F'] = False\n",
            "B and C are independent given ['E', 'A'] = False\n",
            "B and C are independent given ['E', 'F'] = False\n",
            "B and C are independent given ['A', 'F'] = False\n",
            "B and C are independent given ['G', 'D', 'H'] = False\n",
            "B and C are independent given ['G', 'D', 'E'] = False\n",
            "B and C are independent given ['G', 'D', 'A'] = False\n",
            "B and C are independent given ['G', 'D', 'F'] = False\n",
            "B and C are independent given ['G', 'H', 'E'] = False\n",
            "B and C are independent given ['G', 'H', 'A'] = False\n",
            "B and C are independent given ['G', 'H', 'F'] = False\n",
            "B and C are independent given ['G', 'E', 'A'] = False\n",
            "B and C are independent given ['G', 'E', 'F'] = False\n",
            "B and C are independent given ['G', 'A', 'F'] = False\n",
            "B and C are independent given ['D', 'H', 'E'] = False\n",
            "B and C are independent given ['D', 'H', 'A'] = False\n",
            "B and C are independent given ['D', 'H', 'F'] = False\n",
            "B and C are independent given ['D', 'E', 'A'] = False\n",
            "B and C are independent given ['D', 'E', 'F'] = False\n",
            "B and C are independent given ['D', 'A', 'F'] = False\n",
            "B and C are independent given ['H', 'E', 'A'] = False\n",
            "B and C are independent given ['H', 'E', 'F'] = False\n",
            "B and C are independent given ['H', 'A', 'F'] = False\n",
            "B and C are independent given ['E', 'A', 'F'] = False\n",
            "B and C are independent given ['G', 'D', 'H', 'E'] = False\n",
            "B and C are independent given ['G', 'D', 'H', 'A'] = False\n",
            "B and C are independent given ['G', 'D', 'H', 'F'] = False\n",
            "B and C are independent given ['G', 'D', 'E', 'A'] = False\n",
            "B and C are independent given ['G', 'D', 'E', 'F'] = False\n",
            "B and C are independent given ['G', 'D', 'A', 'F'] = False\n",
            "B and C are independent given ['G', 'H', 'E', 'A'] = False\n",
            "B and C are independent given ['G', 'H', 'E', 'F'] = False\n",
            "B and C are independent given ['G', 'H', 'A', 'F'] = False\n",
            "B and C are independent given ['G', 'E', 'A', 'F'] = False\n",
            "B and C are independent given ['D', 'H', 'E', 'A'] = False\n",
            "B and C are independent given ['D', 'H', 'E', 'F'] = False\n",
            "B and C are independent given ['D', 'H', 'A', 'F'] = False\n",
            "B and C are independent given ['D', 'E', 'A', 'F'] = False\n",
            "B and C are independent given ['H', 'E', 'A', 'F'] = False\n",
            "B and C are independent given ['G', 'D', 'H', 'E', 'A'] = False\n",
            "B and C are independent given ['G', 'D', 'H', 'E', 'F'] = False\n",
            "B and C are independent given ['G', 'D', 'H', 'A', 'F'] = False\n",
            "B and C are independent given ['G', 'D', 'E', 'A', 'F'] = False\n",
            "B and C are independent given ['G', 'H', 'E', 'A', 'F'] = False\n",
            "B and C are independent given ['D', 'H', 'E', 'A', 'F'] = False\n",
            "B and C are independent given ['G', 'D', 'H', 'E', 'A', 'F'] = False\n",
            "B and C are independent given ['G', 'D'] = False\n",
            "B and C are independent given ['G', 'H'] = False\n",
            "B and C are independent given ['G', 'E'] = False\n",
            "B and C are independent given ['G', 'A'] = False\n",
            "B and C are independent given ['G', 'F'] = False\n",
            "B and C are independent given ['D', 'H'] = False\n",
            "B and C are independent given ['D', 'E'] = False\n",
            "B and C are independent given ['D', 'A'] = False\n",
            "B and C are independent given ['D', 'F'] = False\n",
            "B and C are independent given ['H', 'E'] = False\n",
            "B and C are independent given ['H', 'A'] = False\n",
            "B and C are independent given ['H', 'F'] = False\n",
            "B and C are independent given ['E', 'A'] = False\n",
            "B and C are independent given ['E', 'F'] = False\n",
            "B and C are independent given ['A', 'F'] = False\n",
            "B and C are independent given ['G', 'D', 'H'] = False\n",
            "B and C are independent given ['G', 'D', 'E'] = False\n",
            "B and C are independent given ['G', 'D', 'A'] = False\n",
            "B and C are independent given ['G', 'D', 'F'] = False\n",
            "B and C are independent given ['G', 'H', 'E'] = False\n",
            "B and C are independent given ['G', 'H', 'A'] = False\n",
            "B and C are independent given ['G', 'H', 'F'] = False\n",
            "B and C are independent given ['G', 'E', 'A'] = False\n",
            "B and C are independent given ['G', 'E', 'F'] = False\n",
            "B and C are independent given ['G', 'A', 'F'] = False\n",
            "B and C are independent given ['D', 'H', 'E'] = False\n",
            "B and C are independent given ['D', 'H', 'A'] = False\n",
            "B and C are independent given ['D', 'H', 'F'] = False\n",
            "B and C are independent given ['D', 'E', 'A'] = False\n",
            "B and C are independent given ['D', 'E', 'F'] = False\n",
            "B and C are independent given ['D', 'A', 'F'] = False\n",
            "B and C are independent given ['H', 'E', 'A'] = False\n",
            "B and C are independent given ['H', 'E', 'F'] = False\n",
            "B and C are independent given ['H', 'A', 'F'] = False\n",
            "B and C are independent given ['E', 'A', 'F'] = False\n",
            "B and C are independent given ['G', 'D', 'H', 'E'] = False\n",
            "B and C are independent given ['G', 'D', 'H', 'A'] = False\n",
            "B and C are independent given ['G', 'D', 'H', 'F'] = False\n",
            "B and C are independent given ['G', 'D', 'E', 'A'] = False\n",
            "B and C are independent given ['G', 'D', 'E', 'F'] = False\n",
            "B and C are independent given ['G', 'D', 'A', 'F'] = False\n",
            "B and C are independent given ['G', 'H', 'E', 'A'] = False\n",
            "B and C are independent given ['G', 'H', 'E', 'F'] = False\n",
            "B and C are independent given ['G', 'H', 'A', 'F'] = False\n",
            "B and C are independent given ['G', 'E', 'A', 'F'] = False\n",
            "B and C are independent given ['D', 'H', 'E', 'A'] = False\n",
            "B and C are independent given ['D', 'H', 'E', 'F'] = False\n",
            "B and C are independent given ['D', 'H', 'A', 'F'] = False\n",
            "B and C are independent given ['D', 'E', 'A', 'F'] = False\n",
            "B and C are independent given ['H', 'E', 'A', 'F'] = False\n",
            "B and C are independent given ['G', 'D', 'H', 'E', 'A'] = False\n",
            "B and C are independent given ['G', 'D', 'H', 'E', 'F'] = False\n",
            "B and C are independent given ['G', 'D', 'H', 'A', 'F'] = False\n",
            "B and C are independent given ['G', 'D', 'E', 'A', 'F'] = False\n",
            "B and C are independent given ['G', 'H', 'E', 'A', 'F'] = False\n",
            "B and C are independent given ['D', 'H', 'E', 'A', 'F'] = False\n",
            "B and C are independent given ['G', 'D', 'H', 'E', 'A', 'F'] = False\n",
            "B and C are independent given ['G', 'D'] = False\n",
            "B and C are independent given ['G', 'H'] = False\n",
            "B and C are independent given ['G', 'E'] = False\n",
            "B and C are independent given ['G', 'A'] = False\n",
            "B and C are independent given ['G', 'F'] = False\n",
            "B and C are independent given ['D', 'H'] = False\n",
            "B and C are independent given ['D', 'E'] = False\n",
            "B and C are independent given ['D', 'A'] = False\n",
            "B and C are independent given ['D', 'F'] = False\n",
            "B and C are independent given ['H', 'E'] = False\n",
            "B and C are independent given ['H', 'A'] = False\n",
            "B and C are independent given ['H', 'F'] = False\n",
            "B and C are independent given ['E', 'A'] = False\n",
            "B and C are independent given ['E', 'F'] = False\n",
            "B and C are independent given ['A', 'F'] = False\n",
            "B and C are independent given ['G', 'D', 'H'] = False\n",
            "B and C are independent given ['G', 'D', 'E'] = False\n",
            "B and C are independent given ['G', 'D', 'A'] = False\n",
            "B and C are independent given ['G', 'D', 'F'] = False\n",
            "B and C are independent given ['G', 'H', 'E'] = False\n",
            "B and C are independent given ['G', 'H', 'A'] = False\n",
            "B and C are independent given ['G', 'H', 'F'] = False\n",
            "B and C are independent given ['G', 'E', 'A'] = False\n",
            "B and C are independent given ['G', 'E', 'F'] = False\n",
            "B and C are independent given ['G', 'A', 'F'] = False\n",
            "B and C are independent given ['D', 'H', 'E'] = False\n",
            "B and C are independent given ['D', 'H', 'A'] = False\n",
            "B and C are independent given ['D', 'H', 'F'] = False\n",
            "B and C are independent given ['D', 'E', 'A'] = False\n",
            "B and C are independent given ['D', 'E', 'F'] = False\n",
            "B and C are independent given ['D', 'A', 'F'] = False\n",
            "B and C are independent given ['H', 'E', 'A'] = False\n",
            "B and C are independent given ['H', 'E', 'F'] = False\n",
            "B and C are independent given ['H', 'A', 'F'] = False\n",
            "B and C are independent given ['E', 'A', 'F'] = False\n",
            "B and C are independent given ['G', 'D', 'H', 'E'] = False\n",
            "B and C are independent given ['G', 'D', 'H', 'A'] = False\n",
            "B and C are independent given ['G', 'D', 'H', 'F'] = False\n",
            "B and C are independent given ['G', 'D', 'E', 'A'] = False\n",
            "B and C are independent given ['G', 'D', 'E', 'F'] = False\n",
            "B and C are independent given ['G', 'D', 'A', 'F'] = False\n",
            "B and C are independent given ['G', 'H', 'E', 'A'] = False\n",
            "B and C are independent given ['G', 'H', 'E', 'F'] = False\n",
            "B and C are independent given ['G', 'H', 'A', 'F'] = False\n",
            "B and C are independent given ['G', 'E', 'A', 'F'] = False\n",
            "B and C are independent given ['D', 'H', 'E', 'A'] = False\n",
            "B and C are independent given ['D', 'H', 'E', 'F'] = False\n",
            "B and C are independent given ['D', 'H', 'A', 'F'] = False\n",
            "B and C are independent given ['D', 'E', 'A', 'F'] = False\n",
            "B and C are independent given ['H', 'E', 'A', 'F'] = False\n",
            "B and C are independent given ['G', 'D', 'H', 'E', 'A'] = False\n",
            "B and C are independent given ['G', 'D', 'H', 'E', 'F'] = False\n",
            "B and C are independent given ['G', 'D', 'H', 'A', 'F'] = False\n",
            "B and C are independent given ['G', 'D', 'E', 'A', 'F'] = False\n",
            "B and C are independent given ['G', 'H', 'E', 'A', 'F'] = False\n",
            "B and C are independent given ['D', 'H', 'E', 'A', 'F'] = False\n",
            "B and C are independent given ['G', 'D', 'H', 'E', 'A', 'F'] = False\n",
            "B and F are independent given ['G', 'C'] = False\n",
            "B and F are independent given ['G', 'D'] = False\n",
            "B and F are independent given ['C', 'D'] = False\n",
            "B and F are independent given ['G', 'C', 'D'] = False\n",
            "B and F are independent given ['G', 'C'] = False\n",
            "B and F are independent given ['G', 'D'] = False\n",
            "B and F are independent given ['C', 'D'] = False\n",
            "B and F are independent given ['G', 'C', 'D'] = False\n",
            "B and F are independent given ['G', 'C'] = False\n",
            "B and F are independent given ['G', 'D'] = False\n",
            "B and F are independent given ['C', 'D'] = False\n",
            "B and F are independent given ['G', 'C', 'D'] = False\n",
            "B and G are independent given ['D', 'C'] = False\n",
            "B and G are independent given ['D', 'F'] = True\n",
            "B and G are independent given ['C', 'F'] = True\n",
            "B and G are independent given ['D', 'C', 'F'] = True\n",
            "B and G are independent given ['D', 'C'] = False\n",
            "B and G are independent given ['D', 'F'] = True\n",
            "B and G are independent given ['C', 'F'] = True\n",
            "B and G are independent given ['D', 'C', 'F'] = True\n",
            "B and G are independent given ['D', 'C'] = False\n",
            "B and G are independent given ['D', 'F'] = True\n",
            "B and G are independent given ['C', 'F'] = True\n",
            "B and G are independent given ['D', 'C', 'F'] = True\n",
            "F and G are independent given ['B'] = False\n",
            "time: 38min 40s (started: 2022-10-23 20:25:06 +00:00)\n"
          ]
        }
      ]
    },
    {
      "cell_type": "markdown",
      "source": [
        "Now I store independent connected edges in order to remove them from graph.\n",
        "So... another 40 minutes... :)"
      ],
      "metadata": {
        "id": "BrzLmaZ8gK10"
      }
    },
    {
      "cell_type": "code",
      "source": [
        "indep_vars_cond = []\n",
        "for var_1, var_2, cond_var in combinations:\n",
        "  for cond in conds_dict[var_1, var_2]:\n",
        "    if is_cond_independent(data_df, var_1, var_2, cond) == True:\n",
        "      indep_vars_cond.append((var_1, var_2))"
      ],
      "metadata": {
        "colab": {
          "base_uri": "https://localhost:8080/"
        },
        "id": "auFO6U8GxQag",
        "outputId": "cb3921d0-bb47-4e94-8bf8-feae90bc126c"
      },
      "execution_count": null,
      "outputs": [
        {
          "output_type": "stream",
          "name": "stdout",
          "text": [
            "time: 37min 48s (started: 2022-10-23 21:03:46 +00:00)\n"
          ]
        }
      ]
    },
    {
      "cell_type": "code",
      "source": [
        "%unload_ext autotime"
      ],
      "metadata": {
        "id": "EJTNShhUEv6p"
      },
      "execution_count": null,
      "outputs": []
    },
    {
      "cell_type": "code",
      "source": [
        "indep_vars_cond = list(set(indep_vars_cond))"
      ],
      "metadata": {
        "id": "_j2pG1QFJ7qw"
      },
      "execution_count": null,
      "outputs": []
    },
    {
      "cell_type": "code",
      "source": [
        "indep_vars_cond"
      ],
      "metadata": {
        "colab": {
          "base_uri": "https://localhost:8080/"
        },
        "id": "Lhjk_D9ziMq4",
        "outputId": "10fe16c0-22cd-4b38-c843-46e30f7153cb"
      },
      "execution_count": null,
      "outputs": [
        {
          "output_type": "execute_result",
          "data": {
            "text/plain": [
              "[('E', 'C'),\n",
              " ('E', 'D'),\n",
              " ('A', 'H'),\n",
              " ('E', 'H'),\n",
              " ('B', 'G'),\n",
              " ('A', 'D'),\n",
              " ('D', 'B'),\n",
              " ('H', 'C')]"
            ]
          },
          "metadata": {},
          "execution_count": 50
        }
      ]
    },
    {
      "cell_type": "code",
      "source": [],
      "metadata": {
        "id": "WUzwRVv-p4_L"
      },
      "execution_count": null,
      "outputs": []
    },
    {
      "cell_type": "markdown",
      "source": [
        "\n",
        "\n",
        "```\n",
        "indep_vars_cond = [('E', 'C'),\n",
        " ('E', 'D'),\n",
        " ('E', 'H'),\n",
        " ('D', 'B'),\n",
        " ('A', 'H'),\n",
        " ('B', 'G'),\n",
        " ('H', 'C'),\n",
        " ('A', 'D')]\n",
        "```\n",
        "\n"
      ],
      "metadata": {
        "id": "8PkMmjSyg3rQ"
      }
    },
    {
      "cell_type": "code",
      "source": [
        "set(indep_vars_cond) == set(indep_vars_cond_1)"
      ],
      "metadata": {
        "colab": {
          "base_uri": "https://localhost:8080/"
        },
        "id": "H4Ed0vycbHrd",
        "outputId": "34d2122b-f245-4b28-ffe5-3a7d48e8058a"
      },
      "execution_count": null,
      "outputs": [
        {
          "output_type": "execute_result",
          "data": {
            "text/plain": [
              "True"
            ]
          },
          "metadata": {},
          "execution_count": 51
        }
      ]
    },
    {
      "cell_type": "code",
      "source": [
        "list(set(indep_vars_cond) - set(indep_vars_cond_1) - set(indep_vars))"
      ],
      "metadata": {
        "colab": {
          "base_uri": "https://localhost:8080/"
        },
        "id": "IWUqQJqFfA0S",
        "outputId": "56cc8e52-6fcc-44d0-90eb-07eafb3b7c27"
      },
      "execution_count": null,
      "outputs": [
        {
          "output_type": "execute_result",
          "data": {
            "text/plain": [
              "[]"
            ]
          },
          "metadata": {},
          "execution_count": 52
        }
      ]
    },
    {
      "cell_type": "markdown",
      "source": [
        "I conclude that conditioning on one variable sufficed for our example, as conditioning on more variables didn't yield anymore pair of independent edges."
      ],
      "metadata": {
        "id": "Uqzu7puGqmgB"
      }
    },
    {
      "cell_type": "markdown",
      "source": [
        "## Step 5. Search for v-structure"
      ],
      "metadata": {
        "id": "QMX4LdmRztdj"
      }
    },
    {
      "cell_type": "code",
      "source": [
        "plt.figure(figsize=(5, 3))\n",
        "nx.draw(G, pos=nodes_pos, with_labels=True, font_weight='bold')"
      ],
      "metadata": {
        "colab": {
          "base_uri": "https://localhost:8080/",
          "height": 247
        },
        "id": "MNGXJi3JzwqF",
        "outputId": "a663667d-3365-474e-904d-c40f9b333755"
      },
      "execution_count": null,
      "outputs": [
        {
          "output_type": "display_data",
          "data": {
            "text/plain": [
              "<Figure size 360x216 with 1 Axes>"
            ],
            "image/png": "[encoded data removed]"
          },
          "metadata": {}
        }
      ]
    },
    {
      "cell_type": "markdown",
      "source": [
        "We consider the following cases:\n",
        "1. $E - A - C$:\n",
        "\n",
        "$A$ was conditioned on in eliminating the\n",
        "$E-C$ edge, therefore we shouldn't have a inverted fork.\n",
        "\n",
        "2. $C - D - H$\n",
        "\n",
        "$D$ was conditioned on in eliminating the\n",
        "$H-C$ edge, therefore we shouldn't have a inverted fork.\n",
        "\n",
        "\n",
        "3. $A - C - D$\n",
        "\n",
        "$C$ was conditioned on in eliminating the\n",
        "$E-C$ edge, therefore we shouldn't have a inverted fork.\n",
        "\n",
        "\n",
        "4. $B - F - G$\n",
        "\n",
        "$C$ was conditioned on in eliminating the\n",
        "$E-C$ edge, therefore we shouldn't have a inverted fork.\n"
      ],
      "metadata": {
        "id": "9Na3o_Brq4rE"
      }
    },
    {
      "cell_type": "code",
      "source": [
        "G.edges"
      ],
      "metadata": {
        "colab": {
          "base_uri": "https://localhost:8080/"
        },
        "id": "R1XU2WGY2YWq",
        "outputId": "339b0141-fc66-473c-bd79-9cabc1aa4d07"
      },
      "execution_count": null,
      "outputs": [
        {
          "output_type": "execute_result",
          "data": {
            "text/plain": [
              "EdgeView([('A', 'C'), ('A', 'E'), ('B', 'C'), ('B', 'F'), ('C', 'D'), ('D', 'H'), ('F', 'G')])"
            ]
          },
          "metadata": {},
          "execution_count": 54
        }
      ]
    },
    {
      "cell_type": "code",
      "source": [
        "list(G.adjacency())"
      ],
      "metadata": {
        "colab": {
          "base_uri": "https://localhost:8080/"
        },
        "id": "RtKdYSSA2yhP",
        "outputId": "7dd11924-6271-4d95-b456-6236b0f3ee0c"
      },
      "execution_count": null,
      "outputs": [
        {
          "output_type": "execute_result",
          "data": {
            "text/plain": [
              "[('A', {'C': {}, 'E': {}}),\n",
              " ('B', {'C': {}, 'F': {}}),\n",
              " ('C', {'A': {}, 'B': {}, 'D': {}}),\n",
              " ('D', {'C': {}, 'H': {}}),\n",
              " ('E', {'A': {}}),\n",
              " ('F', {'B': {}, 'G': {}}),\n",
              " ('G', {'F': {}}),\n",
              " ('H', {'D': {}})]"
            ]
          },
          "metadata": {},
          "execution_count": 55
        }
      ]
    },
    {
      "cell_type": "markdown",
      "source": [
        "No V-structure was found in the graph. \n",
        "And algorithm doesn't tell more about how to orient the edges."
      ],
      "metadata": {
        "id": "pQBjlkQqD34V"
      }
    },
    {
      "cell_type": "markdown",
      "source": [
        "Anyway, I depict some examples of variants of how we can orient the graph while satisfying no V-structure condition I set:"
      ],
      "metadata": {
        "id": "tkG24pI0EBTb"
      }
    },
    {
      "cell_type": "code",
      "source": [
        "DG = nx.DiGraph()\n",
        "DG.add_nodes_from(G.nodes)\n",
        "DG.add_edges_from(G.edges)\n",
        "\n",
        "plt.figure(figsize=(5, 3))\n",
        "nx.draw(DG, pos=nodes_pos, with_labels=True, font_weight='bold')"
      ],
      "metadata": {
        "colab": {
          "base_uri": "https://localhost:8080/",
          "height": 247
        },
        "id": "NRfribJf3lME",
        "outputId": "acb6fda3-6549-4570-f087-23f64c0bc1ed"
      },
      "execution_count": null,
      "outputs": [
        {
          "output_type": "display_data",
          "data": {
            "text/plain": [
              "<Figure size 360x216 with 1 Axes>"
            ],
            "image/png": "[encoded data removed]"
          },
          "metadata": {}
        }
      ]
    },
    {
      "cell_type": "markdown",
      "source": [
        "In this case we have a fork $E-A-C$ and a chain $A - C -D - H$.\n",
        "\n",
        "Also we have the chain $B - F - G$."
      ],
      "metadata": {
        "id": "Ica98FezDSNi"
      }
    },
    {
      "cell_type": "code",
      "source": [
        "DG.edges"
      ],
      "metadata": {
        "colab": {
          "base_uri": "https://localhost:8080/"
        },
        "id": "aHlQ3hJY6FPO",
        "outputId": "defd5fc2-7190-4a77-85da-f274431b3f3f"
      },
      "execution_count": null,
      "outputs": [
        {
          "output_type": "execute_result",
          "data": {
            "text/plain": [
              "OutEdgeView([('A', 'C'), ('A', 'E'), ('B', 'C'), ('B', 'F'), ('C', 'D'), ('D', 'H'), ('F', 'G')])"
            ]
          },
          "metadata": {},
          "execution_count": 57
        }
      ]
    },
    {
      "cell_type": "markdown",
      "source": [
        "Another example:\n"
      ],
      "metadata": {
        "id": "ultOYTzECrk4"
      }
    },
    {
      "cell_type": "code",
      "source": [
        "DG.remove_edge('A', 'E')\n",
        "DG.add_edge('E', 'A')\n",
        "\n",
        "DG.remove_edge('B', 'F')\n",
        "DG.add_edge('F', 'B')\n",
        "\n",
        "DG.remove_edge('F', 'G')\n",
        "DG.add_edge('G', 'F')\n"
      ],
      "metadata": {
        "id": "D0XpWXk04mpw"
      },
      "execution_count": null,
      "outputs": []
    },
    {
      "cell_type": "code",
      "source": [
        "\n",
        "plt.figure(figsize=(5, 3))\n",
        "nx.draw(DG, pos=nodes_pos, with_labels=True, font_weight='bold')"
      ],
      "metadata": {
        "colab": {
          "base_uri": "https://localhost:8080/",
          "height": 247
        },
        "id": "_MHs3qb34yA9",
        "outputId": "a2f7a706-9040-4920-ab58-e88698065a6d"
      },
      "execution_count": null,
      "outputs": [
        {
          "output_type": "display_data",
          "data": {
            "text/plain": [
              "<Figure size 360x216 with 1 Axes>"
            ],
            "image/png": "[encoded data removed]"
          },
          "metadata": {}
        }
      ]
    },
    {
      "cell_type": "markdown",
      "source": [
        "In this case we have a chain $E - A - C - D -H$.\n",
        "And also a chain $G - F -B$"
      ],
      "metadata": {
        "id": "jz7PjQ-Q6mqT"
      }
    },
    {
      "cell_type": "markdown",
      "source": [
        "If these examples have the same causal structure, then all can be accepted. "
      ],
      "metadata": {
        "id": "HJRMu_FMkc5s"
      }
    },
    {
      "cell_type": "code",
      "source": [],
      "metadata": {
        "id": "NTJk8ejVkkzG"
      },
      "execution_count": null,
      "outputs": []
    }
  ]
}